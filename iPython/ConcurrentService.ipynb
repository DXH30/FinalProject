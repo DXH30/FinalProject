{
 "cells": [
  {
   "cell_type": "code",
   "execution_count": 6,
   "metadata": {},
   "outputs": [
    {
     "name": "stdout",
     "output_type": "stream",
     "text": [
      "['300.pcap', '400.pcap', '500.pcap', '600.pcap', '700.pcap', '800.pcap', '900.pcap', 'rbot.pcap', 'neris.pcap', 'snort.log.1576438660.pcap', 'snort.log.1576438833.pcap', 'svchosta.pcap']\n",
      "Data yang terbaru adalah svchosta.pcap\n",
      "Data yang terlama adalah 300.pcap\n"
     ]
    }
   ],
   "source": [
    "from stat import S_ISREG, ST_CTIME, ST_MODE\n",
    "import os, sys, time, re, shutil, json\n",
    "from flask import Flask, render_template\n",
    "dirpath = '/mnt/sda4/Project/FinalProject/flask/dataset'\n",
    "os.chdir(dirpath)\n",
    "dataset = []\n",
    "listfil = sorted(filter(os.path.isfile, os.listdir('.')), key=os.path.getmtime)\n",
    "for file in listfil:\n",
    "    z = re.match(\"(.+.pcap)\",file)\n",
    "    if z:\n",
    "        dataset.append(file)\n",
    "print(dataset)\n",
    "# Sebelum data di proses, data harus di download terlebih dahulu\n",
    "# Setelah data di download, langsung balik ke menu awal (halaman awal)\n",
    "# Setelah balik ke halaman awal, ada halaman hasil\n",
    "# Ditunggu sampai hasilnya di dapatkan\n",
    "# Caranya adalah data yang sudah di download akan di proses oleh data concurrent prosesor\n",
    "# Untuk setiap datanya akan di proses yang paling lama diproses paling pertama\n",
    "# Yang paling baru diproses paling terakhir\n",
    "print(\"Data yang terbaru adalah\", dataset[len(dataset)-1])\n",
    "print(\"Data yang terlama adalah\", dataset[0])\n",
    "# Keluarkan status setelah data di proses (dilist)\n",
    "\n",
    "def proses(data):\n",
    "    # Fungsi ini harus dijalankan pertama kali setelah data di upload\n",
    "    # Buat directory dengan nama file yang dihilangkan pcapnya\n",
    "    dirname = re.sub(r'.pcap','',data)\n",
    "    if(os.path.exists(dirname)):\n",
    "        print('directory sudah ada')\n",
    "    else:\n",
    "        print('Membuat file status')\n",
    "        with open(dirname+'.status', 'w') as outfile:\n",
    "            print('Inisialisasi status 0: belum di analisis...')\n",
    "            outfile.write('0')\n",
    "        print('directory tidak ada')\n",
    "        print('membuat directory..')\n",
    "        os.mkdir(dirname)\n",
    "        print(dirname+\" Telah di buat\")\n",
    "        print('membuat directory CNN..')\n",
    "        os.mkdir(dirname+'/CNN')\n",
    "        print(dirname+'/CNN'+\" Telah di buat\")\n",
    "        print('membuat directory LSTM..')\n",
    "        os.mkdir(dirname+'/LSTM')\n",
    "        print(dirname+'/LSTM'+\" Telah di buat\")\n",
    "\n",
    "def hapus(data):\n",
    "    # Hapus data pcap\n",
    "    print('Menghapus '+data+'...')\n",
    "    try:\n",
    "        os.remove(data)\n",
    "        print(data+' terhapus!')\n",
    "    except Exception as e: \n",
    "        print(e)\n",
    "    # Hapus directory\n",
    "    dirname = re.sub(r'.pcap','',data)\n",
    "    print('Menghapus '+dirname+'...')\n",
    "    try:\n",
    "        shutil.rmtree(dirname)\n",
    "        print(dirname+' terhapus!')\n",
    "    except Exception as e:\n",
    "        print(e)\n",
    "    # Hapus status\n",
    "    try:\n",
    "        os.remove(dirname+'.status')\n",
    "        print(dirname+'.status terhapus')\n",
    "    except Exception as e:\n",
    "        print(e)\n",
    "\n",
    "def hilang(data, daftar):\n",
    "    # Mxehgapus semua yang berkaitan dengan data\n",
    "    hapus(data)\n",
    "    # Menghapus data dari list daftar\n",
    "    daftar.remove(data)\n",
    "    # Mengembalikan nilai daftar\n",
    "    return daftar\n",
    "\n",
    "def resettest(dataset):\n",
    "    for i in dataset:\n",
    "        a = re.sub(r'.pcap','',i)\n",
    "        print(\"Menghapus direktori \"+a+\"...\")\n",
    "        shutil.rmtree(a)\n",
    "        print(\"Direktori \"+a+\" sudah terhapus\")\n",
    "        print(\"Mereset status menjadi 0 kembali...\")\n",
    "        with open(a+'.status','w') as tulis:\n",
    "            tulis.write('0')\n",
    "        print(\"Status sudah direset menjadi 0\")\n",
    "    \n",
    "def bacastatus(data):\n",
    "    statusname = re.sub(r'.pcap','.status',data)\n",
    "    with open(statusname) as bacaan:\n",
    "        status = bacaan.read()\n",
    "    if (status == '2'):\n",
    "        print(\"Sudah di analisis\")\n",
    "    elif (status == '1'):\n",
    "        print(\"Sedang di analisis\")\n",
    "    elif (status == '0'):\n",
    "        print(\"Belum di analisis\")\n",
    "    else:\n",
    "        print(\"Status \"+status+\": Tidak diketahui\")\n",
    "\n",
    "# Menulis dataset setiap kali upload data pcap\n",
    "with open('dataset.json', 'w') as outfile:\n",
    "    json.dump(dataset, outfile)\n",
    "\n",
    "# Membaca dataset setiap kali upload data pcap ini dibaca oleh main service untuk mengecek apakah\n",
    "# Data sudah ada atau tidak\n",
    "# Data pcap akan diantrikan di program ini untuk mendapatkan hasilnya\n",
    "# Setelah antrian selesai maka hasil pemrosesan data dapat langsung diperoleh di halaman yang dapat diakses\n",
    "# Jika status menandakan sudah selsai hasil pemrosesannya\n",
    "with open('dataset.json') as json_file:\n",
    "    dataout = json.load(json_file)"
   ]
  },
  {
   "cell_type": "code",
   "execution_count": 10,
   "metadata": {},
   "outputs": [
    {
     "name": "stdout",
     "output_type": "stream",
     "text": [
      "Menghapus snort.log.1576438833.pcap...\n",
      "snort.log.1576438833.pcap terhapus!\n",
      "Menghapus snort.log.1576438833...\n",
      "snort.log.1576438833 terhapus!\n",
      "snort.log.1576438833.status terhapus\n"
     ]
    },
    {
     "data": {
      "text/plain": [
       "['300.pcap',\n",
       " '400.pcap',\n",
       " '500.pcap',\n",
       " '600.pcap',\n",
       " '700.pcap',\n",
       " '800.pcap',\n",
       " '900.pcap',\n",
       " 'rbot.pcap',\n",
       " 'neris.pcap',\n",
       " 'snort.log.1576438660.pcap',\n",
       " 'svchosta.pcap']"
      ]
     },
     "execution_count": 10,
     "metadata": {},
     "output_type": "execute_result"
    }
   ],
   "source": [
    "hilang(dataset[len(dataset)-2], dataset)"
   ]
  },
  {
   "cell_type": "code",
   "execution_count": 146,
   "metadata": {},
   "outputs": [
    {
     "name": "stdout",
     "output_type": "stream",
     "text": [
      "['300.pcap', '400.pcap', '500.pcap', '600.pcap', '700.pcap', '800.pcap', '900.pcap', 'rbot.pcap', 'neris.pcap', 'snort.log.1576438660.pcap', 'snort.log.1576438833.pcap']\n"
     ]
    }
   ],
   "source": [
    "os.listdir('dataset')\n",
    "\n",
    "dataset = []\n",
    "os.chdir('./dataset')\n",
    "listfil = sorted(filter(os.path.isfile, os.listdir('.')), key=os.path.getmtime)\n",
    "for file in listfil:\n",
    "    z = re.match(\"(.+.pcap)\",file)\n",
    "    if z:\n",
    "        dataset.append(file)\n",
    "print(dataset)\n",
    "os.chdir(owd)"
   ]
  },
  {
   "cell_type": "code",
   "execution_count": 82,
   "metadata": {},
   "outputs": [
    {
     "name": "stdout",
     "output_type": "stream",
     "text": [
      "300.pcap\n",
      "400.pcap\n",
      "500.pcap\n",
      "600.pcap\n",
      "700.pcap\n",
      "800.pcap\n",
      "900.pcap\n",
      "abc.pcap\n",
      "123.pcap\n"
     ]
    }
   ],
   "source": [
    "for file in listfil:\n",
    "    z = re.match(\"(\\w+.pcap)\",file)\n",
    "    if z:\n",
    "        print(file)"
   ]
  },
  {
   "cell_type": "code",
   "execution_count": 68,
   "metadata": {},
   "outputs": [
    {
     "name": "stderr",
     "output_type": "stream",
     "text": [
      " * Running on http://127.0.0.1:5000/ (Press CTRL+C to quit)\n",
      "127.0.0.1 - - [15/Dec/2019 21:26:51] \"\u001b[37mGET /summary HTTP/1.1\u001b[0m\" 200 -\n"
     ]
    }
   ],
   "source": [
    "from flask import Flask, jsonify\n",
    "app = Flask(__name__)\n",
    "@app.route('/summary')\n",
    "def summary():\n",
    "    return jsonify(dataset)\n",
    "if __name__ == '__main__':\n",
    "    app.run()"
   ]
  },
  {
   "cell_type": "code",
   "execution_count": 109,
   "metadata": {},
   "outputs": [
    {
     "data": {
      "text/plain": [
       "'300.pcap'"
      ]
     },
     "execution_count": 109,
     "metadata": {},
     "output_type": "execute_result"
    }
   ],
   "source": [
    "json.loads(b'[[\"300.pcap\",\"2\"],[\"400.pcap\",\"2\"],[\"500.pcap\",\"2\"],[\"600.pcap\",\"2\"],[\"700.pcap\",\"2\"],[\"800.pcap\",\"2\"],[\"900.pcap\",\"2\"],[\"rbot.pcap\",\"2\"],[\"neris.pcap\",\"2\"]]')[0][0]"
   ]
  },
  {
   "cell_type": "code",
   "execution_count": 126,
   "metadata": {},
   "outputs": [
    {
     "name": "stdout",
     "output_type": "stream",
     "text": [
      "Menyalin file dari test ke dataset...\n",
      "test/snort.log.1576438660 telah disalin ke dataset/snort.log.1576438660.pcap\n",
      "Menyalin file dari test ke dataset...\n",
      "test/snort.log.1576438833 telah disalin ke dataset/snort.log.1576438833.pcap\n"
     ]
    },
    {
     "data": {
      "text/plain": [
       "['.executor.py.swp',\n",
       " '300',\n",
       " '300.pcap',\n",
       " '300.status',\n",
       " '400',\n",
       " '400.pcap',\n",
       " '400.status',\n",
       " '500',\n",
       " '500.pcap',\n",
       " '500.status',\n",
       " '600',\n",
       " '600.pcap',\n",
       " '600.status',\n",
       " '700',\n",
       " '700.pcap',\n",
       " '700.status',\n",
       " '800',\n",
       " '800.pcap',\n",
       " '800.status',\n",
       " '900',\n",
       " '900.pcap',\n",
       " '900.status',\n",
       " 'dataset.json',\n",
       " 'executor.py',\n",
       " 'neris',\n",
       " 'neris.pcap',\n",
       " 'neris.status',\n",
       " 'rbot',\n",
       " 'rbot.pcap',\n",
       " 'rbot.status',\n",
       " 'snort.log.1576438660.pcap',\n",
       " 'snort.log.1576438833.pcap']"
      ]
     },
     "execution_count": 126,
     "metadata": {},
     "output_type": "execute_result"
    }
   ],
   "source": [
    "owd = os.getcwd()\n",
    "listsnort = os.listdir('test')\n",
    "for i in listsnort:\n",
    "    a = re.sub(r'$','.pcap',i)\n",
    "    print(\"Menyalin file dari test ke dataset...\")\n",
    "    shutil.copyfile(\"test/\"+i,\"dataset/\"+a)\n",
    "    print(\"test/\"+i+\" telah disalin ke dataset/\"+a)\n",
    "os.listdir('dataset')\n"
   ]
  }
 ],
 "metadata": {
  "kernelspec": {
   "display_name": "Python 3",
   "language": "python",
   "name": "python3"
  },
  "language_info": {
   "codemirror_mode": {
    "name": "ipython",
    "version": 3
   },
   "file_extension": ".py",
   "mimetype": "text/x-python",
   "name": "python",
   "nbconvert_exporter": "python",
   "pygments_lexer": "ipython3",
   "version": "3.6.7"
  }
 },
 "nbformat": 4,
 "nbformat_minor": 2
}
