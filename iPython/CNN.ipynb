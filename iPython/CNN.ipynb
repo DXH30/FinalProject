{
  "nbformat": 4,
  "nbformat_minor": 0,
  "metadata": {
    "colab": {
      "name": "CNNFixed.ipynb",
      "version": "0.3.2",
      "provenance": [],
      "collapsed_sections": [],
      "toc_visible": true,
      "machine_shape": "hm",
      "include_colab_link": true
    },
    "kernelspec": {
      "name": "python3",
      "display_name": "Python 3"
    },
    "accelerator": "TPU"
  },
  "cells": [
    {
      "cell_type": "markdown",
      "metadata": {
        "id": "view-in-github",
        "colab_type": "text"
      },
      "source": [
        "<a href=\"https://colab.research.google.com/github/DXH30/FinalProject/blob/master/iPython/CNN.ipynb\" target=\"_parent\"><img src=\"https://colab.research.google.com/assets/colab-badge.svg\" alt=\"Open In Colab\"/></a>"
      ]
    },
    {
      "cell_type": "markdown",
      "metadata": {
        "id": "oDIvuxE3-U3U",
        "colab_type": "text"
      },
      "source": [
        "# Mempersiapkan data"
      ]
    },
    {
      "cell_type": "code",
      "metadata": {
        "id": "ab_kgl47-RDc",
        "colab_type": "code",
        "outputId": "5818c5c6-b18e-44e7-a61f-05dbf4e3cafb",
        "colab": {
          "base_uri": "https://localhost:8080/",
          "height": 54
        }
      },
      "source": [
        "from google.colab import drive\n",
        "drive.mount('/content/data/')\n",
        "\n",
        "# Lokasi PCAP Malicious\n",
        "nerispcappath = '/content/data/My Drive/VirusData/neris.pcap'\n",
        "hnerispcap = '/content/data/My Drive/VirusData/nerisp.pkl'\n",
        "wnerispcap = '/content/data/My Drive/VirusData/nerisp.hs5'\n",
        "rbotpcappath = '/content/data/My Drive/VirusData/rbot.pcap'\n",
        "hrbotpcap = '/content/data/My Drive/VirusData/rbotp.pkl'\n",
        "wrbotpcap = '/content/data/My Drive/VirusData/rbotp.hs5'\n",
        "svchostapcappath = '/content/data/My Drive/VirusData/svchosta.pcap'\n",
        "hsvchostapcap = '/content/data/My Drive/VirusData/svchostap.pkl'\n",
        "wsvchostapcap = '/content/data/My Drive/VirusData/svchostap.hs5'\n",
        "\n",
        "# Lokasi PCAP Normal\n",
        "firefoxpcappath = '/content/data/My Drive/VirusData/firefox.pcap'\n",
        "\n",
        "normal1pcappath = '/content/data/My Drive/VirusData/pcapnormal/calc.pcap'\n",
        "normal2pcappath = '/content/data/My Drive/VirusData/pcapnormal/cruel.pcap'\n",
        "normal3pcappath = '/content/data/My Drive/VirusData/pcapnormal/freecell.pcap'\n",
        "normal4pcappath = '/content/data/My Drive/VirusData/pcapnormal/golf.pcap'\n",
        "normal5pcappath = '/content/data/My Drive/VirusData/pcapnormal/mspaint.pcap'\n",
        "normal6pcappath = '/content/data/My Drive/VirusData/pcapnormal/pegged.pcap'\n",
        "normal7pcappath = '/content/data/My Drive/VirusData/pcapnormal/realterm.pcap'\n",
        "normal8pcappath = '/content/data/My Drive/VirusData/pcapnormal/reversi.pcap'\n",
        "normal9pcappath = '/content/data/My Drive/VirusData/pcapnormal/snake.pcap'\n",
        "normal10pcappath = '/content/data/My Drive/VirusData/pcapnormal/sol.pcap'\n",
        "normal11pcappath = '/content/data/My Drive/VirusData/pcapnormal/taipei.pcap'\n",
        "normal12pcappath = '/content/data/My Drive/VirusData/pcapnormal/tictac.pcap'\n",
        "normal13pcappath = '/content/data/My Drive/VirusData/pcapnormal/winmine.pcap'\n",
        "\n",
        "# Lokasi File Malicious\n",
        "nerispath = '/content/data/My Drive/VirusData/1neris/Neris.exe'\n",
        "rbotpath = '/content/data/My Drive/VirusData/2rbot/rbot.exe'\n",
        "svchostapath = '/content/data/My Drive/VirusData/3svchosta/6/svchosta.exe'\n",
        "rvsmtr_1  = '/content/data/My Drive/VirusData/DatasetAnomali/winmine_i.exe'\n",
        "rvsmtr_2  = '/content/data/My Drive/VirusData/DatasetAnomali/tictac_i.exe'\n",
        "rvsmtr_3  = '/content/data/My Drive/VirusData/DatasetAnomali/taipei_i.exe'\n",
        "rvsmtr_4  = '/content/data/My Drive/VirusData/DatasetAnomali/sol_i.exe'\n",
        "rvsmtr_5  = '/content/data/My Drive/VirusData/DatasetAnomali/snake_i.exe'\n",
        "rvsmtr_6  = '/content/data/My Drive/VirusData/DatasetAnomali/reversi_i.exe'\n",
        "rvsmtr_7  = '/content/data/My Drive/VirusData/DatasetAnomali/realterm_i.exe'\n",
        "rvsmtr_8  = '/content/data/My Drive/VirusData/DatasetAnomali/pegged_i.exe'\n",
        "rvsmtr_9  = '/content/data/My Drive/VirusData/DatasetAnomali/mspaint_i.exe'\n",
        "rvsmtr_10 = '/content/data/My Drive/VirusData/DatasetAnomali/golf_i.exe'\n",
        "rvsmtr_11 = '/content/data/My Drive/VirusData/DatasetAnomali/freecell_i.exe'\n",
        "rvsmtr_12 = '/content/data/My Drive/VirusData/DatasetAnomali/cruel_i.exe'\n",
        "rvsmtr_13 = '/content/data/My Drive/VirusData/DatasetAnomali/calc_i.exe'\n",
        "\n",
        "# Lokasi Bobot File \n",
        "wnerispath = '/content/data/My Drive/VirusData/1neris/Neris.hs5'\n",
        "wrbotpath = '/content/data/My Drive/VirusData/2rbot/rbot.hs5'\n",
        "wsvchostapath = '/content/data/My Drive/VirusData/3svchosta/6/svchosta.hs5'\n",
        "wrvsmtr_1  = '/content/data/My Drive/VirusData/DatasetAnomali/winmine_i.hs5'\n",
        "wrvsmtr_2  = '/content/data/My Drive/VirusData/DatasetAnomali/tictac_i.hs5'\n",
        "wrvsmtr_3  = '/content/data/My Drive/VirusData/DatasetAnomali/taipei_i.hs5'\n",
        "wrvsmtr_4  = '/content/data/My Drive/VirusData/DatasetAnomali/sol_i.hs5'\n",
        "wrvsmtr_5  = '/content/data/My Drive/VirusData/DatasetAnomali/snake_i.hs5'\n",
        "wrvsmtr_6  = '/content/data/My Drive/VirusData/DatasetAnomali/reversi_i.hs5'\n",
        "wrvsmtr_7  = '/content/data/My Drive/VirusData/DatasetAnomali/realterm_i.hs5'\n",
        "wrvsmtr_8  = '/content/data/My Drive/VirusData/DatasetAnomali/pegged_i.hs5'\n",
        "wrvsmtr_9  = '/content/data/My Drive/VirusData/DatasetAnomali/mspaint_i.hs5'\n",
        "wrvsmtr_10 = '/content/data/My Drive/VirusData/DatasetAnomali/golf_i.hs5'\n",
        "wrvsmtr_11 = '/content/data/My Drive/VirusData/DatasetAnomali/freecell_i.hs5'\n",
        "wrvsmtr_12 = '/content/data/My Drive/VirusData/DatasetAnomali/cruel_i.hs5'\n",
        "wrvsmtr_13 = '/content/data/My Drive/VirusData/DatasetAnomali/calc_i.hs5'\n",
        "wrvsmtr_n = '/content/data/My Drive/VirusData/DatasetAnomali/wrvsmtr_n.hs5'\n",
        "\n",
        "\n",
        "# Lokasi Histori Training\n",
        "hnerispath = '/content/data/My Drive/VirusData/1neris/Neris.pkl'\n",
        "hrbotpath = '/content/data/My Drive/VirusData/2rbot/rbot.pkl'\n",
        "hsvchostapath = '/content/data/My Drive/VirusData/3svchosta/6/svchosta.pkl'\n",
        "hrvsmtr_1  = '/content/data/My Drive/VirusData/DatasetAnomali/winmine_i.pkl'\n",
        "hrvsmtr_2  = '/content/data/My Drive/VirusData/DatasetAnomali/tictac_i.pkl'\n",
        "hrvsmtr_3  = '/content/data/My Drive/VirusData/DatasetAnomali/taipei_i.pkl'\n",
        "hrvsmtr_4  = '/content/data/My Drive/VirusData/DatasetAnomali/sol_i.pkl'\n",
        "hrvsmtr_5  = '/content/data/My Drive/VirusData/DatasetAnomali/snake_i.pkl'\n",
        "hrvsmtr_6  = '/content/data/My Drive/VirusData/DatasetAnomali/reversi_i.pkl'\n",
        "hrvsmtr_7  = '/content/data/My Drive/VirusData/DatasetAnomali/realterm_i.pkl'\n",
        "hrvsmtr_8  = '/content/data/My Drive/VirusData/DatasetAnomali/pegged_i.pkl'\n",
        "hrvsmtr_9  = '/content/data/My Drive/VirusData/DatasetAnomali/mspaint_i.pkl'\n",
        "hrvsmtr_10 = '/content/data/My Drive/VirusData/DatasetAnomali/golf_i.pkl'\n",
        "hrvsmtr_11 = '/content/data/My Drive/VirusData/DatasetAnomali/freecell_i.pkl'\n",
        "hrvsmtr_12 = '/content/data/My Drive/VirusData/DatasetAnomali/cruel_i.pkl'\n",
        "hrvsmtr_13 = '/content/data/My Drive/VirusData/DatasetAnomali/calc_i.pkl'\n",
        "hrvsmtr_n = '/content/data/My Drive/VirusData/DatasetAnomali/wrvsmtr_n.pkl'\n",
        "\n",
        "# Lokasi File Benign\n",
        "# Untuk setiap training file Malicious dibarengi dengan training file Benign\n",
        "# untuk meningkatkan akurasi\n",
        "firefoxpath = '/content/data/My Drive/VirusData/Firefox.exe'\n",
        "normal_1  = '/content/data/My Drive/VirusData/DatasetNormal/winmine.exe'\n",
        "normal_2  = '/content/data/My Drive/VirusData/DatasetNormal/tictac.exe'\n",
        "normal_3  = '/content/data/My Drive/VirusData/DatasetNormal/taipei.exe'\n",
        "normal_4  = '/content/data/My Drive/VirusData/DatasetNormal/sol.exe'\n",
        "normal_5  = '/content/data/My Drive/VirusData/DatasetNormal/snake.exe'\n",
        "normal_6  = '/content/data/My Drive/VirusData/DatasetNormal/reversi.exe'\n",
        "normal_7  = '/content/data/My Drive/VirusData/DatasetNormal/realterm.exe'\n",
        "normal_8  = '/content/data/My Drive/VirusData/DatasetNormal/pegged_i.exe'\n",
        "normal_9  = '/content/data/My Drive/VirusData/DatasetNormal/mspaint.exe'\n",
        "normal_10 = '/content/data/My Drive/VirusData/DatasetNormal/golf.exe'\n",
        "normal_11 = '/content/data/My Drive/VirusData/DatasetNormal/freecell.exe'\n",
        "normal_12 = '/content/data/My Drive/VirusData/DatasetNormal/cruel.exe'\n",
        "normal_13 = '/content/data/My Drive/VirusData/DatasetNormal/calc.exe'"
      ],
      "execution_count": 0,
      "outputs": [
        {
          "output_type": "stream",
          "text": [
            "Drive already mounted at /content/data/; to attempt to forcibly remount, call drive.mount(\"/content/data/\", force_remount=True).\n"
          ],
          "name": "stdout"
        }
      ]
    },
    {
      "cell_type": "markdown",
      "metadata": {
        "id": "ahevJehnbfcZ",
        "colab_type": "text"
      },
      "source": [
        "# Analisis Data PCAP"
      ]
    },
    {
      "cell_type": "code",
      "metadata": {
        "id": "W1T-U1F7c0Vn",
        "colab_type": "code",
        "outputId": "567b2f8e-a9f1-4c82-ad45-beec253c037a",
        "colab": {
          "base_uri": "https://localhost:8080/",
          "height": 211
        }
      },
      "source": [
        "!pip install scapy"
      ],
      "execution_count": 0,
      "outputs": [
        {
          "output_type": "stream",
          "text": [
            "Collecting scapy\n",
            "\u001b[?25l  Downloading https://files.pythonhosted.org/packages/52/e7/464079606a9cf97ad04936c52a5324d14dae36215f9319bf3faa46a7907d/scapy-2.4.3.tar.gz (905kB)\n",
            "\u001b[K     |████████████████████████████████| 911kB 3.4MB/s \n",
            "\u001b[?25hBuilding wheels for collected packages: scapy\n",
            "  Building wheel for scapy (setup.py) ... \u001b[?25l\u001b[?25hdone\n",
            "  Created wheel for scapy: filename=scapy-2.4.3-py2.py3-none-any.whl size=1043874 sha256=8c0608aaf72302627f9df3eb916bcb6dae1d0bc117d4b31660a38dee0137e207\n",
            "  Stored in directory: /root/.cache/pip/wheels/95/bf/51/905b3e84ec4ca910ce4ae92173c7334623105a265bdd1d9438\n",
            "Successfully built scapy\n",
            "Installing collected packages: scapy\n",
            "Successfully installed scapy-2.4.3\n"
          ],
          "name": "stdout"
        }
      ]
    },
    {
      "cell_type": "code",
      "metadata": {
        "id": "C4haVcs5bebe",
        "colab_type": "code",
        "outputId": "a8abae79-6eca-476c-9e86-c698ced4d68a",
        "colab": {
          "base_uri": "https://localhost:8080/",
          "height": 642
        }
      },
      "source": [
        "from scapy.all import *\n",
        "import numpy as np\n",
        "from sklearn.utils import shuffle\n",
        "def baca_payload_dari_pcap(pcappath, target):\n",
        "  pack = rdpcap(pcappath)\n",
        "  i = 0\n",
        "  m = 0\n",
        "  payload = []\n",
        "  payleng = []\n",
        "  for pkt in pack:\n",
        "      if Raw in pkt:\n",
        "        inpack = []\n",
        "        # konversikan array bytes ke array int\n",
        "        inpack = [x for x in pkt[Raw].load]\n",
        "        payleng.append(len(inpack))\n",
        "        inpack = np.pad(inpack, (0, 1448-len(inpack)),'constant', constant_values=0).tolist()\n",
        "        payload.append(inpack) # konversi scapy.packet.Raw ke byte\n",
        "        m = m + 1\n",
        "      i = i + 1\n",
        "  # Sebelum data di training seluruh isi payloadnya harus dihitung kalau terlalu banyak angka 0\n",
        "  # abaikan saja karena mengganggu\n",
        "  list_x = []\n",
        "  list_y = []\n",
        "  list_semua = []\n",
        "  t = 0\n",
        "  for i in payload:\n",
        "    list_semua.append(i)\n",
        "    if payleng[t] > 1300:\n",
        "      list_x.append(i)\n",
        "      list_y.append(target)\n",
        "    else:\n",
        "      list_x.append(i)\n",
        "      list_y.append(0)\n",
        "    t = t + 1\n",
        "  input_semua = np.array([np.array(x) for x in list_semua])\n",
        "  input_x = np.array([np.array(x) for x in list_x])\n",
        "  input_y = np.array([np.array(x) for x in list_y])\n",
        "  print(pcappath+ \" selesai dibaca\")\n",
        "  print(\"dengan ukuran : \"+str(input_x.shape))\n",
        "  return input_x, input_y, input_semua\n",
        "\n",
        "neris_x, neris_y, neris_semua = baca_payload_dari_pcap(nerispcappath, 1)\n",
        "svc_x, svc_y, svc_semua = baca_payload_dari_pcap(svchostapcappath, 1)\n",
        "rbot_x, rbot_y, rbot_semua = baca_payload_dari_pcap(rbotpcappath, 1)\n",
        "ffox_x, ffox_y, ffox_semua = baca_payload_dari_pcap(firefoxpcappath, 0)\n",
        "normal1_x, normal1_y, normal1_semua = baca_payload_dari_pcap(normal1pcappath,0)\n",
        "normal2_x, normal2_y, normal2_semua = baca_payload_dari_pcap(normal2pcappath,0)\n",
        "normal3_x, normal3_y, normal3_semua = baca_payload_dari_pcap(normal3pcappath,0)\n",
        "normal4_x, normal4_y, normal4_semua = baca_payload_dari_pcap(normal4pcappath,0)\n",
        "normal5_x, normal5_y, normal5_semua = baca_payload_dari_pcap(normal5pcappath,0)\n",
        "normal6_x, normal6_y, normal6_semua = baca_payload_dari_pcap(normal6pcappath,0)\n",
        "normal7_x, normal7_y, normal7_semua = baca_payload_dari_pcap(normal7pcappath,0)\n",
        "normal8_x, normal8_y, normal8_semua = baca_payload_dari_pcap(normal8pcappath,0)\n",
        "normal9_x, normal9_y, normal9_semua = baca_payload_dari_pcap(normal9pcappath,0)\n",
        "normal10_x, normal10_y, normal10_semua = baca_payload_dari_pcap(normal10pcappath,0)\n",
        "normal11_x, normal11_y, normal11_semua = baca_payload_dari_pcap(normal11pcappath,0)\n",
        "normal12_x, normal12_y, normal12_semua = baca_payload_dari_pcap(normal12pcappath,0)\n",
        "normal13_x, normal13_y, normal13_semua = baca_payload_dari_pcap(normal13pcappath,0)\n",
        "\n",
        "train_x = np.concatenate((neris_x, svc_x))\n",
        "train_y = np.concatenate((neris_y, svc_y))\n",
        "train_x = np.concatenate((train_x, rbot_x))\n",
        "train_y = np.concatenate((train_y, rbot_y))\n",
        "normal_x = np.concatenate((normal1_x, normal2_x))\n",
        "normal_y = np.concatenate((normal1_y, normal2_y))\n",
        "normal_x = np.concatenate((normal_x, normal3_x))\n",
        "normal_y = np.concatenate((normal_y, normal3_y))\n",
        "normal_x = np.concatenate((normal_x, normal4_x))\n",
        "normal_y = np.concatenate((normal_y, normal4_y))\n",
        "normal_x = np.concatenate((normal_x, normal5_x))\n",
        "normal_y = np.concatenate((normal_y, normal5_y))\n",
        "normal_x = np.concatenate((normal_x, normal6_x))\n",
        "normal_y = np.concatenate((normal_y, normal6_y))\n",
        "normal_x = np.concatenate((normal_x, normal7_x))\n",
        "normal_y = np.concatenate((normal_y, normal7_y))\n",
        "normal_x = np.concatenate((normal_x, normal8_x))\n",
        "normal_y = np.concatenate((normal_y, normal8_y))\n",
        "normal_x = np.concatenate((normal_x, normal9_x))\n",
        "normal_y = np.concatenate((normal_y, normal9_y))\n",
        "normal_x = np.concatenate((normal_x, normal10_x))\n",
        "normal_y = np.concatenate((normal_y, normal10_y))\n",
        "normal_x = np.concatenate((normal_x, normal11_x))\n",
        "normal_y = np.concatenate((normal_y, normal11_y))\n",
        "normal_x = np.concatenate((normal_x, normal12_x))\n",
        "normal_y = np.concatenate((normal_y, normal12_y))\n",
        "normal_x = np.concatenate((normal_x, normal13_x))\n",
        "normal_y = np.concatenate((normal_y, normal13_y))\n",
        "\n",
        "valid_x = np.concatenate((train_x, normal_x))\n",
        "valid_y = np.concatenate((train_y, normal_y))\n",
        "rvalid_x, rvalid_y = shuffle(valid_x, valid_y, random_state=0)\n",
        "print(valid_x.shape)\n",
        "print(neris_x.shape)"
      ],
      "execution_count": 0,
      "outputs": [
        {
          "output_type": "stream",
          "text": [
            "/content/data/My Drive/VirusData/neris.pcap selesai dibaca\n",
            "dengan ukuran : (423, 1448)\n",
            "/content/data/My Drive/VirusData/svchosta.pcap selesai dibaca\n",
            "dengan ukuran : (97, 1448)\n",
            "/content/data/My Drive/VirusData/rbot.pcap selesai dibaca\n",
            "dengan ukuran : (164, 1448)\n",
            "/content/data/My Drive/VirusData/firefox.pcap selesai dibaca\n",
            "dengan ukuran : (242, 1448)\n",
            "/content/data/My Drive/VirusData/pcapnormal/calc.pcap selesai dibaca\n",
            "dengan ukuran : (105, 1448)\n",
            "/content/data/My Drive/VirusData/pcapnormal/cruel.pcap selesai dibaca\n",
            "dengan ukuran : (36, 1448)\n",
            "/content/data/My Drive/VirusData/pcapnormal/freecell.pcap selesai dibaca\n",
            "dengan ukuran : (65, 1448)\n",
            "/content/data/My Drive/VirusData/pcapnormal/golf.pcap selesai dibaca\n",
            "dengan ukuran : (32, 1448)\n",
            "/content/data/My Drive/VirusData/pcapnormal/mspaint.pcap selesai dibaca\n",
            "dengan ukuran : (381, 1448)\n",
            "/content/data/My Drive/VirusData/pcapnormal/pegged.pcap selesai dibaca\n",
            "dengan ukuran : (60, 1448)\n",
            "/content/data/My Drive/VirusData/pcapnormal/realterm.pcap selesai dibaca\n",
            "dengan ukuran : (720, 1448)\n",
            "/content/data/My Drive/VirusData/pcapnormal/reversi.pcap selesai dibaca\n",
            "dengan ukuran : (36, 1448)\n",
            "/content/data/My Drive/VirusData/pcapnormal/snake.pcap selesai dibaca\n",
            "dengan ukuran : (49, 1448)\n",
            "/content/data/My Drive/VirusData/pcapnormal/sol.pcap selesai dibaca\n",
            "dengan ukuran : (72, 1448)\n",
            "/content/data/My Drive/VirusData/pcapnormal/taipei.pcap selesai dibaca\n",
            "dengan ukuran : (75, 1448)\n",
            "/content/data/My Drive/VirusData/pcapnormal/tictac.pcap selesai dibaca\n",
            "dengan ukuran : (59, 1448)\n",
            "/content/data/My Drive/VirusData/pcapnormal/winmine.pcap selesai dibaca\n",
            "dengan ukuran : (56, 1448)\n",
            "(2430, 1448)\n",
            "(423, 1448)\n"
          ],
          "name": "stdout"
        }
      ]
    },
    {
      "cell_type": "code",
      "metadata": {
        "id": "JXyCkeZhcsVU",
        "colab_type": "code",
        "outputId": "d1db753b-bf1b-43a4-9156-16dcdf1204d4",
        "colab": {
          "base_uri": "https://localhost:8080/",
          "height": 236
        }
      },
      "source": [
        "from sklearn.utils import shuffle\n",
        "# Sebelum data di training seluruh isi payloadnya harus dihitung kalau terlalu banyak angka 0\n",
        "# abaikan saja karena mengganggu\n",
        "list_x = []\n",
        "list_y = []\n",
        "list_semua = []\n",
        "t = 0\n",
        "for i in payload:\n",
        "  list_semua.append(i)\n",
        "  if payleng[t] > 1300:\n",
        "    list_x.append(i)\n",
        "    list_y.append(1)\n",
        "  else:\n",
        "    list_x.append(i)\n",
        "    list_y.append(0)\n",
        "  t = t + 1\n",
        "input_semua = np.array([np.array(x) for x in list_semua])\n",
        "input_x = np.array([np.array(x) for x in list_x])\n",
        "input_y = np.array([np.array(x) for x in list_y])\n",
        "valid_x, valid_y = shuffle(input_x, input_y, random_state=0)"
      ],
      "execution_count": 0,
      "outputs": [
        {
          "output_type": "error",
          "ename": "NameError",
          "evalue": "ignored",
          "traceback": [
            "\u001b[0;31m---------------------------------------------------------------------------\u001b[0m",
            "\u001b[0;31mNameError\u001b[0m                                 Traceback (most recent call last)",
            "\u001b[0;32m<ipython-input-10-72f5bddf5641>\u001b[0m in \u001b[0;36m<module>\u001b[0;34m()\u001b[0m\n\u001b[1;32m      6\u001b[0m \u001b[0mlist_semua\u001b[0m \u001b[0;34m=\u001b[0m \u001b[0;34m[\u001b[0m\u001b[0;34m]\u001b[0m\u001b[0;34m\u001b[0m\u001b[0;34m\u001b[0m\u001b[0m\n\u001b[1;32m      7\u001b[0m \u001b[0mt\u001b[0m \u001b[0;34m=\u001b[0m \u001b[0;36m0\u001b[0m\u001b[0;34m\u001b[0m\u001b[0;34m\u001b[0m\u001b[0m\n\u001b[0;32m----> 8\u001b[0;31m \u001b[0;32mfor\u001b[0m \u001b[0mi\u001b[0m \u001b[0;32min\u001b[0m \u001b[0mpayload\u001b[0m\u001b[0;34m:\u001b[0m\u001b[0;34m\u001b[0m\u001b[0;34m\u001b[0m\u001b[0m\n\u001b[0m\u001b[1;32m      9\u001b[0m   \u001b[0mlist_semua\u001b[0m\u001b[0;34m.\u001b[0m\u001b[0mappend\u001b[0m\u001b[0;34m(\u001b[0m\u001b[0mi\u001b[0m\u001b[0;34m)\u001b[0m\u001b[0;34m\u001b[0m\u001b[0;34m\u001b[0m\u001b[0m\n\u001b[1;32m     10\u001b[0m   \u001b[0;32mif\u001b[0m \u001b[0mpayleng\u001b[0m\u001b[0;34m[\u001b[0m\u001b[0mt\u001b[0m\u001b[0;34m]\u001b[0m \u001b[0;34m>\u001b[0m \u001b[0;36m1300\u001b[0m\u001b[0;34m:\u001b[0m\u001b[0;34m\u001b[0m\u001b[0;34m\u001b[0m\u001b[0m\n",
            "\u001b[0;31mNameError\u001b[0m: name 'payload' is not defined"
          ]
        }
      ]
    },
    {
      "cell_type": "code",
      "metadata": {
        "id": "ZQTT4qk4qNK-",
        "colab_type": "code",
        "outputId": "1c303bba-50a1-4b97-b41a-b6e0fb350049",
        "colab": {
          "base_uri": "https://localhost:8080/",
          "height": 208
        }
      },
      "source": [
        "ffox_y"
      ],
      "execution_count": 0,
      "outputs": [
        {
          "output_type": "execute_result",
          "data": {
            "text/plain": [
              "array([0, 0, 0, 0, 0, 0, 0, 0, 0, 0, 0, 0, 0, 0, 0, 0, 0, 0, 0, 0, 0, 0,\n",
              "       0, 0, 0, 0, 0, 0, 0, 0, 0, 0, 0, 0, 0, 0, 0, 0, 0, 0, 0, 0, 0, 0,\n",
              "       0, 0, 0, 0, 0, 0, 0, 0, 0, 0, 0, 0, 0, 0, 0, 0, 0, 0, 0, 0, 0, 0,\n",
              "       0, 0, 0, 0, 0, 0, 0, 0, 0, 0, 0, 0, 0, 0, 0, 0, 0, 0, 0, 0, 0, 0,\n",
              "       0, 0, 0, 0, 0, 0, 0, 0, 0, 0, 0, 0, 0, 0, 0, 0, 0, 0, 0, 0, 0, 0,\n",
              "       0, 0, 0, 0, 0, 0, 0, 0, 0, 0, 0, 0, 0, 0, 0, 0, 0, 0, 0, 0, 0, 0,\n",
              "       0, 0, 0, 0, 0, 0, 0, 0, 0, 0, 0, 0, 0, 0, 0, 0, 0, 0, 0, 0, 0, 0,\n",
              "       0, 0, 0, 0, 0, 0, 0, 0, 0, 0, 0, 0, 0, 0, 0, 0, 0, 0, 0, 0, 0, 0,\n",
              "       0, 0, 0, 0, 0, 0, 0, 0, 0, 0, 0, 0, 0, 0, 0, 0, 0, 0, 0, 0, 0, 0,\n",
              "       0, 0, 0, 0, 0, 0, 0, 0, 0, 0, 0, 0, 0, 0, 0, 0, 0, 0, 0, 0, 0, 0,\n",
              "       0, 0, 0, 0, 0, 0, 0, 0, 0, 0, 0, 0, 0, 0, 0, 0, 0, 0, 0, 0, 0, 0])"
            ]
          },
          "metadata": {
            "tags": []
          },
          "execution_count": 14
        }
      ]
    },
    {
      "cell_type": "code",
      "metadata": {
        "id": "nuagF-qigzpi",
        "colab_type": "code",
        "outputId": "55ee8dcb-1a2c-4ee9-868d-e0a030fcf2a6",
        "colab": {
          "base_uri": "https://localhost:8080/",
          "height": 1000
        }
      },
      "source": [
        "history = training_data(model, wnerispcap, rvalid_x, rvalid_y, valid_x, valid_y)\n",
        "import pickle\n",
        "with open(hnerispcap, 'wb') as file_pi:\n",
        "  pickle.dump(history.history, file_pi)"
      ],
      "execution_count": 0,
      "outputs": [
        {
          "output_type": "stream",
          "text": [
            "Memulai training data...\n",
            "Train on 2430 samples, validate on 2430 samples\n",
            "Epoch 1/50\n",
            "2430/2430 [==============================] - 105s 43ms/step - loss: 0.8141 - acc: 0.4033 - mean_absolute_error: 0.5202 - categorical_accuracy: 0.4033 - val_loss: 0.6482 - val_acc: 0.6741 - val_mean_absolute_error: 0.4667 - val_categorical_accuracy: 0.6741\n",
            "Epoch 2/50\n",
            "2430/2430 [==============================] - 105s 43ms/step - loss: 0.5974 - acc: 0.6988 - mean_absolute_error: 0.4433 - categorical_accuracy: 0.6988 - val_loss: 0.5214 - val_acc: 0.7564 - val_mean_absolute_error: 0.4092 - val_categorical_accuracy: 0.7564\n",
            "Epoch 3/50\n",
            "2430/2430 [==============================] - 108s 44ms/step - loss: 0.4994 - acc: 0.7671 - mean_absolute_error: 0.3983 - categorical_accuracy: 0.7671 - val_loss: 0.4674 - val_acc: 0.7654 - val_mean_absolute_error: 0.3792 - val_categorical_accuracy: 0.7654\n",
            "Epoch 4/50\n",
            "2430/2430 [==============================] - 115s 47ms/step - loss: 0.4420 - acc: 0.8189 - mean_absolute_error: 0.3700 - categorical_accuracy: 0.8189 - val_loss: 0.4228 - val_acc: 0.7984 - val_mean_absolute_error: 0.3585 - val_categorical_accuracy: 0.7984\n",
            "Epoch 5/50\n",
            "2430/2430 [==============================] - 115s 47ms/step - loss: 0.3926 - acc: 0.8531 - mean_absolute_error: 0.3469 - categorical_accuracy: 0.8531 - val_loss: 0.4064 - val_acc: 0.7613 - val_mean_absolute_error: 0.3392 - val_categorical_accuracy: 0.7613\n",
            "Epoch 6/50\n",
            "2430/2430 [==============================] - 117s 48ms/step - loss: 0.3594 - acc: 0.8881 - mean_absolute_error: 0.3326 - categorical_accuracy: 0.8881 - val_loss: 0.3451 - val_acc: 0.8646 - val_mean_absolute_error: 0.3283 - val_categorical_accuracy: 0.8646\n",
            "Epoch 7/50\n",
            "2430/2430 [==============================] - 110s 45ms/step - loss: 0.3272 - acc: 0.9037 - mean_absolute_error: 0.3163 - categorical_accuracy: 0.9037 - val_loss: 0.3060 - val_acc: 0.8889 - val_mean_absolute_error: 0.3130 - val_categorical_accuracy: 0.8889\n",
            "Epoch 8/50\n",
            "2430/2430 [==============================] - 106s 44ms/step - loss: 0.3028 - acc: 0.9230 - mean_absolute_error: 0.3073 - categorical_accuracy: 0.9230 - val_loss: 0.2784 - val_acc: 0.9412 - val_mean_absolute_error: 0.3020 - val_categorical_accuracy: 0.9412\n",
            "Epoch 9/50\n",
            "2430/2430 [==============================] - 106s 44ms/step - loss: 0.2796 - acc: 0.9300 - mean_absolute_error: 0.2984 - categorical_accuracy: 0.9300 - val_loss: 0.2979 - val_acc: 0.8786 - val_mean_absolute_error: 0.3051 - val_categorical_accuracy: 0.8786\n",
            "Epoch 10/50\n",
            "2430/2430 [==============================] - 106s 44ms/step - loss: 0.2582 - acc: 0.9436 - mean_absolute_error: 0.2906 - categorical_accuracy: 0.9436 - val_loss: 0.2842 - val_acc: 0.8881 - val_mean_absolute_error: 0.2985 - val_categorical_accuracy: 0.8881\n",
            "Epoch 11/50\n",
            "2430/2430 [==============================] - 106s 44ms/step - loss: 0.2380 - acc: 0.9547 - mean_absolute_error: 0.2834 - categorical_accuracy: 0.9547 - val_loss: 0.2188 - val_acc: 0.9716 - val_mean_absolute_error: 0.2786 - val_categorical_accuracy: 0.9716\n",
            "Epoch 12/50\n",
            "2430/2430 [==============================] - 106s 44ms/step - loss: 0.2178 - acc: 0.9597 - mean_absolute_error: 0.2762 - categorical_accuracy: 0.9597 - val_loss: 0.2071 - val_acc: 0.9737 - val_mean_absolute_error: 0.2743 - val_categorical_accuracy: 0.9737\n",
            "Epoch 13/50\n",
            "2430/2430 [==============================] - 104s 43ms/step - loss: 0.2081 - acc: 0.9638 - mean_absolute_error: 0.2749 - categorical_accuracy: 0.9638 - val_loss: 0.1973 - val_acc: 0.9712 - val_mean_absolute_error: 0.2683 - val_categorical_accuracy: 0.9712\n",
            "Epoch 14/50\n",
            "2430/2430 [==============================] - 105s 43ms/step - loss: 0.1924 - acc: 0.9691 - mean_absolute_error: 0.2707 - categorical_accuracy: 0.9691 - val_loss: 0.1947 - val_acc: 0.9634 - val_mean_absolute_error: 0.2697 - val_categorical_accuracy: 0.9634\n",
            "Epoch 15/50\n",
            "2430/2430 [==============================] - 109s 45ms/step - loss: 0.1834 - acc: 0.9708 - mean_absolute_error: 0.2677 - categorical_accuracy: 0.9708 - val_loss: 0.1898 - val_acc: 0.9753 - val_mean_absolute_error: 0.2643 - val_categorical_accuracy: 0.9753\n",
            "Epoch 16/50\n",
            "2430/2430 [==============================] - 121s 50ms/step - loss: 0.1719 - acc: 0.9700 - mean_absolute_error: 0.2661 - categorical_accuracy: 0.9700 - val_loss: 0.1646 - val_acc: 0.9745 - val_mean_absolute_error: 0.2596 - val_categorical_accuracy: 0.9745\n",
            "Epoch 17/50\n",
            "2430/2430 [==============================] - 126s 52ms/step - loss: 0.1639 - acc: 0.9741 - mean_absolute_error: 0.2649 - categorical_accuracy: 0.9741 - val_loss: 0.2184 - val_acc: 0.8366 - val_mean_absolute_error: 0.2668 - val_categorical_accuracy: 0.8366\n",
            "Epoch 18/50\n",
            "2430/2430 [==============================] - 109s 45ms/step - loss: 0.1564 - acc: 0.9737 - mean_absolute_error: 0.2643 - categorical_accuracy: 0.9737 - val_loss: 0.1491 - val_acc: 0.9765 - val_mean_absolute_error: 0.2568 - val_categorical_accuracy: 0.9765\n",
            "Epoch 19/50\n",
            "2430/2430 [==============================] - 106s 43ms/step - loss: 0.1469 - acc: 0.9774 - mean_absolute_error: 0.2625 - categorical_accuracy: 0.9774 - val_loss: 0.1334 - val_acc: 0.9778 - val_mean_absolute_error: 0.2565 - val_categorical_accuracy: 0.9778\n",
            "Epoch 20/50\n",
            "2430/2430 [==============================] - 106s 44ms/step - loss: 0.1413 - acc: 0.9774 - mean_absolute_error: 0.2617 - categorical_accuracy: 0.9774 - val_loss: 0.1342 - val_acc: 0.9802 - val_mean_absolute_error: 0.2574 - val_categorical_accuracy: 0.9802\n",
            "Epoch 21/50\n",
            "2430/2430 [==============================] - 106s 44ms/step - loss: 0.1350 - acc: 0.9770 - mean_absolute_error: 0.2595 - categorical_accuracy: 0.9770 - val_loss: 0.1487 - val_acc: 0.9794 - val_mean_absolute_error: 0.2551 - val_categorical_accuracy: 0.9794\n",
            "Epoch 22/50\n",
            "2430/2430 [==============================] - 107s 44ms/step - loss: 0.1308 - acc: 0.9790 - mean_absolute_error: 0.2599 - categorical_accuracy: 0.9790 - val_loss: 0.1278 - val_acc: 0.9811 - val_mean_absolute_error: 0.2566 - val_categorical_accuracy: 0.9811\n",
            "Epoch 23/50\n",
            "2430/2430 [==============================] - 107s 44ms/step - loss: 0.1284 - acc: 0.9778 - mean_absolute_error: 0.2610 - categorical_accuracy: 0.9778 - val_loss: 0.1144 - val_acc: 0.9794 - val_mean_absolute_error: 0.2553 - val_categorical_accuracy: 0.9794\n",
            "Epoch 24/50\n",
            "2430/2430 [==============================] - 107s 44ms/step - loss: 0.1219 - acc: 0.9790 - mean_absolute_error: 0.2586 - categorical_accuracy: 0.9790 - val_loss: 0.1248 - val_acc: 0.9815 - val_mean_absolute_error: 0.2548 - val_categorical_accuracy: 0.9815\n",
            "Epoch 25/50\n",
            "2430/2430 [==============================] - 107s 44ms/step - loss: 0.1137 - acc: 0.9807 - mean_absolute_error: 0.2574 - categorical_accuracy: 0.9807 - val_loss: 0.1365 - val_acc: 0.9807 - val_mean_absolute_error: 0.2617 - val_categorical_accuracy: 0.9807\n",
            "Epoch 26/50\n",
            "2430/2430 [==============================] - 108s 44ms/step - loss: 0.1147 - acc: 0.9807 - mean_absolute_error: 0.2584 - categorical_accuracy: 0.9807 - val_loss: 0.1108 - val_acc: 0.9815 - val_mean_absolute_error: 0.2549 - val_categorical_accuracy: 0.9815\n",
            "Epoch 27/50\n",
            "2430/2430 [==============================] - 107s 44ms/step - loss: 0.1138 - acc: 0.9790 - mean_absolute_error: 0.2591 - categorical_accuracy: 0.9790 - val_loss: 0.1032 - val_acc: 0.9815 - val_mean_absolute_error: 0.2522 - val_categorical_accuracy: 0.9815\n",
            "Epoch 28/50\n",
            "2430/2430 [==============================] - 106s 44ms/step - loss: 0.1062 - acc: 0.9807 - mean_absolute_error: 0.2566 - categorical_accuracy: 0.9807 - val_loss: 0.1032 - val_acc: 0.9823 - val_mean_absolute_error: 0.2545 - val_categorical_accuracy: 0.9823\n",
            "Epoch 29/50\n",
            "2430/2430 [==============================] - 106s 44ms/step - loss: 0.1059 - acc: 0.9811 - mean_absolute_error: 0.2580 - categorical_accuracy: 0.9811 - val_loss: 0.1067 - val_acc: 0.9819 - val_mean_absolute_error: 0.2558 - val_categorical_accuracy: 0.9819\n",
            "Epoch 30/50\n",
            "2430/2430 [==============================] - 106s 44ms/step - loss: 0.1028 - acc: 0.9811 - mean_absolute_error: 0.2567 - categorical_accuracy: 0.9811 - val_loss: 0.0938 - val_acc: 0.9823 - val_mean_absolute_error: 0.2520 - val_categorical_accuracy: 0.9823\n",
            "Epoch 31/50\n",
            "2430/2430 [==============================] - 106s 44ms/step - loss: 0.0962 - acc: 0.9815 - mean_absolute_error: 0.2555 - categorical_accuracy: 0.9815 - val_loss: 0.0911 - val_acc: 0.9823 - val_mean_absolute_error: 0.2528 - val_categorical_accuracy: 0.9823\n",
            "Epoch 32/50\n",
            "2430/2430 [==============================] - 107s 44ms/step - loss: 0.0970 - acc: 0.9827 - mean_absolute_error: 0.2561 - categorical_accuracy: 0.9827 - val_loss: 0.0892 - val_acc: 0.9823 - val_mean_absolute_error: 0.2512 - val_categorical_accuracy: 0.9823\n",
            "Epoch 33/50\n",
            "2430/2430 [==============================] - 107s 44ms/step - loss: 0.0966 - acc: 0.9823 - mean_absolute_error: 0.2566 - categorical_accuracy: 0.9823 - val_loss: 0.0889 - val_acc: 0.9823 - val_mean_absolute_error: 0.2517 - val_categorical_accuracy: 0.9823\n",
            "Epoch 34/50\n",
            "2430/2430 [==============================] - 107s 44ms/step - loss: 0.0930 - acc: 0.9819 - mean_absolute_error: 0.2558 - categorical_accuracy: 0.9819 - val_loss: 0.0854 - val_acc: 0.9823 - val_mean_absolute_error: 0.2506 - val_categorical_accuracy: 0.9823\n",
            "Epoch 35/50\n",
            "2430/2430 [==============================] - 107s 44ms/step - loss: 0.0928 - acc: 0.9831 - mean_absolute_error: 0.2568 - categorical_accuracy: 0.9831 - val_loss: 0.0883 - val_acc: 0.9827 - val_mean_absolute_error: 0.2514 - val_categorical_accuracy: 0.9827\n",
            "Epoch 36/50\n",
            "2430/2430 [==============================] - 108s 44ms/step - loss: 0.0922 - acc: 0.9819 - mean_absolute_error: 0.2565 - categorical_accuracy: 0.9819 - val_loss: 0.0916 - val_acc: 0.9823 - val_mean_absolute_error: 0.2535 - val_categorical_accuracy: 0.9823\n",
            "Epoch 37/50\n",
            "2430/2430 [==============================] - 109s 45ms/step - loss: 0.0880 - acc: 0.9831 - mean_absolute_error: 0.2559 - categorical_accuracy: 0.9831 - val_loss: 0.1057 - val_acc: 0.9819 - val_mean_absolute_error: 0.2582 - val_categorical_accuracy: 0.9819\n",
            "Epoch 38/50\n",
            "2430/2430 [==============================] - 107s 44ms/step - loss: 0.0868 - acc: 0.9827 - mean_absolute_error: 0.2568 - categorical_accuracy: 0.9827 - val_loss: 0.0803 - val_acc: 0.9823 - val_mean_absolute_error: 0.2504 - val_categorical_accuracy: 0.9823\n",
            "Epoch 39/50\n",
            "2430/2430 [==============================] - 107s 44ms/step - loss: 0.0898 - acc: 0.9798 - mean_absolute_error: 0.2560 - categorical_accuracy: 0.9798 - val_loss: 0.0963 - val_acc: 0.9819 - val_mean_absolute_error: 0.2548 - val_categorical_accuracy: 0.9819\n",
            "Epoch 40/50\n",
            "2430/2430 [==============================] - 108s 44ms/step - loss: 0.0833 - acc: 0.9823 - mean_absolute_error: 0.2556 - categorical_accuracy: 0.9823 - val_loss: 0.0878 - val_acc: 0.9860 - val_mean_absolute_error: 0.2514 - val_categorical_accuracy: 0.9860\n",
            "Epoch 41/50\n",
            "2430/2430 [==============================] - 107s 44ms/step - loss: 0.0834 - acc: 0.9827 - mean_absolute_error: 0.2566 - categorical_accuracy: 0.9827 - val_loss: 0.0799 - val_acc: 0.9823 - val_mean_absolute_error: 0.2530 - val_categorical_accuracy: 0.9823\n",
            "Epoch 42/50\n",
            "2430/2430 [==============================] - 107s 44ms/step - loss: 0.0840 - acc: 0.9827 - mean_absolute_error: 0.2569 - categorical_accuracy: 0.9827 - val_loss: 0.0759 - val_acc: 0.9823 - val_mean_absolute_error: 0.2520 - val_categorical_accuracy: 0.9823\n",
            "Epoch 43/50\n",
            "2430/2430 [==============================] - 107s 44ms/step - loss: 0.0832 - acc: 0.9819 - mean_absolute_error: 0.2563 - categorical_accuracy: 0.9819 - val_loss: 0.0895 - val_acc: 0.9864 - val_mean_absolute_error: 0.2525 - val_categorical_accuracy: 0.9864\n",
            "Epoch 44/50\n",
            "2430/2430 [==============================] - 107s 44ms/step - loss: 0.0814 - acc: 0.9827 - mean_absolute_error: 0.2566 - categorical_accuracy: 0.9827 - val_loss: 0.0776 - val_acc: 0.9823 - val_mean_absolute_error: 0.2522 - val_categorical_accuracy: 0.9823\n",
            "Epoch 45/50\n",
            "2430/2430 [==============================] - 107s 44ms/step - loss: 0.0801 - acc: 0.9835 - mean_absolute_error: 0.2575 - categorical_accuracy: 0.9835 - val_loss: 0.0864 - val_acc: 0.9823 - val_mean_absolute_error: 0.2564 - val_categorical_accuracy: 0.9823\n",
            "Epoch 46/50\n",
            "2430/2430 [==============================] - 108s 44ms/step - loss: 0.0801 - acc: 0.9827 - mean_absolute_error: 0.2563 - categorical_accuracy: 0.9827 - val_loss: 0.0777 - val_acc: 0.9823 - val_mean_absolute_error: 0.2541 - val_categorical_accuracy: 0.9823\n",
            "Epoch 47/50\n",
            "2430/2430 [==============================] - 107s 44ms/step - loss: 0.0777 - acc: 0.9831 - mean_absolute_error: 0.2568 - categorical_accuracy: 0.9831 - val_loss: 0.0716 - val_acc: 0.9823 - val_mean_absolute_error: 0.2509 - val_categorical_accuracy: 0.9823\n",
            "Epoch 48/50\n",
            "2430/2430 [==============================] - 107s 44ms/step - loss: 0.0783 - acc: 0.9840 - mean_absolute_error: 0.2562 - categorical_accuracy: 0.9840 - val_loss: 0.0813 - val_acc: 0.9864 - val_mean_absolute_error: 0.2513 - val_categorical_accuracy: 0.9864\n",
            "Epoch 49/50\n",
            "2430/2430 [==============================] - 106s 44ms/step - loss: 0.0770 - acc: 0.9827 - mean_absolute_error: 0.2558 - categorical_accuracy: 0.9827 - val_loss: 0.0789 - val_acc: 0.9823 - val_mean_absolute_error: 0.2541 - val_categorical_accuracy: 0.9823\n",
            "Epoch 50/50\n",
            "2430/2430 [==============================] - 106s 44ms/step - loss: 0.0736 - acc: 0.9831 - mean_absolute_error: 0.2550 - categorical_accuracy: 0.9831 - val_loss: 0.0743 - val_acc: 0.9864 - val_mean_absolute_error: 0.2511 - val_categorical_accuracy: 0.9864\n",
            "Training Data selesai\n"
          ],
          "name": "stdout"
        }
      ]
    },
    {
      "cell_type": "code",
      "metadata": {
        "id": "eRezqF5gnLNO",
        "colab_type": "code",
        "outputId": "25f3a0c2-22e1-45df-8f35-2f17e26d94c3",
        "colab": {
          "base_uri": "https://localhost:8080/",
          "height": 833
        }
      },
      "source": [
        "#plot_hasil(model, 'neris', neris_x, neris_y, ffox_x, ffox_y)\n",
        "nama_model = 'neris'\n",
        "input_x = neris_x\n",
        "input_y = neris_y\n",
        "normal_x = ffox_x\n",
        "normal_y = ffox_y\n",
        "print(model.metrics_names)\n",
        "print(\"Memulai evaluasi data %s yang benar\" % (nama_model))\n",
        "loss, acc, mea, ca = model.evaluate(x=input_x, y=to_categorical(input_y, num_classes=2))\n",
        "print(\"Loss : %d\" % (loss))\n",
        "print(\"Akurasi : %d%% benar\" % (acc*100))\n",
        "print(\"Abs Err : %d\" % (mea))\n",
        "print(\"Categorical Cross Entropy : %d\" % (ca))\n",
        "print(\"Memulai evaluasi data bukan %s\" % (nama_model))\n",
        "loss, acc, mea, ca = model.evaluate(x=normal_x, y=to_categorical(normal_y, num_classes=2))\n",
        "print(\"Loss : %d\" % (loss))\n",
        "print(\"Akurasi : %d%% benar\" % (acc*100))\n",
        "print(\"Abs Err : %d\" % (mea))\n",
        "print(\"Categorical Cross Entropy : %d\" % (ca))\n",
        "print(\"Mencoba menganalisis paket sedikit sedikit Paket %s\" % (nama_model))\n",
        "loss, acc, mea, ca = model.evaluate(x=input_x[0:5], y=to_categorical(input_y, num_classes=2)[0:5])\n",
        "print(\"Loss : %d\" % (loss))\n",
        "print(\"Akurasi : %d%% benar\" % (acc*100))\n",
        "print(\"Abs Err : %d\" % (mea))\n",
        "print(\"Categorical Cross Entropy : %d\" % (ca))\n",
        "print(\"Mencoba menganalisis paket sedikit sedikit Paket Lain\")\n",
        "loss, acc, mea, ca = model.evaluate(x=normal_x[1:5], y=to_categorical(normal_y, num_classes=2)[1:5])\n",
        "print(\"Loss : %d\" % (loss))\n",
        "print(\"Akurasi : %d%% benar\" % (acc*100))\n",
        "print(\"Abs Err : %d\" % (mea))\n",
        "print(\"Categorical Cross Entropy : %d\" % (ca))\n",
        "print(\"Mencoba memprediksi target dari input data\")\n",
        "prediksi = model.predict_classes(input_x)\n",
        "print(\"Hasil Prediksi neris :\")\n",
        "print(prediksi)\n",
        "prediksi = model.predict_classes(normal_x)\n",
        "print(\"Hasil Prediksi normal :\")\n",
        "print(prediksi)"
      ],
      "execution_count": 0,
      "outputs": [
        {
          "output_type": "stream",
          "text": [
            "['loss', 'acc', 'mean_absolute_error', 'categorical_accuracy']\n",
            "Memulai evaluasi data neris yang benar\n",
            "423/423 [==============================] - 3s 6ms/step\n",
            "Loss : 0\n",
            "Akurasi : 99% benar\n",
            "Abs Err : 0\n",
            "Categorical Cross Entropy : 0\n",
            "Memulai evaluasi data bukan neris\n",
            "242/242 [==============================] - 2s 6ms/step\n",
            "Loss : 0\n",
            "Akurasi : 99% benar\n",
            "Abs Err : 0\n",
            "Categorical Cross Entropy : 0\n",
            "Mencoba menganalisis paket sedikit sedikit Paket neris\n",
            "5/5 [==============================] - 0s 7ms/step\n",
            "Loss : 0\n",
            "Akurasi : 100% benar\n",
            "Abs Err : 0\n",
            "Categorical Cross Entropy : 1\n",
            "Mencoba menganalisis paket sedikit sedikit Paket Lain\n",
            "4/4 [==============================] - 0s 7ms/step\n",
            "Loss : 0\n",
            "Akurasi : 100% benar\n",
            "Abs Err : 0\n",
            "Categorical Cross Entropy : 1\n",
            "Mencoba memprediksi target dari input data\n",
            "Hasil Prediksi neris :\n",
            "[0 1 1 1 1 1 1 1 1 1 1 1 1 1 1 1 1 1 1 1 1 1 1 1 1 1 1 1 1 1 1 1 1 1 1 1 1\n",
            " 1 1 1 1 1 1 1 1 1 1 1 1 1 1 1 1 1 1 1 1 1 1 1 1 1 1 1 1 1 1 1 1 1 1 1 1 1\n",
            " 1 1 1 1 1 1 1 1 1 1 1 1 1 1 1 1 1 1 1 1 1 1 1 1 1 1 1 1 1 1 1 1 1 1 1 1 1\n",
            " 1 1 1 1 1 1 1 1 1 1 1 1 1 1 1 1 1 1 1 1 1 1 1 1 1 1 1 1 1 1 1 1 1 1 1 1 1\n",
            " 1 1 1 1 1 1 1 1 1 1 1 1 1 1 1 1 1 1 1 1 1 1 1 1 1 1 1 1 1 1 1 1 1 1 1 1 1\n",
            " 1 1 1 1 1 1 1 1 1 1 1 1 1 1 1 1 1 1 1 1 1 1 1 1 1 1 1 1 1 1 1 1 1 1 1 1 1\n",
            " 1 1 1 1 1 1 1 1 1 1 1 1 1 1 1 1 1 1 1 1 1 1 1 1 1 1 1 1 1 1 1 1 1 1 1 1 1\n",
            " 1 1 1 1 1 1 1 1 1 1 1 1 1 1 1 1 1 1 1 1 1 1 1 1 1 1 1 1 1 1 1 1 1 1 1 1 1\n",
            " 1 1 1 1 1 1 1 1 1 1 1 1 1 1 1 1 1 1 1 1 1 1 1 1 1 1 1 1 1 1 1 1 1 1 1 1 1\n",
            " 1 1 1 1 1 1 1 1 1 1 1 1 1 1 1 1 1 1 1 1 1 1 1 1 1 1 1 1 1 1 1 1 1 1 1 1 1\n",
            " 1 1 1 1 1 1 1 1 1 1 1 1 1 1 1 1 1 1 1 1 1 1 1 1 1 1 1 1 1 1 1 1 1 1 1 1 1\n",
            " 0 1 1 0 0 0 0 0 0 0 0 0 0 0 0 0]\n",
            "Hasil Prediksi normal :\n",
            "[0 0 0 0 0 0 0 0 0 0 0 0 0 0 0 0 0 0 0 0 0 0 0 0 0 0 0 0 0 0 0 0 0 0 0 0 0\n",
            " 0 0 0 0 0 0 0 0 0 0 0 0 0 0 0 0 0 0 0 0 0 0 0 0 0 0 0 0 0 0 0 0 0 0 0 0 0\n",
            " 0 0 0 0 0 0 0 0 0 1 0 0 0 0 0 0 0 0 0 0 0 0 0 0 0 0 0 0 0 0 0 0 0 0 0 0 0\n",
            " 0 0 0 0 0 0 0 0 0 0 0 0 0 0 0 0 0 0 0 0 0 0 0 0 0 0 0 0 0 0 0 0 0 0 0 0 0\n",
            " 0 0 0 0 0 0 0 0 0 0 0 0 0 0 0 0 0 0 0 0 0 0 0 0 0 0 0 0 0 0 0 0 0 0 0 0 0\n",
            " 0 0 0 0 0 0 0 0 0 0 0 0 0 0 0 0 0 0 0 0 0 0 0 0 0 0 0 0 0 0 0 0 0 0 0 0 0\n",
            " 0 0 0 0 0 0 0 0 1 0 0 0 0 0 0 0 0 0 0 0]\n"
          ],
          "name": "stdout"
        }
      ]
    },
    {
      "cell_type": "markdown",
      "metadata": {
        "id": "mvgOWwJ6RF8b",
        "colab_type": "text"
      },
      "source": [
        "# Mempersiapkan Model"
      ]
    },
    {
      "cell_type": "code",
      "metadata": {
        "id": "10YKMCqqRI3T",
        "colab_type": "code",
        "outputId": "50aa86b9-75a2-40f0-d44f-8cfba99a35fd",
        "colab": {
          "base_uri": "https://localhost:8080/",
          "height": 521
        }
      },
      "source": [
        "from keras.models import Sequential\n",
        "from keras import optimizers, metrics\n",
        "from keras.layers import Conv2D, Conv1D, Dense, Embedding, Reshape, BatchNormalization, MaxPooling2D, Flatten, Dropout, MaxPooling1D\n",
        "from keras import losses\n",
        "from keras.utils import plot_model\n",
        "model = Sequential();\n",
        "\n",
        "vocab_size = 257 # ukuran variasi unutuk Embedding Layer\n",
        "emb_dimension = 50\n",
        "dim1 = 1448\n",
        "dim2 = 1\n",
        "channel = 1\n",
        "\n",
        "model.add(Embedding(vocab_size, emb_dimension, input_length=dim1))\n",
        "model.add(Reshape((dim1, emb_dimension, channel)))\n",
        "model.add(Conv2D(32,kernel_size=(50, 50),activation='sigmoid',padding='valid'))\n",
        "model.add(BatchNormalization())\n",
        "model.add(Conv2D(64,kernel_size=(50, 1),activation='sigmoid',padding='valid'))\n",
        "model.add(BatchNormalization())\n",
        "model.add(MaxPooling2D(pool_size=(100, 1),padding='valid'))\n",
        "model.add(BatchNormalization())\n",
        "model.add(Flatten())\n",
        "model.add(Dense(128,activation='sigmoid'))\n",
        "#model.add(Dropout(0.4))\n",
        "model.add(Dense(2, activation='sigmoid'))\n",
        "sgd = optimizers.SGD(lr=1e-3, momentum=0.0, decay=0.0, nesterov=False)\n",
        "model.compile(optimizer = sgd, loss='categorical_crossentropy', metrics=['accuracy', metrics.mae, metrics.categorical_accuracy])\n",
        "#model.load_weights(\"/content/data/My Drive/VirusData/1neris/Neris.hs5\")\n",
        "model.summary()\n",
        "plot_model(model, to_file='/content/data/My Drive/VirusData/CNNModel.png', show_shapes=True)\n",
        "# model = Sequential()\n",
        "# model.add(Conv1D(filters=64, kernel_size=3, activation='relu', input_shape=(3000,100)))\n",
        "# model.add(Conv1D(filters=64, kernel_size=3, activation='relu'))\n",
        "# model.add(Dropout(0.5))\n",
        "# model.add(MaxPooling1D(pool_size=2))\n",
        "# model.add(Flatten())\n",
        "# model.add(Dense(100, activation='relu'))\n",
        "# model.add(Dense(2, activation='softmax'))\n",
        "# model.compile(loss='categorical_crossentropy', optimizer='adam', metrics=['accuracy'])\n",
        "# model.summary()"
      ],
      "execution_count": 0,
      "outputs": [
        {
          "output_type": "stream",
          "text": [
            "_________________________________________________________________\n",
            "Layer (type)                 Output Shape              Param #   \n",
            "=================================================================\n",
            "embedding_4 (Embedding)      (None, 1448, 50)          12850     \n",
            "_________________________________________________________________\n",
            "reshape_4 (Reshape)          (None, 1448, 50, 1)       0         \n",
            "_________________________________________________________________\n",
            "conv2d_7 (Conv2D)            (None, 1399, 1, 32)       80032     \n",
            "_________________________________________________________________\n",
            "batch_normalization_10 (Batc (None, 1399, 1, 32)       128       \n",
            "_________________________________________________________________\n",
            "conv2d_8 (Conv2D)            (None, 1350, 1, 64)       102464    \n",
            "_________________________________________________________________\n",
            "batch_normalization_11 (Batc (None, 1350, 1, 64)       256       \n",
            "_________________________________________________________________\n",
            "max_pooling2d_4 (MaxPooling2 (None, 13, 1, 64)         0         \n",
            "_________________________________________________________________\n",
            "batch_normalization_12 (Batc (None, 13, 1, 64)         256       \n",
            "_________________________________________________________________\n",
            "flatten_4 (Flatten)          (None, 832)               0         \n",
            "_________________________________________________________________\n",
            "dense_7 (Dense)              (None, 128)               106624    \n",
            "_________________________________________________________________\n",
            "dense_8 (Dense)              (None, 2)                 258       \n",
            "=================================================================\n",
            "Total params: 302,868\n",
            "Trainable params: 302,548\n",
            "Non-trainable params: 320\n",
            "_________________________________________________________________\n"
          ],
          "name": "stdout"
        }
      ]
    },
    {
      "cell_type": "markdown",
      "metadata": {
        "id": "iU0TdnQITnck",
        "colab_type": "text"
      },
      "source": [
        "# Proses Training Data\n",
        "Di bagian ini saya mendefinisikan fungsi untuk memuat data, mengolah data, dan melakukan training data"
      ]
    },
    {
      "cell_type": "code",
      "metadata": {
        "id": "LnOZqd43TrLj",
        "colab_type": "code",
        "outputId": "d85c0099-bc18-4779-8a98-6a83361b299a",
        "colab": {
          "base_uri": "https://localhost:8080/",
          "height": 34
        }
      },
      "source": [
        "import numpy as np\n",
        "\n",
        "# Mendifinisikan baca path\n",
        "def muat_data(path):\n",
        "  print(\"Data sedang di muat...\")\n",
        "  with open(path, \"rb\") as row:\n",
        "    raw = row.read()\n",
        "  \n",
        "  # Mengubah byte array menjadi int array\n",
        "  data = [x for x in raw]\n",
        "  return data\n",
        "\n",
        "#print(data)\n",
        "# Mendifinisikan fungsi untuk mengolah data menjadi olahan yang dapat dikonsumsi\n",
        "def olah_data(data, target):\n",
        "  print(\"Dengan ukuran : %d byte\" % (len(data)))\n",
        "  print(\"Data selesai di Load\")\n",
        "  print(\"Melakukan pemecahan data...\")\n",
        "  i = 0\n",
        "  a = 0\n",
        "  list_x = []\n",
        "  list_y = []\n",
        "  \n",
        "  while (a < len(data)):\n",
        "    a = a + 1\n",
        "    if(a >= i):\n",
        "      # nilai input x di padding agar length terakhir juga 3000\n",
        "      list_x.append(np.pad(data[i:i+3000], (0,3000-len(data[i:i+3000])), 'constant', constant_values=0))\n",
        "      list_y.append([target])\n",
        "      i = i + 3000\n",
        "  \n",
        "  input_x = np.array([np.array(x) for x in list_x])\n",
        "  input_y = np.array([np.array(x) for x in list_y])\n",
        "  print(input_x.shape)\n",
        "#   print(\"Mengubah bentuk input_x\")\n",
        "#   input_x = input_x.reshape(input_x.shape[0],3000,1)\n",
        "  print(input_y.shape)\n",
        "  #input_y = np.transpose(input_y)\n",
        "  print(\"Data selesai dipecah\")\n",
        "  print(\"Pecahan data : %d \" % (len(input_x)))\n",
        "  print(\"\\n\")\n",
        "  return input_x, input_y\n",
        "\n",
        "# Mendefinisikan fungsi untuk memulai training data\n",
        "from keras.utils import to_categorical\n",
        "def training_data(model, wpath, input_x, input_y, valid_x, valid_y):\n",
        "  print(\"Memulai training data...\")\n",
        "  history = model.fit(x=input_x, y=to_categorical(input_y, num_classes=2), validation_data=(valid_x, to_categorical(valid_y)), epochs=50)\n",
        "  model.save_weights(wpath)\n",
        "  print(\"Training Data selesai\")\n",
        "  return history\n",
        "\n",
        "def training_data2(model, wpath, input_x, input_y):\n",
        "  print(\"Memulai training data...\")\n",
        "  history = model.fit(x=input_x, y=to_categorical(input_y, num_classes=2), epochs=50)\n",
        "  model.save_weights(wpath)\n",
        "  print(\"Training Data selesai\")\n",
        "  return history\n",
        "\n",
        "# Mendefinisikan fungsi untuk melakukan testing evaluasi dan prediksi terhadap data\n",
        "def plot_hasil(model, nama_model, input_x, input_y, normal_x, normal_y):\n",
        "  print(model.metrics_names)\n",
        "  print(\"Memulai evaluasi data %s yang benar\" % (nama_model))\n",
        "  loss, acc, mea, ca = model.evaluate(x=input_x, y=to_categorical(input_y, num_classes=2))\n",
        "  print(\"Loss : %d\" % (loss))\n",
        "  print(\"Akurasi : %d%% benar\" % (acc*100))\n",
        "  print(\"Abs Err : %d\" % (mea))\n",
        "  print(\"Categorical Cross Entropy : %d\" % (ca))\n",
        "  print(\"Memulai evaluasi data bukan %s\" % (nama_model))\n",
        "  loss, acc, mea, ca = model.evaluate(x=normal_x, y=to_categorical(normal_y, num_classes=2))\n",
        "  print(\"Loss : %d\" % (loss))\n",
        "  print(\"Akurasi : %d%% benar\" % (acc*100))\n",
        "  print(\"Abs Err : %d\" % (mea))\n",
        "  print(\"Categorical Cross Entropy : %d\" % (ca))\n",
        "  print(\"Mencoba menganalisis paket sedikit sedikit Paket %s\" % (nama_model))\n",
        "  loss, acc, mea, ca = model.evaluate(x=input_x[0:5], y=to_categorical(input_y, num_classes=2)[0:5])\n",
        "  print(\"Loss : %d\" % (loss))\n",
        "  print(\"Akurasi : %d%% benar\" % (acc*100))\n",
        "  print(\"Abs Err : %d\" % (mea))\n",
        "  print(\"Categorical Cross Entropy : %d\" % (ca))\n",
        "  print(\"Mencoba menganalisis paket sedikit sedikit Paket Lain\")\n",
        "  loss, acc, mea, ca = model.evaluate(x=normal_x[1:5], y=to_categorical(normal_y, num_classes=2)[1:5])\n",
        "  print(\"Loss : %d\" % (loss))\n",
        "  print(\"Akurasi : %d%% benar\" % (acc*100))\n",
        "  print(\"Abs Err : %d\" % (mea))\n",
        "  print(\"Categorical Cross Entropy : %d\" % (ca))\n",
        "  print(\"Mencoba memprediksi target dari input data\")\n",
        "  prediksi = model.predict_classes(input_x)\n",
        "  print(\"Hasil Prediksi neris :\")\n",
        "  print(prediksi)\n",
        "  prediksi = model.predict_classes(normal_x)\n",
        "  print(\"Hasil Prediksi normal :\")\n",
        "  print(prediksi)"
      ],
      "execution_count": 0,
      "outputs": [
        {
          "output_type": "stream",
          "text": [
            "Using TensorFlow backend.\n"
          ],
          "name": "stderr"
        }
      ]
    },
    {
      "cell_type": "code",
      "metadata": {
        "id": "XeIW8EhtyBDG",
        "colab_type": "code",
        "outputId": "0cad1a9d-5478-401d-eade-34ec42b4f9e6",
        "colab": {
          "base_uri": "https://localhost:8080/",
          "height": 185
        }
      },
      "source": [
        "list_x = []\n",
        "list_x.append(np.pad(data[i:i+3000], (0,3000-len(data[i:i+3000])), 'constant', constant_values=0))"
      ],
      "execution_count": 0,
      "outputs": [
        {
          "output_type": "error",
          "ename": "NameError",
          "evalue": "ignored",
          "traceback": [
            "\u001b[0;31m---------------------------------------------------------------------------\u001b[0m",
            "\u001b[0;31mNameError\u001b[0m                                 Traceback (most recent call last)",
            "\u001b[0;32m<ipython-input-10-327d1473b3b9>\u001b[0m in \u001b[0;36m<module>\u001b[0;34m()\u001b[0m\n\u001b[1;32m      1\u001b[0m \u001b[0mlist_x\u001b[0m \u001b[0;34m=\u001b[0m \u001b[0;34m[\u001b[0m\u001b[0;34m]\u001b[0m\u001b[0;34m\u001b[0m\u001b[0;34m\u001b[0m\u001b[0m\n\u001b[0;32m----> 2\u001b[0;31m \u001b[0mlist_x\u001b[0m\u001b[0;34m.\u001b[0m\u001b[0mappend\u001b[0m\u001b[0;34m(\u001b[0m\u001b[0mnp\u001b[0m\u001b[0;34m.\u001b[0m\u001b[0mpad\u001b[0m\u001b[0;34m(\u001b[0m\u001b[0mdata\u001b[0m\u001b[0;34m[\u001b[0m\u001b[0mi\u001b[0m\u001b[0;34m:\u001b[0m\u001b[0mi\u001b[0m\u001b[0;34m+\u001b[0m\u001b[0;36m3000\u001b[0m\u001b[0;34m]\u001b[0m\u001b[0;34m,\u001b[0m \u001b[0;34m(\u001b[0m\u001b[0;36m0\u001b[0m\u001b[0;34m,\u001b[0m\u001b[0;36m3000\u001b[0m\u001b[0;34m-\u001b[0m\u001b[0mlen\u001b[0m\u001b[0;34m(\u001b[0m\u001b[0mdata\u001b[0m\u001b[0;34m[\u001b[0m\u001b[0mi\u001b[0m\u001b[0;34m:\u001b[0m\u001b[0mi\u001b[0m\u001b[0;34m+\u001b[0m\u001b[0;36m3000\u001b[0m\u001b[0;34m]\u001b[0m\u001b[0;34m)\u001b[0m\u001b[0;34m)\u001b[0m\u001b[0;34m,\u001b[0m \u001b[0;34m'constant'\u001b[0m\u001b[0;34m,\u001b[0m \u001b[0mconstant_values\u001b[0m\u001b[0;34m=\u001b[0m\u001b[0;36m0\u001b[0m\u001b[0;34m)\u001b[0m\u001b[0;34m)\u001b[0m\u001b[0;34m\u001b[0m\u001b[0;34m\u001b[0m\u001b[0m\n\u001b[0m",
            "\u001b[0;31mNameError\u001b[0m: name 'data' is not defined"
          ]
        }
      ]
    },
    {
      "cell_type": "markdown",
      "metadata": {
        "id": "oZx93h7fTtbL",
        "colab_type": "text"
      },
      "source": [
        "## Training Data Neris"
      ]
    },
    {
      "cell_type": "markdown",
      "metadata": {
        "id": "-pqiWs0BOuOA",
        "colab_type": "text"
      },
      "source": [
        "### Muat data"
      ]
    },
    {
      "cell_type": "code",
      "metadata": {
        "id": "eCU5Tt5RNpGW",
        "colab_type": "code",
        "outputId": "4ce23bde-1a38-4745-d8dc-fc8d7c4b3058",
        "colab": {
          "base_uri": "https://localhost:8080/",
          "height": 538
        }
      },
      "source": [
        "data_neris = muat_data(nerispath)\n",
        "data_firefox = muat_data(firefoxpath)\n",
        "data_normal1 = muat_data(normal_1)\n",
        "\n",
        "neris_x, neris_y = olah_data(data_neris,1)\n",
        "firefox_x, firefox_y = olah_data(data_firefox,0)\n",
        "normal1_x, normal1_y = olah_data(data_normal1,0)"
      ],
      "execution_count": 0,
      "outputs": [
        {
          "output_type": "stream",
          "text": [
            "Data sedang di muat...\n",
            "Data sedang di muat...\n",
            "Data sedang di muat...\n",
            "Dengan ukuran : 586240 byte\n",
            "Data selesai di Load\n",
            "Melakukan pemecahan data...\n",
            "(196, 3000)\n",
            "(196, 1)\n",
            "Data selesai dipecah\n",
            "Pecahan data : 196 \n",
            "\n",
            "\n",
            "Dengan ukuran : 285376 byte\n",
            "Data selesai di Load\n",
            "Melakukan pemecahan data...\n",
            "(96, 3000)\n",
            "(96, 1)\n",
            "Data selesai dipecah\n",
            "Pecahan data : 96 \n",
            "\n",
            "\n",
            "Dengan ukuran : 40720 byte\n",
            "Data selesai di Load\n",
            "Melakukan pemecahan data...\n",
            "(14, 3000)\n",
            "(14, 1)\n",
            "Data selesai dipecah\n",
            "Pecahan data : 14 \n",
            "\n",
            "\n"
          ],
          "name": "stdout"
        }
      ]
    },
    {
      "cell_type": "markdown",
      "metadata": {
        "id": "2Lxn-rNIOw7H",
        "colab_type": "text"
      },
      "source": [
        "### Gabung Data"
      ]
    },
    {
      "cell_type": "code",
      "metadata": {
        "id": "UxqGv-6tOz_a",
        "colab_type": "code",
        "outputId": "bf3d7c8c-7cbe-465b-aa48-f37cffd10a1f",
        "colab": {
          "base_uri": "https://localhost:8080/",
          "height": 52
        }
      },
      "source": [
        "#input_x = np.concatenate((neris_x, firefox_x), axis=0)\n",
        "#input_y = np.concatenate((neris_y, firefox_y), axis=0)\n",
        "#input_x = np.concatenate((input_x, normal1_x), axis=0)\n",
        "#input_y = np.concatenate((input_y, normal1_y), axis=0)\n",
        "# Mengacak urutan array x dan y agar dapat menemukan global minima (konvergensi)\n",
        "from sklearn.utils import shuffle\n",
        "#input_x, input_y = shuffle(input_x, input_y, random_state=0)\n",
        "input_x, input_y = neris_x, neris_y\n",
        "# Acak urutan dan menambah data firefox_x,y\n",
        "valid_x = np.concatenate((input_x, firefox_x))\n",
        "valid_y = np.concatenate((input_y, firefox_y))\n",
        "valid_x, valid_y = shuffle(valid_x, valid_y, random_state=0)\n",
        "print(valid_x.shape)\n",
        "print(input_y.shape)"
      ],
      "execution_count": 0,
      "outputs": [
        {
          "output_type": "stream",
          "text": [
            "(292, 3000)\n",
            "(196, 1)\n"
          ],
          "name": "stdout"
        }
      ]
    },
    {
      "cell_type": "markdown",
      "metadata": {
        "id": "OOO-NEgRPShv",
        "colab_type": "text"
      },
      "source": [
        "### Training Data"
      ]
    },
    {
      "cell_type": "code",
      "metadata": {
        "id": "VSrxVJBGMdh6",
        "colab_type": "code",
        "outputId": "aeb2e2fc-15d1-4488-e1be-8b88a51398ef",
        "colab": {
          "base_uri": "https://localhost:8080/",
          "height": 1000
        }
      },
      "source": [
        "history = training_data(model, wnerispath, input_x, input_y, valid_x, valid_y)\n",
        "import pickle\n",
        "with open(hnerispath, 'wb') as file_pi:\n",
        "        pickle.dump(history.history, file_pi)"
      ],
      "execution_count": 0,
      "outputs": [
        {
          "output_type": "stream",
          "text": [
            "Memulai training data...\n",
            "Train on 196 samples, validate on 292 samples\n",
            "Epoch 1/50\n",
            "196/196 [==============================] - 22s 114ms/step - loss: 0.6926 - acc: 0.5459 - mean_absolute_error: 0.4997 - categorical_accuracy: 0.5459 - val_loss: 0.6921 - val_acc: 0.6644 - val_mean_absolute_error: 0.4995 - val_categorical_accuracy: 0.6644\n",
            "Epoch 2/50\n",
            "196/196 [==============================] - 21s 108ms/step - loss: 0.6893 - acc: 0.7143 - mean_absolute_error: 0.4980 - categorical_accuracy: 0.7143 - val_loss: 0.6909 - val_acc: 0.6712 - val_mean_absolute_error: 0.4989 - val_categorical_accuracy: 0.6712\n",
            "Epoch 3/50\n",
            "196/196 [==============================] - 21s 106ms/step - loss: 0.6851 - acc: 0.8724 - mean_absolute_error: 0.4959 - categorical_accuracy: 0.8724 - val_loss: 0.6898 - val_acc: 0.6712 - val_mean_absolute_error: 0.4983 - val_categorical_accuracy: 0.6712\n",
            "Epoch 4/50\n",
            "196/196 [==============================] - 21s 107ms/step - loss: 0.6817 - acc: 0.9592 - mean_absolute_error: 0.4942 - categorical_accuracy: 0.9592 - val_loss: 0.6886 - val_acc: 0.6712 - val_mean_absolute_error: 0.4977 - val_categorical_accuracy: 0.6712\n",
            "Epoch 5/50\n",
            "196/196 [==============================] - 21s 106ms/step - loss: 0.6784 - acc: 0.9949 - mean_absolute_error: 0.4926 - categorical_accuracy: 0.9949 - val_loss: 0.6875 - val_acc: 0.6712 - val_mean_absolute_error: 0.4971 - val_categorical_accuracy: 0.6712\n",
            "Epoch 6/50\n",
            "196/196 [==============================] - 21s 107ms/step - loss: 0.6755 - acc: 1.0000 - mean_absolute_error: 0.4911 - categorical_accuracy: 1.0000 - val_loss: 0.6863 - val_acc: 0.6712 - val_mean_absolute_error: 0.4965 - val_categorical_accuracy: 0.6712\n",
            "Epoch 7/50\n",
            "196/196 [==============================] - 21s 106ms/step - loss: 0.6731 - acc: 1.0000 - mean_absolute_error: 0.4899 - categorical_accuracy: 1.0000 - val_loss: 0.6852 - val_acc: 0.6712 - val_mean_absolute_error: 0.4959 - val_categorical_accuracy: 0.6712\n",
            "Epoch 8/50\n",
            "196/196 [==============================] - 21s 106ms/step - loss: 0.6687 - acc: 1.0000 - mean_absolute_error: 0.4876 - categorical_accuracy: 1.0000 - val_loss: 0.6842 - val_acc: 0.6712 - val_mean_absolute_error: 0.4953 - val_categorical_accuracy: 0.6712\n",
            "Epoch 9/50\n",
            "196/196 [==============================] - 21s 106ms/step - loss: 0.6653 - acc: 1.0000 - mean_absolute_error: 0.4859 - categorical_accuracy: 1.0000 - val_loss: 0.6831 - val_acc: 0.6712 - val_mean_absolute_error: 0.4947 - val_categorical_accuracy: 0.6712\n",
            "Epoch 10/50\n",
            "196/196 [==============================] - 21s 107ms/step - loss: 0.6614 - acc: 1.0000 - mean_absolute_error: 0.4839 - categorical_accuracy: 1.0000 - val_loss: 0.6820 - val_acc: 0.6712 - val_mean_absolute_error: 0.4941 - val_categorical_accuracy: 0.6712\n",
            "Epoch 11/50\n",
            "196/196 [==============================] - 21s 106ms/step - loss: 0.6574 - acc: 1.0000 - mean_absolute_error: 0.4818 - categorical_accuracy: 1.0000 - val_loss: 0.6810 - val_acc: 0.6712 - val_mean_absolute_error: 0.4936 - val_categorical_accuracy: 0.6712\n",
            "Epoch 12/50\n",
            "196/196 [==============================] - 21s 107ms/step - loss: 0.6552 - acc: 1.0000 - mean_absolute_error: 0.4806 - categorical_accuracy: 1.0000 - val_loss: 0.6799 - val_acc: 0.6712 - val_mean_absolute_error: 0.4930 - val_categorical_accuracy: 0.6712\n",
            "Epoch 13/50\n",
            "196/196 [==============================] - 21s 107ms/step - loss: 0.6521 - acc: 1.0000 - mean_absolute_error: 0.4790 - categorical_accuracy: 1.0000 - val_loss: 0.6789 - val_acc: 0.6712 - val_mean_absolute_error: 0.4924 - val_categorical_accuracy: 0.6712\n",
            "Epoch 14/50\n",
            "196/196 [==============================] - 21s 106ms/step - loss: 0.6484 - acc: 1.0000 - mean_absolute_error: 0.4771 - categorical_accuracy: 1.0000 - val_loss: 0.6779 - val_acc: 0.6712 - val_mean_absolute_error: 0.4918 - val_categorical_accuracy: 0.6712\n",
            "Epoch 15/50\n",
            "196/196 [==============================] - 21s 106ms/step - loss: 0.6444 - acc: 1.0000 - mean_absolute_error: 0.4750 - categorical_accuracy: 1.0000 - val_loss: 0.6770 - val_acc: 0.6712 - val_mean_absolute_error: 0.4913 - val_categorical_accuracy: 0.6712\n",
            "Epoch 16/50\n",
            "196/196 [==============================] - 21s 105ms/step - loss: 0.6428 - acc: 1.0000 - mean_absolute_error: 0.4742 - categorical_accuracy: 1.0000 - val_loss: 0.6760 - val_acc: 0.6712 - val_mean_absolute_error: 0.4907 - val_categorical_accuracy: 0.6712\n",
            "Epoch 17/50\n",
            "196/196 [==============================] - 21s 106ms/step - loss: 0.6384 - acc: 1.0000 - mean_absolute_error: 0.4718 - categorical_accuracy: 1.0000 - val_loss: 0.6750 - val_acc: 0.6712 - val_mean_absolute_error: 0.4901 - val_categorical_accuracy: 0.6712\n",
            "Epoch 18/50\n",
            "196/196 [==============================] - 21s 106ms/step - loss: 0.6360 - acc: 1.0000 - mean_absolute_error: 0.4706 - categorical_accuracy: 1.0000 - val_loss: 0.6741 - val_acc: 0.6712 - val_mean_absolute_error: 0.4896 - val_categorical_accuracy: 0.6712\n",
            "Epoch 19/50\n",
            "196/196 [==============================] - 21s 107ms/step - loss: 0.6328 - acc: 1.0000 - mean_absolute_error: 0.4689 - categorical_accuracy: 1.0000 - val_loss: 0.6732 - val_acc: 0.6712 - val_mean_absolute_error: 0.4890 - val_categorical_accuracy: 0.6712\n",
            "Epoch 20/50\n",
            "196/196 [==============================] - 21s 106ms/step - loss: 0.6296 - acc: 1.0000 - mean_absolute_error: 0.4672 - categorical_accuracy: 1.0000 - val_loss: 0.6723 - val_acc: 0.6712 - val_mean_absolute_error: 0.4884 - val_categorical_accuracy: 0.6712\n",
            "Epoch 21/50\n",
            "196/196 [==============================] - 21s 106ms/step - loss: 0.6262 - acc: 1.0000 - mean_absolute_error: 0.4654 - categorical_accuracy: 1.0000 - val_loss: 0.6714 - val_acc: 0.6712 - val_mean_absolute_error: 0.4879 - val_categorical_accuracy: 0.6712\n",
            "Epoch 22/50\n",
            "196/196 [==============================] - 21s 106ms/step - loss: 0.6239 - acc: 1.0000 - mean_absolute_error: 0.4641 - categorical_accuracy: 1.0000 - val_loss: 0.6705 - val_acc: 0.6712 - val_mean_absolute_error: 0.4873 - val_categorical_accuracy: 0.6712\n",
            "Epoch 23/50\n",
            "196/196 [==============================] - 21s 106ms/step - loss: 0.6203 - acc: 1.0000 - mean_absolute_error: 0.4622 - categorical_accuracy: 1.0000 - val_loss: 0.6696 - val_acc: 0.6712 - val_mean_absolute_error: 0.4868 - val_categorical_accuracy: 0.6712\n",
            "Epoch 24/50\n",
            "196/196 [==============================] - 21s 105ms/step - loss: 0.6184 - acc: 1.0000 - mean_absolute_error: 0.4612 - categorical_accuracy: 1.0000 - val_loss: 0.6688 - val_acc: 0.6712 - val_mean_absolute_error: 0.4862 - val_categorical_accuracy: 0.6712\n",
            "Epoch 25/50\n",
            "196/196 [==============================] - 21s 105ms/step - loss: 0.6147 - acc: 1.0000 - mean_absolute_error: 0.4592 - categorical_accuracy: 1.0000 - val_loss: 0.6679 - val_acc: 0.6712 - val_mean_absolute_error: 0.4857 - val_categorical_accuracy: 0.6712\n",
            "Epoch 26/50\n",
            "196/196 [==============================] - 21s 105ms/step - loss: 0.6116 - acc: 1.0000 - mean_absolute_error: 0.4575 - categorical_accuracy: 1.0000 - val_loss: 0.6671 - val_acc: 0.6712 - val_mean_absolute_error: 0.4851 - val_categorical_accuracy: 0.6712\n",
            "Epoch 27/50\n",
            "196/196 [==============================] - 21s 105ms/step - loss: 0.6086 - acc: 1.0000 - mean_absolute_error: 0.4559 - categorical_accuracy: 1.0000 - val_loss: 0.6663 - val_acc: 0.6712 - val_mean_absolute_error: 0.4846 - val_categorical_accuracy: 0.6712\n",
            "Epoch 28/50\n",
            "196/196 [==============================] - 21s 106ms/step - loss: 0.6065 - acc: 1.0000 - mean_absolute_error: 0.4547 - categorical_accuracy: 1.0000 - val_loss: 0.6655 - val_acc: 0.6712 - val_mean_absolute_error: 0.4840 - val_categorical_accuracy: 0.6712\n",
            "Epoch 29/50\n",
            "196/196 [==============================] - 21s 105ms/step - loss: 0.6023 - acc: 1.0000 - mean_absolute_error: 0.4524 - categorical_accuracy: 1.0000 - val_loss: 0.6647 - val_acc: 0.6712 - val_mean_absolute_error: 0.4835 - val_categorical_accuracy: 0.6712\n",
            "Epoch 30/50\n",
            "196/196 [==============================] - 21s 105ms/step - loss: 0.6004 - acc: 1.0000 - mean_absolute_error: 0.4514 - categorical_accuracy: 1.0000 - val_loss: 0.6639 - val_acc: 0.6712 - val_mean_absolute_error: 0.4829 - val_categorical_accuracy: 0.6712\n",
            "Epoch 31/50\n",
            "196/196 [==============================] - 21s 106ms/step - loss: 0.5964 - acc: 1.0000 - mean_absolute_error: 0.4492 - categorical_accuracy: 1.0000 - val_loss: 0.6631 - val_acc: 0.6712 - val_mean_absolute_error: 0.4824 - val_categorical_accuracy: 0.6712\n",
            "Epoch 32/50\n",
            "196/196 [==============================] - 21s 105ms/step - loss: 0.5947 - acc: 1.0000 - mean_absolute_error: 0.4483 - categorical_accuracy: 1.0000 - val_loss: 0.6624 - val_acc: 0.6712 - val_mean_absolute_error: 0.4819 - val_categorical_accuracy: 0.6712\n",
            "Epoch 33/50\n",
            "196/196 [==============================] - 21s 105ms/step - loss: 0.5916 - acc: 1.0000 - mean_absolute_error: 0.4465 - categorical_accuracy: 1.0000 - val_loss: 0.6616 - val_acc: 0.6712 - val_mean_absolute_error: 0.4813 - val_categorical_accuracy: 0.6712\n",
            "Epoch 34/50\n",
            "196/196 [==============================] - 21s 106ms/step - loss: 0.5890 - acc: 1.0000 - mean_absolute_error: 0.4451 - categorical_accuracy: 1.0000 - val_loss: 0.6609 - val_acc: 0.6712 - val_mean_absolute_error: 0.4808 - val_categorical_accuracy: 0.6712\n",
            "Epoch 35/50\n",
            "196/196 [==============================] - 21s 106ms/step - loss: 0.5862 - acc: 1.0000 - mean_absolute_error: 0.4435 - categorical_accuracy: 1.0000 - val_loss: 0.6602 - val_acc: 0.6712 - val_mean_absolute_error: 0.4803 - val_categorical_accuracy: 0.6712\n",
            "Epoch 36/50\n",
            "196/196 [==============================] - 21s 105ms/step - loss: 0.5829 - acc: 1.0000 - mean_absolute_error: 0.4417 - categorical_accuracy: 1.0000 - val_loss: 0.6595 - val_acc: 0.6712 - val_mean_absolute_error: 0.4797 - val_categorical_accuracy: 0.6712\n",
            "Epoch 37/50\n",
            "196/196 [==============================] - 21s 105ms/step - loss: 0.5799 - acc: 1.0000 - mean_absolute_error: 0.4400 - categorical_accuracy: 1.0000 - val_loss: 0.6588 - val_acc: 0.6712 - val_mean_absolute_error: 0.4792 - val_categorical_accuracy: 0.6712\n",
            "Epoch 38/50\n",
            "196/196 [==============================] - 21s 105ms/step - loss: 0.5778 - acc: 1.0000 - mean_absolute_error: 0.4388 - categorical_accuracy: 1.0000 - val_loss: 0.6581 - val_acc: 0.6712 - val_mean_absolute_error: 0.4787 - val_categorical_accuracy: 0.6712\n",
            "Epoch 39/50\n",
            "196/196 [==============================] - 21s 105ms/step - loss: 0.5751 - acc: 1.0000 - mean_absolute_error: 0.4374 - categorical_accuracy: 1.0000 - val_loss: 0.6575 - val_acc: 0.6712 - val_mean_absolute_error: 0.4782 - val_categorical_accuracy: 0.6712\n",
            "Epoch 40/50\n",
            "196/196 [==============================] - 21s 105ms/step - loss: 0.5721 - acc: 1.0000 - mean_absolute_error: 0.4357 - categorical_accuracy: 1.0000 - val_loss: 0.6568 - val_acc: 0.6712 - val_mean_absolute_error: 0.4777 - val_categorical_accuracy: 0.6712\n",
            "Epoch 41/50\n",
            "196/196 [==============================] - 21s 105ms/step - loss: 0.5692 - acc: 1.0000 - mean_absolute_error: 0.4340 - categorical_accuracy: 1.0000 - val_loss: 0.6562 - val_acc: 0.6712 - val_mean_absolute_error: 0.4771 - val_categorical_accuracy: 0.6712\n",
            "Epoch 42/50\n",
            "196/196 [==============================] - 21s 105ms/step - loss: 0.5662 - acc: 1.0000 - mean_absolute_error: 0.4323 - categorical_accuracy: 1.0000 - val_loss: 0.6555 - val_acc: 0.6712 - val_mean_absolute_error: 0.4766 - val_categorical_accuracy: 0.6712\n",
            "Epoch 43/50\n",
            "196/196 [==============================] - 21s 106ms/step - loss: 0.5640 - acc: 1.0000 - mean_absolute_error: 0.4311 - categorical_accuracy: 1.0000 - val_loss: 0.6549 - val_acc: 0.6712 - val_mean_absolute_error: 0.4761 - val_categorical_accuracy: 0.6712\n",
            "Epoch 44/50\n",
            "196/196 [==============================] - 21s 105ms/step - loss: 0.5616 - acc: 1.0000 - mean_absolute_error: 0.4297 - categorical_accuracy: 1.0000 - val_loss: 0.6543 - val_acc: 0.6712 - val_mean_absolute_error: 0.4756 - val_categorical_accuracy: 0.6712\n",
            "Epoch 45/50\n",
            "196/196 [==============================] - 20s 104ms/step - loss: 0.5580 - acc: 1.0000 - mean_absolute_error: 0.4276 - categorical_accuracy: 1.0000 - val_loss: 0.6537 - val_acc: 0.6712 - val_mean_absolute_error: 0.4751 - val_categorical_accuracy: 0.6712\n",
            "Epoch 46/50\n",
            "196/196 [==============================] - 21s 105ms/step - loss: 0.5566 - acc: 1.0000 - mean_absolute_error: 0.4268 - categorical_accuracy: 1.0000 - val_loss: 0.6531 - val_acc: 0.6712 - val_mean_absolute_error: 0.4746 - val_categorical_accuracy: 0.6712\n",
            "Epoch 47/50\n",
            "196/196 [==============================] - 21s 105ms/step - loss: 0.5539 - acc: 1.0000 - mean_absolute_error: 0.4253 - categorical_accuracy: 1.0000 - val_loss: 0.6525 - val_acc: 0.6712 - val_mean_absolute_error: 0.4741 - val_categorical_accuracy: 0.6712\n",
            "Epoch 48/50\n",
            "196/196 [==============================] - 20s 104ms/step - loss: 0.5513 - acc: 1.0000 - mean_absolute_error: 0.4238 - categorical_accuracy: 1.0000 - val_loss: 0.6520 - val_acc: 0.6712 - val_mean_absolute_error: 0.4736 - val_categorical_accuracy: 0.6712\n",
            "Epoch 49/50\n",
            "196/196 [==============================] - 21s 106ms/step - loss: 0.5491 - acc: 1.0000 - mean_absolute_error: 0.4225 - categorical_accuracy: 1.0000 - val_loss: 0.6514 - val_acc: 0.6712 - val_mean_absolute_error: 0.4731 - val_categorical_accuracy: 0.6712\n",
            "Epoch 50/50\n",
            "196/196 [==============================] - 21s 105ms/step - loss: 0.5461 - acc: 1.0000 - mean_absolute_error: 0.4208 - categorical_accuracy: 1.0000 - val_loss: 0.6509 - val_acc: 0.6712 - val_mean_absolute_error: 0.4726 - val_categorical_accuracy: 0.6712\n",
            "Training Data selesai\n"
          ],
          "name": "stdout"
        }
      ]
    },
    {
      "cell_type": "markdown",
      "metadata": {
        "id": "JSNYmPNCQMpW",
        "colab_type": "text"
      },
      "source": [
        "### Plot Data"
      ]
    },
    {
      "cell_type": "code",
      "metadata": {
        "id": "AL3DB0z5QL6B",
        "colab_type": "code",
        "outputId": "98206d5c-c8ba-43f9-8376-81755e5b18e0",
        "colab": {
          "base_uri": "https://localhost:8080/",
          "height": 545
        }
      },
      "source": [
        "import matplotlib.pyplot as plt\n",
        "plt.plot(history.history['loss'])\n",
        "plt.title(\"Model Loss\")\n",
        "plt.legend(['loss'])\n",
        "plt.grid()\n",
        "plt.show()\n",
        "plt.plot(history.history['acc'])\n",
        "plt.title(\"Model Accuracy\")\n",
        "plt.legend(['accuracy'])\n",
        "plt.grid()\n",
        "plt.show()"
      ],
      "execution_count": 0,
      "outputs": [
        {
          "output_type": "display_data",
          "data": {
            "image/png": "[encoded data removed]",
            "text/plain": [
              "<Figure size 432x288 with 1 Axes>"
            ]
          },
          "metadata": {
            "tags": []
          }
        },
        {
          "output_type": "display_data",
          "data": {
            "image/png": "[encoded data removed]",
            "text/plain": [
              "<Figure size 432x288 with 1 Axes>"
            ]
          },
          "metadata": {
            "tags": []
          }
        }
      ]
    },
    {
      "cell_type": "code",
      "metadata": {
        "id": "ABlL_drIOx4A",
        "colab_type": "code",
        "outputId": "a5279da0-35e6-4f8b-c123-1891c9c09cb3",
        "colab": {
          "base_uri": "https://localhost:8080/",
          "height": 1000
        }
      },
      "source": [
        "print(model.metrics_names)\n",
        "print(\"Memulai evaluasi data neris yang benar\")\n",
        "neris_loss, neris_acc, neris_mea, neris_ca = model.evaluate(x=neris_x, y=to_categorical(neris_y, num_classes=2))\n",
        "print(\"Loss : %d\" % (neris_loss))\n",
        "print(\"Akurasi : %d%% benar\" % (neris_acc*100))\n",
        "print(\"Abs Err : %d\" % (neris_mea))\n",
        "print(\"Categorical Cross Entropy : %d\" % (neris_ca))\n",
        "print(\"Memulai evaluasi data bukan neris\")\n",
        "neris_loss, neris_acc, neris_mea, neris_ca = model.evaluate(x=firefox_x, y=to_categorical(firefox_y, num_classes=2))\n",
        "print(\"Loss : %d\" % (neris_loss))\n",
        "print(\"Akurasi : %d%% benar\" % (neris_acc*100))\n",
        "print(\"Abs Err : %d\" % (neris_mea))\n",
        "print(\"Categorical Cross Entropy : %d\" % (neris_ca))\n",
        "print(\"Mencoba menganalisis paket sedikit sedikit Paket Neris\")\n",
        "neris_loss, neris_acc, neris_mea, neris_ca = model.evaluate(x=neris_x[100:105], y=to_categorical(neris_y, num_classes=2)[100:105])\n",
        "print(\"Loss : %d\" % (neris_loss))\n",
        "print(\"Akurasi : %d%% benar\" % (neris_acc*100))\n",
        "print(\"Abs Err : %d\" % (neris_mea))\n",
        "print(\"Categorical Cross Entropy : %d\" % (neris_ca))\n",
        "print(\"Mencoba menganalisis paket sedikit sedikit Paket Lain\")\n",
        "neris_loss, neris_acc, neris_mea, neris_ca = model.evaluate(x=firefox_x[1:5], y=to_categorical(firefox_y, num_classes=2)[1:5])\n",
        "print(\"Loss : %d\" % (neris_loss))\n",
        "print(\"Akurasi : %d%% benar\" % (neris_acc*100))\n",
        "print(\"Abs Err : %d\" % (neris_mea))\n",
        "print(\"Categorical Cross Entropy : %d\" % (neris_ca))\n",
        "print(\"Mencoba memprediksi target dari input data\")\n",
        "prediksi = model.predict(x=neris_x)\n",
        "print(\"Hasil Prediksi \")\n",
        "print(prediksi)"
      ],
      "execution_count": 0,
      "outputs": [
        {
          "output_type": "stream",
          "text": [
            "['loss', 'acc', 'mean_absolute_error', 'categorical_accuracy']\n",
            "Memulai evaluasi data neris yang benar\n",
            "196/196 [==============================] - 3s 15ms/step\n",
            "Loss : 0\n",
            "Akurasi : 100% benar\n",
            "Abs Err : 0\n",
            "Categorical Cross Entropy : 1\n",
            "Memulai evaluasi data bukan neris\n",
            "96/96 [==============================] - 1s 14ms/step\n",
            "Loss : 0\n",
            "Akurasi : 0% benar\n",
            "Abs Err : 0\n",
            "Categorical Cross Entropy : 0\n",
            "Mencoba menganalisis paket sedikit sedikit Paket Neris\n",
            "5/5 [==============================] - 0s 16ms/step\n",
            "Loss : 0\n",
            "Akurasi : 100% benar\n",
            "Abs Err : 0\n",
            "Categorical Cross Entropy : 1\n",
            "Mencoba menganalisis paket sedikit sedikit Paket Lain\n",
            "4/4 [==============================] - 0s 16ms/step\n",
            "Loss : 0\n",
            "Akurasi : 0% benar\n",
            "Abs Err : 0\n",
            "Categorical Cross Entropy : 0\n",
            "Mencoba memprediksi target dari input data\n",
            "Hasil Prediksi \n",
            "[[0.4188262  0.5811738 ]\n",
            " [0.42148802 0.57851195]\n",
            " [0.4199656  0.58003443]\n",
            " [0.4199656  0.58003443]\n",
            " [0.4199656  0.58003443]\n",
            " [0.4199656  0.58003443]\n",
            " [0.4199656  0.58003443]\n",
            " [0.4199656  0.58003443]\n",
            " [0.4199656  0.58003443]\n",
            " [0.4199656  0.58003443]\n",
            " [0.4199656  0.58003443]\n",
            " [0.4199656  0.58003443]\n",
            " [0.4199656  0.58003443]\n",
            " [0.4199656  0.58003443]\n",
            " [0.4199656  0.58003443]\n",
            " [0.4199656  0.58003443]\n",
            " [0.4199656  0.58003443]\n",
            " [0.4199656  0.58003443]\n",
            " [0.4199656  0.58003443]\n",
            " [0.4199656  0.58003443]\n",
            " [0.4199656  0.58003443]\n",
            " [0.4199656  0.58003443]\n",
            " [0.4199656  0.58003443]\n",
            " [0.4199656  0.58003443]\n",
            " [0.4199656  0.58003443]\n",
            " [0.4199656  0.58003443]\n",
            " [0.4199656  0.58003443]\n",
            " [0.4199656  0.58003443]\n",
            " [0.4199656  0.58003443]\n",
            " [0.4199656  0.58003443]\n",
            " [0.4199656  0.58003443]\n",
            " [0.4199656  0.58003443]\n",
            " [0.4199656  0.58003443]\n",
            " [0.4199656  0.58003443]\n",
            " [0.4199656  0.58003443]\n",
            " [0.4199656  0.58003443]\n",
            " [0.4199656  0.58003443]\n",
            " [0.4199656  0.58003443]\n",
            " [0.4199656  0.58003443]\n",
            " [0.4199656  0.58003443]\n",
            " [0.4199656  0.58003443]\n",
            " [0.4199656  0.58003443]\n",
            " [0.4199656  0.58003443]\n",
            " [0.4199656  0.58003443]\n",
            " [0.4199656  0.58003443]\n",
            " [0.4199656  0.58003443]\n",
            " [0.4199656  0.58003443]\n",
            " [0.4199656  0.58003443]\n",
            " [0.4199656  0.58003443]\n",
            " [0.4199656  0.58003443]\n",
            " [0.4199656  0.58003443]\n",
            " [0.4199656  0.58003443]\n",
            " [0.4199656  0.58003443]\n",
            " [0.4199656  0.58003443]\n",
            " [0.4199656  0.58003443]\n",
            " [0.4199656  0.58003443]\n",
            " [0.4199656  0.58003443]\n",
            " [0.4199656  0.58003443]\n",
            " [0.4199656  0.58003443]\n",
            " [0.4199656  0.58003443]\n",
            " [0.4199656  0.58003443]\n",
            " [0.4199656  0.58003443]\n",
            " [0.4199656  0.58003443]\n",
            " [0.4199656  0.58003443]\n",
            " [0.4199656  0.58003443]\n",
            " [0.4199656  0.58003443]\n",
            " [0.4199656  0.58003443]\n",
            " [0.4199656  0.58003443]\n",
            " [0.4199656  0.58003443]\n",
            " [0.4199656  0.58003443]\n",
            " [0.4199656  0.58003443]\n",
            " [0.4199656  0.58003443]\n",
            " [0.4199656  0.58003443]\n",
            " [0.4199656  0.58003443]\n",
            " [0.4199656  0.58003443]\n",
            " [0.4199656  0.58003443]\n",
            " [0.4199656  0.58003443]\n",
            " [0.4199656  0.58003443]\n",
            " [0.4199656  0.58003443]\n",
            " [0.4199656  0.58003443]\n",
            " [0.4199656  0.58003443]\n",
            " [0.4199656  0.58003443]\n",
            " [0.4199656  0.58003443]\n",
            " [0.4199656  0.58003443]\n",
            " [0.4199656  0.58003443]\n",
            " [0.4199656  0.58003443]\n",
            " [0.4199656  0.58003443]\n",
            " [0.4199656  0.58003443]\n",
            " [0.4199656  0.58003443]\n",
            " [0.4199656  0.58003443]\n",
            " [0.4199656  0.58003443]\n",
            " [0.4199656  0.58003443]\n",
            " [0.4199656  0.58003443]\n",
            " [0.4199656  0.58003443]\n",
            " [0.4199656  0.58003443]\n",
            " [0.4199656  0.58003443]\n",
            " [0.4199656  0.58003443]\n",
            " [0.4199656  0.58003443]\n",
            " [0.4199656  0.58003443]\n",
            " [0.4199656  0.58003443]\n",
            " [0.4199656  0.58003443]\n",
            " [0.4199656  0.58003443]\n",
            " [0.4199656  0.58003443]\n",
            " [0.4199656  0.58003443]\n",
            " [0.4199656  0.58003443]\n",
            " [0.4199656  0.58003443]\n",
            " [0.4199656  0.58003443]\n",
            " [0.4199656  0.58003443]\n",
            " [0.4199656  0.58003443]\n",
            " [0.4199656  0.58003443]\n",
            " [0.4199656  0.58003443]\n",
            " [0.4199656  0.58003443]\n",
            " [0.4199656  0.58003443]\n",
            " [0.4199656  0.58003443]\n",
            " [0.4199656  0.58003443]\n",
            " [0.4199656  0.58003443]\n",
            " [0.4199656  0.58003443]\n",
            " [0.4199656  0.58003443]\n",
            " [0.4199656  0.58003443]\n",
            " [0.4199656  0.58003443]\n",
            " [0.4199656  0.58003443]\n",
            " [0.4199656  0.58003443]\n",
            " [0.4199656  0.58003443]\n",
            " [0.4199656  0.58003443]\n",
            " [0.4199656  0.58003443]\n",
            " [0.4199656  0.58003443]\n",
            " [0.4199656  0.58003443]\n",
            " [0.4199656  0.58003443]\n",
            " [0.4199656  0.58003443]\n",
            " [0.4199656  0.58003443]\n",
            " [0.4199656  0.58003443]\n",
            " [0.4199656  0.58003443]\n",
            " [0.4199656  0.58003443]\n",
            " [0.4199656  0.58003443]\n",
            " [0.4199656  0.58003443]\n",
            " [0.4199656  0.58003443]\n",
            " [0.4199656  0.58003443]\n",
            " [0.4199656  0.58003443]\n",
            " [0.4199656  0.58003443]\n",
            " [0.4199656  0.58003443]\n",
            " [0.4199656  0.58003443]\n",
            " [0.4199656  0.58003443]\n",
            " [0.4199656  0.58003443]\n",
            " [0.4199656  0.58003443]\n",
            " [0.4199656  0.58003443]\n",
            " [0.4199656  0.58003443]\n",
            " [0.4199656  0.58003443]\n",
            " [0.4199656  0.58003443]\n",
            " [0.4199656  0.58003443]\n",
            " [0.4199656  0.58003443]\n",
            " [0.4199656  0.58003443]\n",
            " [0.4199656  0.58003443]\n",
            " [0.4199656  0.58003443]\n",
            " [0.4199656  0.58003443]\n",
            " [0.4199656  0.58003443]\n",
            " [0.4199656  0.58003443]\n",
            " [0.4199656  0.58003443]\n",
            " [0.4199656  0.58003443]\n",
            " [0.4199656  0.58003443]\n",
            " [0.4199656  0.58003443]\n",
            " [0.4199656  0.58003443]\n",
            " [0.4199656  0.58003443]\n",
            " [0.4199656  0.58003443]\n",
            " [0.4199656  0.58003443]\n",
            " [0.4199656  0.58003443]\n",
            " [0.4199656  0.58003443]\n",
            " [0.41840053 0.58159953]\n",
            " [0.4204194  0.5795806 ]\n",
            " [0.41988647 0.5801136 ]\n",
            " [0.42022362 0.57977635]\n",
            " [0.41971686 0.58028316]\n",
            " [0.41987357 0.58012646]\n",
            " [0.42019308 0.5798069 ]\n",
            " [0.42026672 0.5797333 ]\n",
            " [0.4197207  0.5802793 ]\n",
            " [0.4198022  0.58019775]\n",
            " [0.42162102 0.57837903]\n",
            " [0.4199656  0.58003443]\n",
            " [0.4197645  0.5802355 ]\n",
            " [0.4199656  0.58003443]\n",
            " [0.4199656  0.58003443]\n",
            " [0.4199656  0.58003443]\n",
            " [0.4199656  0.58003443]\n",
            " [0.4199656  0.58003443]\n",
            " [0.4199656  0.58003443]\n",
            " [0.4199656  0.58003443]\n",
            " [0.4199656  0.58003443]\n",
            " [0.4199656  0.58003443]\n",
            " [0.41860104 0.58139896]\n",
            " [0.41905564 0.58094436]\n",
            " [0.41958582 0.5804142 ]\n",
            " [0.42017296 0.5798271 ]\n",
            " [0.42010006 0.5798999 ]\n",
            " [0.42082742 0.57917255]\n",
            " [0.41974893 0.58025104]\n",
            " [0.42059729 0.5794027 ]]\n"
          ],
          "name": "stdout"
        }
      ]
    },
    {
      "cell_type": "markdown",
      "metadata": {
        "id": "z9wDyDHamvsS",
        "colab_type": "text"
      },
      "source": [
        "## Training Data SVCHosta"
      ]
    },
    {
      "cell_type": "markdown",
      "metadata": {
        "id": "gsObWfePm39q",
        "colab_type": "text"
      },
      "source": [
        "### Muat Data"
      ]
    },
    {
      "cell_type": "code",
      "metadata": {
        "id": "WoRsWtRfm6pz",
        "colab_type": "code",
        "outputId": "cc3d028b-85d7-409e-8421-911a8557e207",
        "colab": {
          "base_uri": "https://localhost:8080/",
          "height": 550
        }
      },
      "source": [
        "data_svchosta = muat_data(svchostapath)\n",
        "data_firefox = muat_data(firefoxpath)\n",
        "data_normal1 = muat_data(normal_1)\n",
        "\n",
        "svchosta_x, svchosta_y = olah_data(data_svchosta,1)\n",
        "firefox_x, firefox_y = olah_data(data_firefox,0)\n",
        "normal1_x, normal1_y = olah_data(data_normal1,0)"
      ],
      "execution_count": 0,
      "outputs": [
        {
          "output_type": "stream",
          "text": [
            "Data sedang di muat...\n",
            "Data sedang di muat...\n",
            "Data sedang di muat...\n",
            "Dengan ukuran : 128512 byte\n",
            "Data selesai di Load\n",
            "Melakukan pemecahan data...\n",
            "(43, 3000)\n",
            "(43, 1)\n",
            "Data selesai dipecah\n",
            "Pecahan data : 43 \n",
            "\n",
            "\n",
            "Dengan ukuran : 285376 byte\n",
            "Data selesai di Load\n",
            "Melakukan pemecahan data...\n",
            "(96, 3000)\n",
            "(96, 1)\n",
            "Data selesai dipecah\n",
            "Pecahan data : 96 \n",
            "\n",
            "\n",
            "Dengan ukuran : 40720 byte\n",
            "Data selesai di Load\n",
            "Melakukan pemecahan data...\n",
            "(14, 3000)\n",
            "(14, 1)\n",
            "Data selesai dipecah\n",
            "Pecahan data : 14 \n",
            "\n",
            "\n"
          ],
          "name": "stdout"
        }
      ]
    },
    {
      "cell_type": "code",
      "metadata": {
        "id": "4lhbdRnbxkUG",
        "colab_type": "code",
        "outputId": "2e8275f4-6ca2-4f89-fa17-ec0935c6c4a4",
        "colab": {
          "base_uri": "https://localhost:8080/",
          "height": 34
        }
      },
      "source": [
        "svchosta_x.shape"
      ],
      "execution_count": 0,
      "outputs": [
        {
          "output_type": "execute_result",
          "data": {
            "text/plain": [
              "(43, 3000)"
            ]
          },
          "metadata": {
            "tags": []
          },
          "execution_count": 15
        }
      ]
    },
    {
      "cell_type": "markdown",
      "metadata": {
        "id": "_g3LGiy5m7RV",
        "colab_type": "text"
      },
      "source": [
        "### Gabung Data"
      ]
    },
    {
      "cell_type": "code",
      "metadata": {
        "id": "_XW2schFnKPI",
        "colab_type": "code",
        "outputId": "e9fda5db-26f7-4efa-a1e5-102352490b87",
        "colab": {
          "base_uri": "https://localhost:8080/",
          "height": 52
        }
      },
      "source": [
        "from sklearn.utils import shuffle\n",
        "input_x, input_y = svchosta_x, svchosta_y\n",
        "valid_x = np.concatenate((input_x, firefox_x))\n",
        "valid_y = np.concatenate((input_y, firefox_y))\n",
        "valid_x, valid_y = shuffle(valid_x, valid_y, random_state=0)\n",
        "print(valid_x.shape)\n",
        "print(input_y.shape)"
      ],
      "execution_count": 0,
      "outputs": [
        {
          "output_type": "stream",
          "text": [
            "(139, 3000)\n",
            "(43, 1)\n"
          ],
          "name": "stdout"
        }
      ]
    },
    {
      "cell_type": "markdown",
      "metadata": {
        "id": "7p-7vqp4nQ9P",
        "colab_type": "text"
      },
      "source": [
        "### Training Data"
      ]
    },
    {
      "cell_type": "code",
      "metadata": {
        "id": "Pr7Yl14jnVwD",
        "colab_type": "code",
        "outputId": "e8a5dabe-a600-4d26-901b-8e25d6dfd49c",
        "colab": {
          "base_uri": "https://localhost:8080/",
          "height": 1000
        }
      },
      "source": [
        "history = training_data(model, wsvchostapath, input_x, input_y, valid_x, valid_y)\n",
        "import pickle\n",
        "with open(hsvchostapath, 'wb') as file_pi:\n",
        "        pickle.dump(history.history, file_pi)"
      ],
      "execution_count": 0,
      "outputs": [
        {
          "output_type": "stream",
          "text": [
            "Memulai training data...\n",
            "Train on 43 samples, validate on 139 samples\n",
            "Epoch 1/50\n",
            "43/43 [==============================] - 8s 175ms/step - loss: 0.6877 - acc: 0.7209 - mean_absolute_error: 0.4973 - categorical_accuracy: 0.7209 - val_loss: 0.6959 - val_acc: 0.3094 - val_mean_absolute_error: 0.5014 - val_categorical_accuracy: 0.3094\n",
            "Epoch 2/50\n",
            "43/43 [==============================] - 6s 128ms/step - loss: 0.6861 - acc: 0.8372 - mean_absolute_error: 0.4964 - categorical_accuracy: 0.8372 - val_loss: 0.6963 - val_acc: 0.3094 - val_mean_absolute_error: 0.5016 - val_categorical_accuracy: 0.3094\n",
            "Epoch 3/50\n",
            "43/43 [==============================] - 5s 126ms/step - loss: 0.6848 - acc: 0.9070 - mean_absolute_error: 0.4958 - categorical_accuracy: 0.9070 - val_loss: 0.6967 - val_acc: 0.3094 - val_mean_absolute_error: 0.5018 - val_categorical_accuracy: 0.3094\n",
            "Epoch 4/50\n",
            "43/43 [==============================] - 5s 127ms/step - loss: 0.6828 - acc: 0.9535 - mean_absolute_error: 0.4948 - categorical_accuracy: 0.9535 - val_loss: 0.6971 - val_acc: 0.3094 - val_mean_absolute_error: 0.5019 - val_categorical_accuracy: 0.3094\n",
            "Epoch 5/50\n",
            "43/43 [==============================] - 5s 127ms/step - loss: 0.6835 - acc: 0.9070 - mean_absolute_error: 0.4952 - categorical_accuracy: 0.9070 - val_loss: 0.6975 - val_acc: 0.3094 - val_mean_absolute_error: 0.5021 - val_categorical_accuracy: 0.3094\n",
            "Epoch 6/50\n",
            "43/43 [==============================] - 5s 127ms/step - loss: 0.6808 - acc: 1.0000 - mean_absolute_error: 0.4938 - categorical_accuracy: 1.0000 - val_loss: 0.6979 - val_acc: 0.3094 - val_mean_absolute_error: 0.5023 - val_categorical_accuracy: 0.3094\n",
            "Epoch 7/50\n",
            "43/43 [==============================] - 5s 127ms/step - loss: 0.6821 - acc: 0.9767 - mean_absolute_error: 0.4944 - categorical_accuracy: 0.9767 - val_loss: 0.6983 - val_acc: 0.3094 - val_mean_absolute_error: 0.5025 - val_categorical_accuracy: 0.3094\n",
            "Epoch 8/50\n",
            "43/43 [==============================] - 5s 128ms/step - loss: 0.6802 - acc: 0.9767 - mean_absolute_error: 0.4935 - categorical_accuracy: 0.9767 - val_loss: 0.6987 - val_acc: 0.3094 - val_mean_absolute_error: 0.5027 - val_categorical_accuracy: 0.3094\n",
            "Epoch 9/50\n",
            "43/43 [==============================] - 5s 127ms/step - loss: 0.6795 - acc: 0.9535 - mean_absolute_error: 0.4931 - categorical_accuracy: 0.9535 - val_loss: 0.6991 - val_acc: 0.3094 - val_mean_absolute_error: 0.5029 - val_categorical_accuracy: 0.3094\n",
            "Epoch 10/50\n",
            "43/43 [==============================] - 6s 128ms/step - loss: 0.6777 - acc: 0.9767 - mean_absolute_error: 0.4922 - categorical_accuracy: 0.9767 - val_loss: 0.6994 - val_acc: 0.3094 - val_mean_absolute_error: 0.5031 - val_categorical_accuracy: 0.3094\n",
            "Epoch 11/50\n",
            "43/43 [==============================] - 5s 127ms/step - loss: 0.6789 - acc: 1.0000 - mean_absolute_error: 0.4928 - categorical_accuracy: 1.0000 - val_loss: 0.6998 - val_acc: 0.3094 - val_mean_absolute_error: 0.5033 - val_categorical_accuracy: 0.3094\n",
            "Epoch 12/50\n",
            "43/43 [==============================] - 5s 128ms/step - loss: 0.6764 - acc: 1.0000 - mean_absolute_error: 0.4916 - categorical_accuracy: 1.0000 - val_loss: 0.7002 - val_acc: 0.3094 - val_mean_absolute_error: 0.5035 - val_categorical_accuracy: 0.3094\n",
            "Epoch 13/50\n",
            "43/43 [==============================] - 5s 128ms/step - loss: 0.6750 - acc: 1.0000 - mean_absolute_error: 0.4908 - categorical_accuracy: 1.0000 - val_loss: 0.7006 - val_acc: 0.3094 - val_mean_absolute_error: 0.5036 - val_categorical_accuracy: 0.3094\n",
            "Epoch 14/50\n",
            "43/43 [==============================] - 6s 128ms/step - loss: 0.6750 - acc: 1.0000 - mean_absolute_error: 0.4909 - categorical_accuracy: 1.0000 - val_loss: 0.7010 - val_acc: 0.3094 - val_mean_absolute_error: 0.5038 - val_categorical_accuracy: 0.3094\n",
            "Epoch 15/50\n",
            "43/43 [==============================] - 6s 128ms/step - loss: 0.6730 - acc: 1.0000 - mean_absolute_error: 0.4898 - categorical_accuracy: 1.0000 - val_loss: 0.7014 - val_acc: 0.3094 - val_mean_absolute_error: 0.5040 - val_categorical_accuracy: 0.3094\n",
            "Epoch 16/50\n",
            "43/43 [==============================] - 6s 129ms/step - loss: 0.6709 - acc: 1.0000 - mean_absolute_error: 0.4888 - categorical_accuracy: 1.0000 - val_loss: 0.7018 - val_acc: 0.3094 - val_mean_absolute_error: 0.5042 - val_categorical_accuracy: 0.3094\n",
            "Epoch 17/50\n",
            "43/43 [==============================] - 5s 127ms/step - loss: 0.6699 - acc: 1.0000 - mean_absolute_error: 0.4882 - categorical_accuracy: 1.0000 - val_loss: 0.7022 - val_acc: 0.3094 - val_mean_absolute_error: 0.5044 - val_categorical_accuracy: 0.3094\n",
            "Epoch 18/50\n",
            "43/43 [==============================] - 5s 127ms/step - loss: 0.6689 - acc: 1.0000 - mean_absolute_error: 0.4877 - categorical_accuracy: 1.0000 - val_loss: 0.7026 - val_acc: 0.3094 - val_mean_absolute_error: 0.5046 - val_categorical_accuracy: 0.3094\n",
            "Epoch 19/50\n",
            "43/43 [==============================] - 6s 128ms/step - loss: 0.6678 - acc: 1.0000 - mean_absolute_error: 0.4872 - categorical_accuracy: 1.0000 - val_loss: 0.7030 - val_acc: 0.3094 - val_mean_absolute_error: 0.5048 - val_categorical_accuracy: 0.3094\n",
            "Epoch 20/50\n",
            "43/43 [==============================] - 5s 128ms/step - loss: 0.6686 - acc: 1.0000 - mean_absolute_error: 0.4876 - categorical_accuracy: 1.0000 - val_loss: 0.7034 - val_acc: 0.3094 - val_mean_absolute_error: 0.5050 - val_categorical_accuracy: 0.3094\n",
            "Epoch 21/50\n",
            "43/43 [==============================] - 6s 128ms/step - loss: 0.6680 - acc: 1.0000 - mean_absolute_error: 0.4873 - categorical_accuracy: 1.0000 - val_loss: 0.7038 - val_acc: 0.3094 - val_mean_absolute_error: 0.5051 - val_categorical_accuracy: 0.3094\n",
            "Epoch 22/50\n",
            "43/43 [==============================] - 6s 129ms/step - loss: 0.6657 - acc: 1.0000 - mean_absolute_error: 0.4861 - categorical_accuracy: 1.0000 - val_loss: 0.7042 - val_acc: 0.3094 - val_mean_absolute_error: 0.5053 - val_categorical_accuracy: 0.3094\n",
            "Epoch 23/50\n",
            "43/43 [==============================] - 5s 128ms/step - loss: 0.6637 - acc: 1.0000 - mean_absolute_error: 0.4851 - categorical_accuracy: 1.0000 - val_loss: 0.7046 - val_acc: 0.3094 - val_mean_absolute_error: 0.5055 - val_categorical_accuracy: 0.3094\n",
            "Epoch 24/50\n",
            "43/43 [==============================] - 5s 127ms/step - loss: 0.6666 - acc: 1.0000 - mean_absolute_error: 0.4865 - categorical_accuracy: 1.0000 - val_loss: 0.7050 - val_acc: 0.3094 - val_mean_absolute_error: 0.5057 - val_categorical_accuracy: 0.3094\n",
            "Epoch 25/50\n",
            "43/43 [==============================] - 5s 128ms/step - loss: 0.6639 - acc: 1.0000 - mean_absolute_error: 0.4852 - categorical_accuracy: 1.0000 - val_loss: 0.7054 - val_acc: 0.3094 - val_mean_absolute_error: 0.5059 - val_categorical_accuracy: 0.3094\n",
            "Epoch 26/50\n",
            "43/43 [==============================] - 6s 129ms/step - loss: 0.6632 - acc: 1.0000 - mean_absolute_error: 0.4848 - categorical_accuracy: 1.0000 - val_loss: 0.7058 - val_acc: 0.3094 - val_mean_absolute_error: 0.5061 - val_categorical_accuracy: 0.3094\n",
            "Epoch 27/50\n",
            "43/43 [==============================] - 6s 128ms/step - loss: 0.6619 - acc: 1.0000 - mean_absolute_error: 0.4841 - categorical_accuracy: 1.0000 - val_loss: 0.7062 - val_acc: 0.3094 - val_mean_absolute_error: 0.5063 - val_categorical_accuracy: 0.3094\n",
            "Epoch 28/50\n",
            "43/43 [==============================] - 6s 128ms/step - loss: 0.6609 - acc: 1.0000 - mean_absolute_error: 0.4836 - categorical_accuracy: 1.0000 - val_loss: 0.7066 - val_acc: 0.3094 - val_mean_absolute_error: 0.5065 - val_categorical_accuracy: 0.3094\n",
            "Epoch 29/50\n",
            "43/43 [==============================] - 6s 129ms/step - loss: 0.6597 - acc: 1.0000 - mean_absolute_error: 0.4830 - categorical_accuracy: 1.0000 - val_loss: 0.7070 - val_acc: 0.3094 - val_mean_absolute_error: 0.5066 - val_categorical_accuracy: 0.3094\n",
            "Epoch 30/50\n",
            "43/43 [==============================] - 6s 129ms/step - loss: 0.6576 - acc: 1.0000 - mean_absolute_error: 0.4819 - categorical_accuracy: 1.0000 - val_loss: 0.7074 - val_acc: 0.3094 - val_mean_absolute_error: 0.5068 - val_categorical_accuracy: 0.3094\n",
            "Epoch 31/50\n",
            "43/43 [==============================] - 6s 129ms/step - loss: 0.6575 - acc: 1.0000 - mean_absolute_error: 0.4819 - categorical_accuracy: 1.0000 - val_loss: 0.7078 - val_acc: 0.3094 - val_mean_absolute_error: 0.5070 - val_categorical_accuracy: 0.3094\n",
            "Epoch 32/50\n",
            "43/43 [==============================] - 5s 128ms/step - loss: 0.6564 - acc: 1.0000 - mean_absolute_error: 0.4813 - categorical_accuracy: 1.0000 - val_loss: 0.7082 - val_acc: 0.3094 - val_mean_absolute_error: 0.5072 - val_categorical_accuracy: 0.3094\n",
            "Epoch 33/50\n",
            "43/43 [==============================] - 6s 129ms/step - loss: 0.6567 - acc: 1.0000 - mean_absolute_error: 0.4814 - categorical_accuracy: 1.0000 - val_loss: 0.7087 - val_acc: 0.3094 - val_mean_absolute_error: 0.5074 - val_categorical_accuracy: 0.3094\n",
            "Epoch 34/50\n",
            "43/43 [==============================] - 6s 131ms/step - loss: 0.6545 - acc: 1.0000 - mean_absolute_error: 0.4803 - categorical_accuracy: 1.0000 - val_loss: 0.7091 - val_acc: 0.3094 - val_mean_absolute_error: 0.5076 - val_categorical_accuracy: 0.3094\n",
            "Epoch 35/50\n",
            "43/43 [==============================] - 6s 129ms/step - loss: 0.6525 - acc: 1.0000 - mean_absolute_error: 0.4792 - categorical_accuracy: 1.0000 - val_loss: 0.7095 - val_acc: 0.3094 - val_mean_absolute_error: 0.5077 - val_categorical_accuracy: 0.3094\n",
            "Epoch 36/50\n",
            "43/43 [==============================] - 6s 129ms/step - loss: 0.6518 - acc: 1.0000 - mean_absolute_error: 0.4789 - categorical_accuracy: 1.0000 - val_loss: 0.7099 - val_acc: 0.3094 - val_mean_absolute_error: 0.5079 - val_categorical_accuracy: 0.3094\n",
            "Epoch 37/50\n",
            "43/43 [==============================] - 6s 129ms/step - loss: 0.6530 - acc: 1.0000 - mean_absolute_error: 0.4795 - categorical_accuracy: 1.0000 - val_loss: 0.7103 - val_acc: 0.3094 - val_mean_absolute_error: 0.5081 - val_categorical_accuracy: 0.3094\n",
            "Epoch 38/50\n",
            "43/43 [==============================] - 6s 128ms/step - loss: 0.6520 - acc: 1.0000 - mean_absolute_error: 0.4790 - categorical_accuracy: 1.0000 - val_loss: 0.7107 - val_acc: 0.3094 - val_mean_absolute_error: 0.5083 - val_categorical_accuracy: 0.3094\n",
            "Epoch 39/50\n",
            "43/43 [==============================] - 5s 128ms/step - loss: 0.6502 - acc: 1.0000 - mean_absolute_error: 0.4781 - categorical_accuracy: 1.0000 - val_loss: 0.7111 - val_acc: 0.3094 - val_mean_absolute_error: 0.5085 - val_categorical_accuracy: 0.3094\n",
            "Epoch 40/50\n",
            "43/43 [==============================] - 5s 127ms/step - loss: 0.6492 - acc: 1.0000 - mean_absolute_error: 0.4775 - categorical_accuracy: 1.0000 - val_loss: 0.7115 - val_acc: 0.3094 - val_mean_absolute_error: 0.5087 - val_categorical_accuracy: 0.3094\n",
            "Epoch 41/50\n",
            "43/43 [==============================] - 6s 129ms/step - loss: 0.6485 - acc: 1.0000 - mean_absolute_error: 0.4772 - categorical_accuracy: 1.0000 - val_loss: 0.7119 - val_acc: 0.3094 - val_mean_absolute_error: 0.5088 - val_categorical_accuracy: 0.3094\n",
            "Epoch 42/50\n",
            "43/43 [==============================] - 5s 128ms/step - loss: 0.6484 - acc: 1.0000 - mean_absolute_error: 0.4771 - categorical_accuracy: 1.0000 - val_loss: 0.7123 - val_acc: 0.3094 - val_mean_absolute_error: 0.5090 - val_categorical_accuracy: 0.3094\n",
            "Epoch 43/50\n",
            "43/43 [==============================] - 6s 128ms/step - loss: 0.6467 - acc: 1.0000 - mean_absolute_error: 0.4762 - categorical_accuracy: 1.0000 - val_loss: 0.7127 - val_acc: 0.3094 - val_mean_absolute_error: 0.5092 - val_categorical_accuracy: 0.3094\n",
            "Epoch 44/50\n",
            "43/43 [==============================] - 6s 128ms/step - loss: 0.6467 - acc: 1.0000 - mean_absolute_error: 0.4762 - categorical_accuracy: 1.0000 - val_loss: 0.7132 - val_acc: 0.3094 - val_mean_absolute_error: 0.5094 - val_categorical_accuracy: 0.3094\n",
            "Epoch 45/50\n",
            "43/43 [==============================] - 5s 127ms/step - loss: 0.6453 - acc: 1.0000 - mean_absolute_error: 0.4755 - categorical_accuracy: 1.0000 - val_loss: 0.7136 - val_acc: 0.3094 - val_mean_absolute_error: 0.5096 - val_categorical_accuracy: 0.3094\n",
            "Epoch 46/50\n",
            "43/43 [==============================] - 5s 128ms/step - loss: 0.6434 - acc: 1.0000 - mean_absolute_error: 0.4745 - categorical_accuracy: 1.0000 - val_loss: 0.7140 - val_acc: 0.3094 - val_mean_absolute_error: 0.5098 - val_categorical_accuracy: 0.3094\n",
            "Epoch 47/50\n",
            "43/43 [==============================] - 5s 127ms/step - loss: 0.6421 - acc: 1.0000 - mean_absolute_error: 0.4738 - categorical_accuracy: 1.0000 - val_loss: 0.7144 - val_acc: 0.3094 - val_mean_absolute_error: 0.5099 - val_categorical_accuracy: 0.3094\n",
            "Epoch 48/50\n",
            "43/43 [==============================] - 6s 129ms/step - loss: 0.6412 - acc: 1.0000 - mean_absolute_error: 0.4733 - categorical_accuracy: 1.0000 - val_loss: 0.7148 - val_acc: 0.3094 - val_mean_absolute_error: 0.5101 - val_categorical_accuracy: 0.3094\n",
            "Epoch 49/50\n",
            "43/43 [==============================] - 5s 128ms/step - loss: 0.6411 - acc: 1.0000 - mean_absolute_error: 0.4733 - categorical_accuracy: 1.0000 - val_loss: 0.7152 - val_acc: 0.3094 - val_mean_absolute_error: 0.5103 - val_categorical_accuracy: 0.3094\n",
            "Epoch 50/50\n",
            "43/43 [==============================] - 5s 127ms/step - loss: 0.6400 - acc: 1.0000 - mean_absolute_error: 0.4727 - categorical_accuracy: 1.0000 - val_loss: 0.7156 - val_acc: 0.3094 - val_mean_absolute_error: 0.5105 - val_categorical_accuracy: 0.3094\n",
            "Training Data selesai\n"
          ],
          "name": "stdout"
        }
      ]
    },
    {
      "cell_type": "markdown",
      "metadata": {
        "id": "AFUBbUEStxJg",
        "colab_type": "text"
      },
      "source": [
        "### Plot Data"
      ]
    },
    {
      "cell_type": "code",
      "metadata": {
        "id": "qX4Upxd9tyyz",
        "colab_type": "code",
        "outputId": "7be6b5db-baa9-415b-9982-4bf3b1a27b70",
        "colab": {
          "base_uri": "https://localhost:8080/",
          "height": 545
        }
      },
      "source": [
        "import matplotlib.pyplot as plt\n",
        "plt.plot(history.history['loss'])\n",
        "plt.title(\"Model Loss\")\n",
        "plt.legend(['loss'])\n",
        "plt.grid()\n",
        "plt.show()\n",
        "plt.plot(history.history['acc'])\n",
        "plt.title(\"Model Accuracy\")\n",
        "plt.legend(['accuracy'])\n",
        "plt.grid()\n",
        "plt.show()"
      ],
      "execution_count": 0,
      "outputs": [
        {
          "output_type": "display_data",
          "data": {
            "image/png": "[encoded data removed]",
            "text/plain": [
              "<Figure size 432x288 with 1 Axes>"
            ]
          },
          "metadata": {
            "tags": []
          }
        },
        {
          "output_type": "display_data",
          "data": {
            "image/png": "[encoded data removed]",
            "text/plain": [
              "<Figure size 432x288 with 1 Axes>"
            ]
          },
          "metadata": {
            "tags": []
          }
        }
      ]
    },
    {
      "cell_type": "code",
      "metadata": {
        "id": "6GnoG9MQt8oD",
        "colab_type": "code",
        "outputId": "afc5ed7c-dff9-42db-8232-305199147a2a",
        "colab": {
          "base_uri": "https://localhost:8080/",
          "height": 586
        }
      },
      "source": [
        "print(model.metrics_names)\n",
        "print(\"Memulai evaluasi data svc yang benar\")\n",
        "svc_loss, svc_acc, svc_mea, svc_ca = model.evaluate(x=svchosta_x, y=to_categorical(svchosta_y, num_classes=2))\n",
        "print(\"Loss : %d\" % (svc_loss))\n",
        "print(\"Akurasi : %d%% benar\" % (svc_acc*100))\n",
        "print(\"Abs Err : %d\" % (svc_mea))\n",
        "print(\"Categorical Cross Entropy : %d\" % (svc_ca))\n",
        "print(\"Memulai evaluasi data bukan svc\")\n",
        "svc_loss, svc_acc, svc_mea, svc_ca = model.evaluate(x=firefox_x, y=to_categorical(firefox_y, num_classes=2))\n",
        "print(\"Loss : %d\" % (svc_loss))\n",
        "print(\"Akurasi : %d%% benar\" % (svc_acc*100))\n",
        "print(\"Abs Err : %d\" % (svc_mea))\n",
        "print(\"Categorical Cross Entropy : %d\" % (svc_ca))\n",
        "print(\"Mencoba menganalisis paket sedikit sedikit Paket svc\")\n",
        "svc_loss, svc_acc, svc_mea, svc_ca = model.evaluate(x=svchosta_x[1:5], y=to_categorical(svchosta_y, num_classes=2)[1:5])\n",
        "print(\"Loss : %d\" % (svc_loss))\n",
        "print(\"Akurasi : %d%% benar\" % (svc_acc*100))\n",
        "print(\"Abs Err : %d\" % (svc_mea))\n",
        "print(\"Categorical Cross Entropy : %d\" % (svc_ca))\n",
        "print(\"Mencoba menganalisis paket sedikit sedikit Paket Lain\")\n",
        "svc_loss, svc_acc, svc_mea, svc_ca = model.evaluate(x=firefox_x[1:5], y=to_categorical(firefox_y, num_classes=2)[1:5])\n",
        "print(\"Loss : %d\" % (svc_loss))\n",
        "print(\"Akurasi : %d%% benar\" % (svc_acc*100))\n",
        "print(\"Abs Err : %d\" % (svc_mea))\n",
        "print(\"Categorical Cross Entropy : %d\" % (svc_ca))\n",
        "print(\"Mencoba memprediksi target dari input data\")\n",
        "prediksi = model.predict(x=svchosta_x[1:5])\n",
        "print(\"Hasil Prediksi \")\n",
        "print(prediksi)"
      ],
      "execution_count": 0,
      "outputs": [
        {
          "output_type": "stream",
          "text": [
            "['loss', 'acc', 'mean_absolute_error', 'categorical_accuracy']\n",
            "Memulai evaluasi data svc yang benar\n",
            "43/43 [==============================] - 1s 14ms/step\n",
            "Loss : 0\n",
            "Akurasi : 100% benar\n",
            "Abs Err : 0\n",
            "Categorical Cross Entropy : 1\n",
            "Memulai evaluasi data bukan svc\n",
            "96/96 [==============================] - 1s 13ms/step\n",
            "Loss : 0\n",
            "Akurasi : 0% benar\n",
            "Abs Err : 0\n",
            "Categorical Cross Entropy : 0\n",
            "Mencoba menganalisis paket sedikit sedikit Paket svc\n",
            "4/4 [==============================] - 0s 20ms/step\n",
            "Loss : 0\n",
            "Akurasi : 100% benar\n",
            "Abs Err : 0\n",
            "Categorical Cross Entropy : 1\n",
            "Mencoba menganalisis paket sedikit sedikit Paket Lain\n",
            "4/4 [==============================] - 0s 16ms/step\n",
            "Loss : 0\n",
            "Akurasi : 0% benar\n",
            "Abs Err : 0\n",
            "Categorical Cross Entropy : 0\n",
            "Mencoba memprediksi target dari input data\n",
            "Hasil Prediksi \n",
            "[[0.47172296 0.52827704]\n",
            " [0.47251478 0.5274852 ]\n",
            " [0.47274873 0.5272513 ]\n",
            " [0.47281936 0.52718073]]\n"
          ],
          "name": "stdout"
        }
      ]
    },
    {
      "cell_type": "markdown",
      "metadata": {
        "id": "GHMr4R1INr-X",
        "colab_type": "text"
      },
      "source": [
        "## Training Data Rbot"
      ]
    },
    {
      "cell_type": "markdown",
      "metadata": {
        "id": "sYYJchMGNwsz",
        "colab_type": "text"
      },
      "source": [
        "### Muat Data"
      ]
    },
    {
      "cell_type": "code",
      "metadata": {
        "id": "Dcq0FbujNzrk",
        "colab_type": "code",
        "outputId": "2e115fc6-e651-4414-c38e-b19277805ec3",
        "colab": {
          "base_uri": "https://localhost:8080/",
          "height": 568
        }
      },
      "source": [
        "data_rbot = muat_data(rbotpath)\n",
        "data_firefox = muat_data(firefoxpath)\n",
        "data_normal1 = muat_data(normal_1)\n",
        "\n",
        "rbot_x, rbot_y = olah_data(data_rbot,1)\n",
        "firefox_x, firefox_y = olah_data(data_firefox,0)\n",
        "normal1_x, normal1_y = olah_data(data_normal1,0)"
      ],
      "execution_count": 0,
      "outputs": [
        {
          "output_type": "stream",
          "text": [
            "Data sedang di muat...\n",
            "Data sedang di muat...\n",
            "Data sedang di muat...\n",
            "Dengan ukuran : 225792 byte\n",
            "Data selesai di Load\n",
            "Melakukan pemecahan data...\n",
            "(76, 3000)\n",
            "(76, 1)\n",
            "Data selesai dipecah\n",
            "Pecahan data : 76 \n",
            "\n",
            "\n",
            "Dengan ukuran : 285376 byte\n",
            "Data selesai di Load\n",
            "Melakukan pemecahan data...\n",
            "(96, 3000)\n",
            "(96, 1)\n",
            "Data selesai dipecah\n",
            "Pecahan data : 96 \n",
            "\n",
            "\n",
            "Dengan ukuran : 40720 byte\n",
            "Data selesai di Load\n",
            "Melakukan pemecahan data...\n",
            "(14, 3000)\n",
            "(14, 1)\n",
            "Data selesai dipecah\n",
            "Pecahan data : 14 \n",
            "\n",
            "\n"
          ],
          "name": "stdout"
        }
      ]
    },
    {
      "cell_type": "markdown",
      "metadata": {
        "id": "kUHB2-c1Ruvx",
        "colab_type": "text"
      },
      "source": [
        "### Gabung Data"
      ]
    },
    {
      "cell_type": "code",
      "metadata": {
        "id": "qMImKhB3S290",
        "colab_type": "code",
        "outputId": "d98bb89d-27b3-4e30-9ebb-81e564165ad8",
        "colab": {
          "base_uri": "https://localhost:8080/",
          "height": 54
        }
      },
      "source": [
        "from sklearn.utils import shuffle\n",
        "input_x, input_y = rbot_x, rbot_y\n",
        "valid_x = np.concatenate((input_x, firefox_x))\n",
        "valid_y = np.concatenate((input_y, firefox_y))\n",
        "valid_x, valid_y = shuffle(valid_x, valid_y, random_state=0)\n",
        "print(valid_x.shape)\n",
        "print(input_y.shape)"
      ],
      "execution_count": 0,
      "outputs": [
        {
          "output_type": "stream",
          "text": [
            "(172, 3000)\n",
            "(76, 1)\n"
          ],
          "name": "stdout"
        }
      ]
    },
    {
      "cell_type": "markdown",
      "metadata": {
        "id": "ZSLfHAaaRv4H",
        "colab_type": "text"
      },
      "source": [
        "### Training Data"
      ]
    },
    {
      "cell_type": "code",
      "metadata": {
        "id": "Ia-ZCJ7_TI1G",
        "colab_type": "code",
        "outputId": "ca4ec071-2938-4479-a5cc-d180771d7109",
        "colab": {
          "base_uri": "https://localhost:8080/",
          "height": 1000
        }
      },
      "source": [
        "history = training_data(model, wrbotpath, input_x, input_y, valid_x, valid_y)\n",
        "import pickle\n",
        "with open(hrbotpath, 'wb') as file_pi:\n",
        "        pickle.dump(history.history, file_pi)"
      ],
      "execution_count": 0,
      "outputs": [
        {
          "output_type": "stream",
          "text": [
            "Memulai training data...\n",
            "Train on 76 samples, validate on 172 samples\n",
            "Epoch 1/50\n",
            "76/76 [==============================] - 11s 141ms/step - loss: 0.6942 - acc: 0.3947 - mean_absolute_error: 0.5005 - categorical_accuracy: 0.3947 - val_loss: 0.6935 - val_acc: 0.4070 - val_mean_absolute_error: 0.5002 - val_categorical_accuracy: 0.4070\n",
            "Epoch 2/50\n",
            "76/76 [==============================] - 9s 113ms/step - loss: 0.6921 - acc: 0.5395 - mean_absolute_error: 0.4995 - categorical_accuracy: 0.5395 - val_loss: 0.6937 - val_acc: 0.4186 - val_mean_absolute_error: 0.5003 - val_categorical_accuracy: 0.4186\n",
            "Epoch 3/50\n",
            "76/76 [==============================] - 9s 115ms/step - loss: 0.6913 - acc: 0.5921 - mean_absolute_error: 0.4991 - categorical_accuracy: 0.5921 - val_loss: 0.6938 - val_acc: 0.4302 - val_mean_absolute_error: 0.5003 - val_categorical_accuracy: 0.4302\n",
            "Epoch 4/50\n",
            "76/76 [==============================] - 9s 113ms/step - loss: 0.6885 - acc: 0.7368 - mean_absolute_error: 0.4977 - categorical_accuracy: 0.7368 - val_loss: 0.6940 - val_acc: 0.4419 - val_mean_absolute_error: 0.5004 - val_categorical_accuracy: 0.4419\n",
            "Epoch 5/50\n",
            "76/76 [==============================] - 9s 113ms/step - loss: 0.6879 - acc: 0.8158 - mean_absolute_error: 0.4973 - categorical_accuracy: 0.8158 - val_loss: 0.6942 - val_acc: 0.4419 - val_mean_absolute_error: 0.5005 - val_categorical_accuracy: 0.4419\n",
            "Epoch 6/50\n",
            "76/76 [==============================] - 9s 112ms/step - loss: 0.6867 - acc: 0.8553 - mean_absolute_error: 0.4968 - categorical_accuracy: 0.8553 - val_loss: 0.6944 - val_acc: 0.4419 - val_mean_absolute_error: 0.5006 - val_categorical_accuracy: 0.4419\n",
            "Epoch 7/50\n",
            "76/76 [==============================] - 9s 113ms/step - loss: 0.6852 - acc: 0.9342 - mean_absolute_error: 0.4960 - categorical_accuracy: 0.9342 - val_loss: 0.6946 - val_acc: 0.4419 - val_mean_absolute_error: 0.5007 - val_categorical_accuracy: 0.4419\n",
            "Epoch 8/50\n",
            "76/76 [==============================] - 9s 113ms/step - loss: 0.6836 - acc: 0.9605 - mean_absolute_error: 0.4952 - categorical_accuracy: 0.9605 - val_loss: 0.6948 - val_acc: 0.4419 - val_mean_absolute_error: 0.5008 - val_categorical_accuracy: 0.4419\n",
            "Epoch 9/50\n",
            "76/76 [==============================] - 9s 112ms/step - loss: 0.6801 - acc: 0.9868 - mean_absolute_error: 0.4934 - categorical_accuracy: 0.9868 - val_loss: 0.6950 - val_acc: 0.4419 - val_mean_absolute_error: 0.5009 - val_categorical_accuracy: 0.4419\n",
            "Epoch 10/50\n",
            "76/76 [==============================] - 9s 114ms/step - loss: 0.6803 - acc: 0.9868 - mean_absolute_error: 0.4935 - categorical_accuracy: 0.9868 - val_loss: 0.6952 - val_acc: 0.4419 - val_mean_absolute_error: 0.5010 - val_categorical_accuracy: 0.4419\n",
            "Epoch 11/50\n",
            "76/76 [==============================] - 9s 114ms/step - loss: 0.6783 - acc: 0.9868 - mean_absolute_error: 0.4925 - categorical_accuracy: 0.9868 - val_loss: 0.6954 - val_acc: 0.4419 - val_mean_absolute_error: 0.5010 - val_categorical_accuracy: 0.4419\n",
            "Epoch 12/50\n",
            "76/76 [==============================] - 9s 115ms/step - loss: 0.6779 - acc: 0.9868 - mean_absolute_error: 0.4923 - categorical_accuracy: 0.9868 - val_loss: 0.6956 - val_acc: 0.4419 - val_mean_absolute_error: 0.5011 - val_categorical_accuracy: 0.4419\n",
            "Epoch 13/50\n",
            "76/76 [==============================] - 9s 115ms/step - loss: 0.6771 - acc: 0.9868 - mean_absolute_error: 0.4919 - categorical_accuracy: 0.9868 - val_loss: 0.6958 - val_acc: 0.4419 - val_mean_absolute_error: 0.5012 - val_categorical_accuracy: 0.4419\n",
            "Epoch 14/50\n",
            "76/76 [==============================] - 9s 114ms/step - loss: 0.6744 - acc: 1.0000 - mean_absolute_error: 0.4906 - categorical_accuracy: 1.0000 - val_loss: 0.6960 - val_acc: 0.4419 - val_mean_absolute_error: 0.5013 - val_categorical_accuracy: 0.4419\n",
            "Epoch 15/50\n",
            "76/76 [==============================] - 9s 113ms/step - loss: 0.6727 - acc: 1.0000 - mean_absolute_error: 0.4897 - categorical_accuracy: 1.0000 - val_loss: 0.6962 - val_acc: 0.4419 - val_mean_absolute_error: 0.5014 - val_categorical_accuracy: 0.4419\n",
            "Epoch 16/50\n",
            "76/76 [==============================] - 9s 113ms/step - loss: 0.6715 - acc: 1.0000 - mean_absolute_error: 0.4890 - categorical_accuracy: 1.0000 - val_loss: 0.6964 - val_acc: 0.4419 - val_mean_absolute_error: 0.5015 - val_categorical_accuracy: 0.4419\n",
            "Epoch 17/50\n",
            "76/76 [==============================] - 9s 114ms/step - loss: 0.6709 - acc: 1.0000 - mean_absolute_error: 0.4887 - categorical_accuracy: 1.0000 - val_loss: 0.6966 - val_acc: 0.4419 - val_mean_absolute_error: 0.5016 - val_categorical_accuracy: 0.4419\n",
            "Epoch 18/50\n",
            "76/76 [==============================] - 9s 114ms/step - loss: 0.6682 - acc: 1.0000 - mean_absolute_error: 0.4874 - categorical_accuracy: 1.0000 - val_loss: 0.6968 - val_acc: 0.4419 - val_mean_absolute_error: 0.5016 - val_categorical_accuracy: 0.4419\n",
            "Epoch 19/50\n",
            "76/76 [==============================] - 9s 116ms/step - loss: 0.6665 - acc: 1.0000 - mean_absolute_error: 0.4865 - categorical_accuracy: 1.0000 - val_loss: 0.6970 - val_acc: 0.4419 - val_mean_absolute_error: 0.5017 - val_categorical_accuracy: 0.4419\n",
            "Epoch 20/50\n",
            "76/76 [==============================] - 9s 114ms/step - loss: 0.6663 - acc: 1.0000 - mean_absolute_error: 0.4864 - categorical_accuracy: 1.0000 - val_loss: 0.6972 - val_acc: 0.4419 - val_mean_absolute_error: 0.5018 - val_categorical_accuracy: 0.4419\n",
            "Epoch 21/50\n",
            "76/76 [==============================] - 9s 113ms/step - loss: 0.6641 - acc: 1.0000 - mean_absolute_error: 0.4853 - categorical_accuracy: 1.0000 - val_loss: 0.6974 - val_acc: 0.4419 - val_mean_absolute_error: 0.5019 - val_categorical_accuracy: 0.4419\n",
            "Epoch 22/50\n",
            "76/76 [==============================] - 9s 113ms/step - loss: 0.6638 - acc: 1.0000 - mean_absolute_error: 0.4851 - categorical_accuracy: 1.0000 - val_loss: 0.6976 - val_acc: 0.4419 - val_mean_absolute_error: 0.5020 - val_categorical_accuracy: 0.4419\n",
            "Epoch 23/50\n",
            "76/76 [==============================] - 9s 113ms/step - loss: 0.6618 - acc: 1.0000 - mean_absolute_error: 0.4841 - categorical_accuracy: 1.0000 - val_loss: 0.6978 - val_acc: 0.4419 - val_mean_absolute_error: 0.5021 - val_categorical_accuracy: 0.4419\n",
            "Epoch 24/50\n",
            "76/76 [==============================] - 9s 113ms/step - loss: 0.6602 - acc: 1.0000 - mean_absolute_error: 0.4832 - categorical_accuracy: 1.0000 - val_loss: 0.6981 - val_acc: 0.4419 - val_mean_absolute_error: 0.5022 - val_categorical_accuracy: 0.4419\n",
            "Epoch 25/50\n",
            "76/76 [==============================] - 9s 113ms/step - loss: 0.6585 - acc: 1.0000 - mean_absolute_error: 0.4823 - categorical_accuracy: 1.0000 - val_loss: 0.6983 - val_acc: 0.4419 - val_mean_absolute_error: 0.5022 - val_categorical_accuracy: 0.4419\n",
            "Epoch 26/50\n",
            "76/76 [==============================] - 9s 115ms/step - loss: 0.6570 - acc: 1.0000 - mean_absolute_error: 0.4816 - categorical_accuracy: 1.0000 - val_loss: 0.6985 - val_acc: 0.4419 - val_mean_absolute_error: 0.5023 - val_categorical_accuracy: 0.4419\n",
            "Epoch 27/50\n",
            "76/76 [==============================] - 9s 114ms/step - loss: 0.6547 - acc: 1.0000 - mean_absolute_error: 0.4804 - categorical_accuracy: 1.0000 - val_loss: 0.6987 - val_acc: 0.4419 - val_mean_absolute_error: 0.5024 - val_categorical_accuracy: 0.4419\n",
            "Epoch 28/50\n",
            "76/76 [==============================] - 9s 113ms/step - loss: 0.6547 - acc: 1.0000 - mean_absolute_error: 0.4804 - categorical_accuracy: 1.0000 - val_loss: 0.6990 - val_acc: 0.4419 - val_mean_absolute_error: 0.5025 - val_categorical_accuracy: 0.4419\n",
            "Epoch 29/50\n",
            "76/76 [==============================] - 9s 113ms/step - loss: 0.6540 - acc: 1.0000 - mean_absolute_error: 0.4800 - categorical_accuracy: 1.0000 - val_loss: 0.6992 - val_acc: 0.4419 - val_mean_absolute_error: 0.5026 - val_categorical_accuracy: 0.4419\n",
            "Epoch 30/50\n",
            "76/76 [==============================] - 9s 113ms/step - loss: 0.6516 - acc: 1.0000 - mean_absolute_error: 0.4788 - categorical_accuracy: 1.0000 - val_loss: 0.6994 - val_acc: 0.4419 - val_mean_absolute_error: 0.5027 - val_categorical_accuracy: 0.4419\n",
            "Epoch 31/50\n",
            "76/76 [==============================] - 9s 112ms/step - loss: 0.6492 - acc: 1.0000 - mean_absolute_error: 0.4775 - categorical_accuracy: 1.0000 - val_loss: 0.6997 - val_acc: 0.4419 - val_mean_absolute_error: 0.5027 - val_categorical_accuracy: 0.4419\n",
            "Epoch 32/50\n",
            "76/76 [==============================] - 9s 114ms/step - loss: 0.6492 - acc: 1.0000 - mean_absolute_error: 0.4775 - categorical_accuracy: 1.0000 - val_loss: 0.6999 - val_acc: 0.4419 - val_mean_absolute_error: 0.5028 - val_categorical_accuracy: 0.4419\n",
            "Epoch 33/50\n",
            "76/76 [==============================] - 9s 113ms/step - loss: 0.6478 - acc: 1.0000 - mean_absolute_error: 0.4768 - categorical_accuracy: 1.0000 - val_loss: 0.7001 - val_acc: 0.4419 - val_mean_absolute_error: 0.5029 - val_categorical_accuracy: 0.4419\n",
            "Epoch 34/50\n",
            "76/76 [==============================] - 9s 114ms/step - loss: 0.6465 - acc: 1.0000 - mean_absolute_error: 0.4761 - categorical_accuracy: 1.0000 - val_loss: 0.7004 - val_acc: 0.4419 - val_mean_absolute_error: 0.5030 - val_categorical_accuracy: 0.4419\n",
            "Epoch 35/50\n",
            "76/76 [==============================] - 9s 115ms/step - loss: 0.6455 - acc: 1.0000 - mean_absolute_error: 0.4756 - categorical_accuracy: 1.0000 - val_loss: 0.7006 - val_acc: 0.4419 - val_mean_absolute_error: 0.5031 - val_categorical_accuracy: 0.4419\n",
            "Epoch 36/50\n",
            "76/76 [==============================] - 9s 114ms/step - loss: 0.6422 - acc: 1.0000 - mean_absolute_error: 0.4739 - categorical_accuracy: 1.0000 - val_loss: 0.7008 - val_acc: 0.4419 - val_mean_absolute_error: 0.5032 - val_categorical_accuracy: 0.4419\n",
            "Epoch 37/50\n",
            "76/76 [==============================] - 9s 116ms/step - loss: 0.6409 - acc: 1.0000 - mean_absolute_error: 0.4732 - categorical_accuracy: 1.0000 - val_loss: 0.7011 - val_acc: 0.4419 - val_mean_absolute_error: 0.5032 - val_categorical_accuracy: 0.4419\n",
            "Epoch 38/50\n",
            "76/76 [==============================] - 9s 118ms/step - loss: 0.6413 - acc: 1.0000 - mean_absolute_error: 0.4734 - categorical_accuracy: 1.0000 - val_loss: 0.7013 - val_acc: 0.4419 - val_mean_absolute_error: 0.5033 - val_categorical_accuracy: 0.4419\n",
            "Epoch 39/50\n",
            "76/76 [==============================] - 9s 117ms/step - loss: 0.6384 - acc: 1.0000 - mean_absolute_error: 0.4719 - categorical_accuracy: 1.0000 - val_loss: 0.7016 - val_acc: 0.4419 - val_mean_absolute_error: 0.5034 - val_categorical_accuracy: 0.4419\n",
            "Epoch 40/50\n",
            "76/76 [==============================] - 9s 115ms/step - loss: 0.6380 - acc: 1.0000 - mean_absolute_error: 0.4716 - categorical_accuracy: 1.0000 - val_loss: 0.7018 - val_acc: 0.4419 - val_mean_absolute_error: 0.5035 - val_categorical_accuracy: 0.4419\n",
            "Epoch 41/50\n",
            "76/76 [==============================] - 9s 114ms/step - loss: 0.6370 - acc: 1.0000 - mean_absolute_error: 0.4711 - categorical_accuracy: 1.0000 - val_loss: 0.7021 - val_acc: 0.4419 - val_mean_absolute_error: 0.5036 - val_categorical_accuracy: 0.4419\n",
            "Epoch 42/50\n",
            "76/76 [==============================] - 9s 115ms/step - loss: 0.6355 - acc: 1.0000 - mean_absolute_error: 0.4703 - categorical_accuracy: 1.0000 - val_loss: 0.7023 - val_acc: 0.4419 - val_mean_absolute_error: 0.5037 - val_categorical_accuracy: 0.4419\n",
            "Epoch 43/50\n",
            "76/76 [==============================] - 9s 114ms/step - loss: 0.6344 - acc: 1.0000 - mean_absolute_error: 0.4698 - categorical_accuracy: 1.0000 - val_loss: 0.7026 - val_acc: 0.4419 - val_mean_absolute_error: 0.5037 - val_categorical_accuracy: 0.4419\n",
            "Epoch 44/50\n",
            "76/76 [==============================] - 9s 115ms/step - loss: 0.6327 - acc: 1.0000 - mean_absolute_error: 0.4689 - categorical_accuracy: 1.0000 - val_loss: 0.7028 - val_acc: 0.4419 - val_mean_absolute_error: 0.5038 - val_categorical_accuracy: 0.4419\n",
            "Epoch 45/50\n",
            "76/76 [==============================] - 9s 114ms/step - loss: 0.6311 - acc: 1.0000 - mean_absolute_error: 0.4680 - categorical_accuracy: 1.0000 - val_loss: 0.7031 - val_acc: 0.4419 - val_mean_absolute_error: 0.5039 - val_categorical_accuracy: 0.4419\n",
            "Epoch 46/50\n",
            "76/76 [==============================] - 9s 115ms/step - loss: 0.6308 - acc: 1.0000 - mean_absolute_error: 0.4678 - categorical_accuracy: 1.0000 - val_loss: 0.7033 - val_acc: 0.4419 - val_mean_absolute_error: 0.5040 - val_categorical_accuracy: 0.4419\n",
            "Epoch 47/50\n",
            "76/76 [==============================] - 9s 113ms/step - loss: 0.6288 - acc: 1.0000 - mean_absolute_error: 0.4667 - categorical_accuracy: 1.0000 - val_loss: 0.7036 - val_acc: 0.4419 - val_mean_absolute_error: 0.5041 - val_categorical_accuracy: 0.4419\n",
            "Epoch 48/50\n",
            "76/76 [==============================] - 9s 114ms/step - loss: 0.6282 - acc: 1.0000 - mean_absolute_error: 0.4664 - categorical_accuracy: 1.0000 - val_loss: 0.7039 - val_acc: 0.4419 - val_mean_absolute_error: 0.5041 - val_categorical_accuracy: 0.4419\n",
            "Epoch 49/50\n",
            "76/76 [==============================] - 9s 114ms/step - loss: 0.6249 - acc: 1.0000 - mean_absolute_error: 0.4647 - categorical_accuracy: 1.0000 - val_loss: 0.7041 - val_acc: 0.4419 - val_mean_absolute_error: 0.5042 - val_categorical_accuracy: 0.4419\n",
            "Epoch 50/50\n",
            "76/76 [==============================] - 9s 118ms/step - loss: 0.6249 - acc: 1.0000 - mean_absolute_error: 0.4647 - categorical_accuracy: 1.0000 - val_loss: 0.7044 - val_acc: 0.4419 - val_mean_absolute_error: 0.5043 - val_categorical_accuracy: 0.4419\n",
            "Training Data selesai\n"
          ],
          "name": "stdout"
        }
      ]
    },
    {
      "cell_type": "markdown",
      "metadata": {
        "id": "FSz6S7ncRxKf",
        "colab_type": "text"
      },
      "source": [
        "### Plot Data"
      ]
    },
    {
      "cell_type": "code",
      "metadata": {
        "id": "6IHMqudIUTCp",
        "colab_type": "code",
        "outputId": "7816a2eb-5f2f-42c3-cd71-d9bbba3ae4bb",
        "colab": {
          "base_uri": "https://localhost:8080/",
          "height": 545
        }
      },
      "source": [
        "import matplotlib.pyplot as plt\n",
        "plt.plot(history.history['loss'])\n",
        "plt.title(\"Model Loss\")\n",
        "plt.legend(['loss'])\n",
        "plt.grid()\n",
        "plt.show()\n",
        "plt.plot(history.history['acc'])\n",
        "plt.title(\"Model Accuracy\")\n",
        "plt.legend(['accuracy'])\n",
        "plt.grid()\n",
        "plt.show()"
      ],
      "execution_count": 0,
      "outputs": [
        {
          "output_type": "display_data",
          "data": {
            "image/png": "[encoded data removed]",
            "text/plain": [
              "<Figure size 432x288 with 1 Axes>"
            ]
          },
          "metadata": {
            "tags": []
          }
        },
        {
          "output_type": "display_data",
          "data": {
            "image/png": "[encoded data removed]",
            "text/plain": [
              "<Figure size 432x288 with 1 Axes>"
            ]
          },
          "metadata": {
            "tags": []
          }
        }
      ]
    },
    {
      "cell_type": "code",
      "metadata": {
        "id": "-yIlfPWeUUrk",
        "colab_type": "code",
        "outputId": "fbfcbbb3-ee9c-43fc-f4a7-49211a5e4691",
        "colab": {
          "base_uri": "https://localhost:8080/",
          "height": 586
        }
      },
      "source": [
        "print(model.metrics_names)\n",
        "print(\"Memulai evaluasi data rbot yang benar\")\n",
        "rbot_loss, rbot_acc, rbot_mea, rbot_ca = model.evaluate(x=rbot_x, y=to_categorical(rbot_y, num_classes=2))\n",
        "print(\"Loss : %d\" % (rbot_loss))\n",
        "print(\"Akurasi : %d%% benar\" % (rbot_acc*100))\n",
        "print(\"Abs Err : %d\" % (rbot_mea))\n",
        "print(\"Categorical Cross Entropy : %d\" % (rbot_ca))\n",
        "print(\"Memulai evaluasi data bukan rbot\")\n",
        "rbot_loss, rbot_acc, rbot_mea, rbot_ca = model.evaluate(x=firefox_x, y=to_categorical(firefox_y, num_classes=2))\n",
        "print(\"Loss : %d\" % (rbot_loss))\n",
        "print(\"Akurasi : %d%% benar\" % (rbot_acc*100))\n",
        "print(\"Abs Err : %d\" % (rbot_mea))\n",
        "print(\"Categorical Cross Entropy : %d\" % (rbot_ca))\n",
        "print(\"Mencoba menganalisis paket sedikit sedikit Paket rbot\")\n",
        "rbot_loss, rbot_acc, rbot_mea, rbot_ca = model.evaluate(x=rbot_x[1:5], y=to_categorical(rbot_y, num_classes=2)[1:5])\n",
        "print(\"Loss : %d\" % (rbot_loss))\n",
        "print(\"Akurasi : %d%% benar\" % (rbot_acc*100))\n",
        "print(\"Abs Err : %d\" % (rbot_mea))\n",
        "print(\"Categorical Cross Entropy : %d\" % (rbot_ca))\n",
        "print(\"Mencoba menganalisis paket sedikit sedikit Paket Lain\")\n",
        "rbot_loss, rbot_acc, rbot_mea, rbot_ca = model.evaluate(x=firefox_x[1:5], y=to_categorical(firefox_y, num_classes=2)[1:5])\n",
        "print(\"Loss : %d\" % (rbot_loss))\n",
        "print(\"Akurasi : %d%% benar\" % (rbot_acc*100))\n",
        "print(\"Abs Err : %d\" % (rbot_mea))\n",
        "print(\"Categorical Cross Entropy : %d\" % (rbot_ca))\n",
        "print(\"Mencoba memprediksi target dari input data\")\n",
        "prediksi = model.predict(x=rbot_x[1:5])\n",
        "print(\"Hasil Prediksi \")\n",
        "print(prediksi)"
      ],
      "execution_count": 0,
      "outputs": [
        {
          "output_type": "stream",
          "text": [
            "['loss', 'acc', 'mean_absolute_error', 'categorical_accuracy']\n",
            "Memulai evaluasi data rbot yang benar\n",
            "76/76 [==============================] - 1s 14ms/step\n",
            "Loss : 0\n",
            "Akurasi : 100% benar\n",
            "Abs Err : 0\n",
            "Categorical Cross Entropy : 1\n",
            "Memulai evaluasi data bukan rbot\n",
            "96/96 [==============================] - 1s 14ms/step\n",
            "Loss : 0\n",
            "Akurasi : 0% benar\n",
            "Abs Err : 0\n",
            "Categorical Cross Entropy : 0\n",
            "Mencoba menganalisis paket sedikit sedikit Paket rbot\n",
            "4/4 [==============================] - 0s 19ms/step\n",
            "Loss : 0\n",
            "Akurasi : 100% benar\n",
            "Abs Err : 0\n",
            "Categorical Cross Entropy : 1\n",
            "Mencoba menganalisis paket sedikit sedikit Paket Lain\n",
            "4/4 [==============================] - 0s 17ms/step\n",
            "Loss : 0\n",
            "Akurasi : 0% benar\n",
            "Abs Err : 0\n",
            "Categorical Cross Entropy : 0\n",
            "Mencoba memprediksi target dari input data\n",
            "Hasil Prediksi \n",
            "[[0.4638455  0.53615457]\n",
            " [0.46373814 0.53626186]\n",
            " [0.46387962 0.5361205 ]\n",
            " [0.4638996  0.53610045]]\n"
          ],
          "name": "stdout"
        }
      ]
    },
    {
      "cell_type": "markdown",
      "metadata": {
        "id": "0FRoMtvIYjio",
        "colab_type": "text"
      },
      "source": [
        "## Training Payload Based Virus (Single input)"
      ]
    },
    {
      "cell_type": "markdown",
      "metadata": {
        "id": "z7kbqZoQZXTq",
        "colab_type": "text"
      },
      "source": [
        "### Muat Data"
      ]
    },
    {
      "cell_type": "code",
      "metadata": {
        "id": "8b_eu7U7csZA",
        "colab_type": "code",
        "outputId": "0d13aa3a-0ddd-4d5a-b6e7-5983c1d161bb",
        "colab": {
          "base_uri": "https://localhost:8080/",
          "height": 568
        }
      },
      "source": [
        "data_rvsmtr1 = muat_data(rvsmtr_1)\n",
        "data_firefox = muat_data(firefoxpath)\n",
        "data_normal1 = muat_data(normal_1)\n",
        "\n",
        "rvsmtr1_x, rvsmtr1_y = olah_data(data_rvsmtr1,1)\n",
        "firefox_x, firefox_y = olah_data(data_firefox,0)\n",
        "normal1_x, normal1_y = olah_data(data_normal1,0)"
      ],
      "execution_count": 0,
      "outputs": [
        {
          "output_type": "stream",
          "text": [
            "Data sedang di muat...\n",
            "Data sedang di muat...\n",
            "Data sedang di muat...\n",
            "Dengan ukuran : 40720 byte\n",
            "Data selesai di Load\n",
            "Melakukan pemecahan data...\n",
            "(14, 3000)\n",
            "(14, 1)\n",
            "Data selesai dipecah\n",
            "Pecahan data : 14 \n",
            "\n",
            "\n",
            "Dengan ukuran : 285376 byte\n",
            "Data selesai di Load\n",
            "Melakukan pemecahan data...\n",
            "(96, 3000)\n",
            "(96, 1)\n",
            "Data selesai dipecah\n",
            "Pecahan data : 96 \n",
            "\n",
            "\n",
            "Dengan ukuran : 40720 byte\n",
            "Data selesai di Load\n",
            "Melakukan pemecahan data...\n",
            "(14, 3000)\n",
            "(14, 1)\n",
            "Data selesai dipecah\n",
            "Pecahan data : 14 \n",
            "\n",
            "\n"
          ],
          "name": "stdout"
        }
      ]
    },
    {
      "cell_type": "markdown",
      "metadata": {
        "id": "u8ihDCtXcstf",
        "colab_type": "text"
      },
      "source": [
        "### Gabung Data"
      ]
    },
    {
      "cell_type": "code",
      "metadata": {
        "id": "Qk7PaMn7cwXY",
        "colab_type": "code",
        "outputId": "08da40a6-94ae-4537-c372-4e16fff4c84c",
        "colab": {
          "base_uri": "https://localhost:8080/",
          "height": 54
        }
      },
      "source": [
        "from sklearn.utils import shuffle\n",
        "input_x, input_y = rvsmtr1_x, rvsmtr1_y\n",
        "valid_x = np.concatenate((input_x, firefox_x))\n",
        "valid_y = np.concatenate((input_y, firefox_y))\n",
        "valid_x, valid_y = shuffle(valid_x, valid_y, random_state=0)\n",
        "print(valid_x.shape)\n",
        "print(input_y.shape)"
      ],
      "execution_count": 0,
      "outputs": [
        {
          "output_type": "stream",
          "text": [
            "(110, 3000)\n",
            "(14, 1)\n"
          ],
          "name": "stdout"
        }
      ]
    },
    {
      "cell_type": "markdown",
      "metadata": {
        "id": "F8ltaPqScuAQ",
        "colab_type": "text"
      },
      "source": [
        "### Training Data"
      ]
    },
    {
      "cell_type": "code",
      "metadata": {
        "id": "DYyziC0Icw0f",
        "colab_type": "code",
        "outputId": "08cc33be-b8e4-43af-ac44-37ac35848045",
        "colab": {
          "base_uri": "https://localhost:8080/",
          "height": 1000
        }
      },
      "source": [
        "history = training_data(model, wrvsmtr_1, input_x, input_y, valid_x, valid_y)\n",
        "import pickle\n",
        "with open(hrvsmtr_1, 'wb') as file_pi:\n",
        "        pickle.dump(history.history, file_pi)"
      ],
      "execution_count": 0,
      "outputs": [
        {
          "output_type": "stream",
          "text": [
            "Memulai training data...\n",
            "Train on 14 samples, validate on 110 samples\n",
            "Epoch 1/50\n",
            "14/14 [==============================] - 6s 424ms/step - loss: 0.6915 - acc: 0.7143 - mean_absolute_error: 0.4992 - categorical_accuracy: 0.7143 - val_loss: 0.6937 - val_acc: 0.1545 - val_mean_absolute_error: 0.5003 - val_categorical_accuracy: 0.1545\n",
            "Epoch 2/50\n",
            "14/14 [==============================] - 3s 193ms/step - loss: 0.6914 - acc: 0.7857 - mean_absolute_error: 0.4991 - categorical_accuracy: 0.7857 - val_loss: 0.6941 - val_acc: 0.1273 - val_mean_absolute_error: 0.5005 - val_categorical_accuracy: 0.1273\n",
            "Epoch 3/50\n",
            "14/14 [==============================] - 3s 193ms/step - loss: 0.6926 - acc: 0.5000 - mean_absolute_error: 0.4997 - categorical_accuracy: 0.5000 - val_loss: 0.6945 - val_acc: 0.1273 - val_mean_absolute_error: 0.5007 - val_categorical_accuracy: 0.1273\n",
            "Epoch 4/50\n",
            "14/14 [==============================] - 3s 197ms/step - loss: 0.6909 - acc: 0.5714 - mean_absolute_error: 0.4988 - categorical_accuracy: 0.5714 - val_loss: 0.6949 - val_acc: 0.1273 - val_mean_absolute_error: 0.5009 - val_categorical_accuracy: 0.1273\n",
            "Epoch 5/50\n",
            "14/14 [==============================] - 3s 197ms/step - loss: 0.6896 - acc: 0.7857 - mean_absolute_error: 0.4982 - categorical_accuracy: 0.7857 - val_loss: 0.6952 - val_acc: 0.1273 - val_mean_absolute_error: 0.5010 - val_categorical_accuracy: 0.1273\n",
            "Epoch 6/50\n",
            "14/14 [==============================] - 3s 190ms/step - loss: 0.6937 - acc: 0.5000 - mean_absolute_error: 0.5003 - categorical_accuracy: 0.5000 - val_loss: 0.6956 - val_acc: 0.1273 - val_mean_absolute_error: 0.5012 - val_categorical_accuracy: 0.1273\n",
            "Epoch 7/50\n",
            "14/14 [==============================] - 3s 195ms/step - loss: 0.6882 - acc: 0.7857 - mean_absolute_error: 0.4975 - categorical_accuracy: 0.7857 - val_loss: 0.6960 - val_acc: 0.1273 - val_mean_absolute_error: 0.5014 - val_categorical_accuracy: 0.1273\n",
            "Epoch 8/50\n",
            "14/14 [==============================] - 3s 195ms/step - loss: 0.6903 - acc: 0.6429 - mean_absolute_error: 0.4986 - categorical_accuracy: 0.6429 - val_loss: 0.6964 - val_acc: 0.1273 - val_mean_absolute_error: 0.5016 - val_categorical_accuracy: 0.1273\n",
            "Epoch 9/50\n",
            "14/14 [==============================] - 3s 198ms/step - loss: 0.6905 - acc: 0.6429 - mean_absolute_error: 0.4986 - categorical_accuracy: 0.6429 - val_loss: 0.6968 - val_acc: 0.1273 - val_mean_absolute_error: 0.5018 - val_categorical_accuracy: 0.1273\n",
            "Epoch 10/50\n",
            "14/14 [==============================] - 3s 197ms/step - loss: 0.6898 - acc: 0.7857 - mean_absolute_error: 0.4983 - categorical_accuracy: 0.7857 - val_loss: 0.6971 - val_acc: 0.1273 - val_mean_absolute_error: 0.5020 - val_categorical_accuracy: 0.1273\n",
            "Epoch 11/50\n",
            "14/14 [==============================] - 3s 199ms/step - loss: 0.6900 - acc: 0.7857 - mean_absolute_error: 0.4984 - categorical_accuracy: 0.7857 - val_loss: 0.6975 - val_acc: 0.1273 - val_mean_absolute_error: 0.5022 - val_categorical_accuracy: 0.1273\n",
            "Epoch 12/50\n",
            "14/14 [==============================] - 3s 192ms/step - loss: 0.6851 - acc: 1.0000 - mean_absolute_error: 0.4960 - categorical_accuracy: 1.0000 - val_loss: 0.6979 - val_acc: 0.1273 - val_mean_absolute_error: 0.5024 - val_categorical_accuracy: 0.1273\n",
            "Epoch 13/50\n",
            "14/14 [==============================] - 3s 196ms/step - loss: 0.6880 - acc: 0.9286 - mean_absolute_error: 0.4974 - categorical_accuracy: 0.9286 - val_loss: 0.6983 - val_acc: 0.1273 - val_mean_absolute_error: 0.5025 - val_categorical_accuracy: 0.1273\n",
            "Epoch 14/50\n",
            "14/14 [==============================] - 3s 194ms/step - loss: 0.6838 - acc: 1.0000 - mean_absolute_error: 0.4953 - categorical_accuracy: 1.0000 - val_loss: 0.6986 - val_acc: 0.1273 - val_mean_absolute_error: 0.5027 - val_categorical_accuracy: 0.1273\n",
            "Epoch 15/50\n",
            "14/14 [==============================] - 3s 196ms/step - loss: 0.6868 - acc: 0.8571 - mean_absolute_error: 0.4968 - categorical_accuracy: 0.8571 - val_loss: 0.6990 - val_acc: 0.1273 - val_mean_absolute_error: 0.5029 - val_categorical_accuracy: 0.1273\n",
            "Epoch 16/50\n",
            "14/14 [==============================] - 3s 194ms/step - loss: 0.6860 - acc: 0.9286 - mean_absolute_error: 0.4964 - categorical_accuracy: 0.9286 - val_loss: 0.6994 - val_acc: 0.1273 - val_mean_absolute_error: 0.5031 - val_categorical_accuracy: 0.1273\n",
            "Epoch 17/50\n",
            "14/14 [==============================] - 3s 193ms/step - loss: 0.6834 - acc: 1.0000 - mean_absolute_error: 0.4951 - categorical_accuracy: 1.0000 - val_loss: 0.6998 - val_acc: 0.1273 - val_mean_absolute_error: 0.5033 - val_categorical_accuracy: 0.1273\n",
            "Epoch 18/50\n",
            "14/14 [==============================] - 3s 197ms/step - loss: 0.6825 - acc: 0.9286 - mean_absolute_error: 0.4946 - categorical_accuracy: 0.9286 - val_loss: 0.7001 - val_acc: 0.1273 - val_mean_absolute_error: 0.5035 - val_categorical_accuracy: 0.1273\n",
            "Epoch 19/50\n",
            "14/14 [==============================] - 3s 197ms/step - loss: 0.6828 - acc: 1.0000 - mean_absolute_error: 0.4948 - categorical_accuracy: 1.0000 - val_loss: 0.7005 - val_acc: 0.1273 - val_mean_absolute_error: 0.5037 - val_categorical_accuracy: 0.1273\n",
            "Epoch 20/50\n",
            "14/14 [==============================] - 3s 199ms/step - loss: 0.6814 - acc: 1.0000 - mean_absolute_error: 0.4941 - categorical_accuracy: 1.0000 - val_loss: 0.7009 - val_acc: 0.1273 - val_mean_absolute_error: 0.5038 - val_categorical_accuracy: 0.1273\n",
            "Epoch 21/50\n",
            "14/14 [==============================] - 3s 197ms/step - loss: 0.6846 - acc: 0.9286 - mean_absolute_error: 0.4957 - categorical_accuracy: 0.9286 - val_loss: 0.7013 - val_acc: 0.1273 - val_mean_absolute_error: 0.5040 - val_categorical_accuracy: 0.1273\n",
            "Epoch 22/50\n",
            "14/14 [==============================] - 3s 198ms/step - loss: 0.6814 - acc: 1.0000 - mean_absolute_error: 0.4941 - categorical_accuracy: 1.0000 - val_loss: 0.7016 - val_acc: 0.1273 - val_mean_absolute_error: 0.5042 - val_categorical_accuracy: 0.1273\n",
            "Epoch 23/50\n",
            "14/14 [==============================] - 3s 198ms/step - loss: 0.6857 - acc: 0.9286 - mean_absolute_error: 0.4963 - categorical_accuracy: 0.9286 - val_loss: 0.7020 - val_acc: 0.1273 - val_mean_absolute_error: 0.5044 - val_categorical_accuracy: 0.1273\n",
            "Epoch 24/50\n",
            "14/14 [==============================] - 3s 198ms/step - loss: 0.6810 - acc: 1.0000 - mean_absolute_error: 0.4939 - categorical_accuracy: 1.0000 - val_loss: 0.7024 - val_acc: 0.1273 - val_mean_absolute_error: 0.5046 - val_categorical_accuracy: 0.1273\n",
            "Epoch 25/50\n",
            "14/14 [==============================] - 3s 194ms/step - loss: 0.6796 - acc: 1.0000 - mean_absolute_error: 0.4932 - categorical_accuracy: 1.0000 - val_loss: 0.7028 - val_acc: 0.1273 - val_mean_absolute_error: 0.5048 - val_categorical_accuracy: 0.1273\n",
            "Epoch 26/50\n",
            "14/14 [==============================] - 3s 195ms/step - loss: 0.6811 - acc: 1.0000 - mean_absolute_error: 0.4939 - categorical_accuracy: 1.0000 - val_loss: 0.7032 - val_acc: 0.1273 - val_mean_absolute_error: 0.5050 - val_categorical_accuracy: 0.1273\n",
            "Epoch 27/50\n",
            "14/14 [==============================] - 3s 193ms/step - loss: 0.6791 - acc: 1.0000 - mean_absolute_error: 0.4929 - categorical_accuracy: 1.0000 - val_loss: 0.7035 - val_acc: 0.1273 - val_mean_absolute_error: 0.5051 - val_categorical_accuracy: 0.1273\n",
            "Epoch 28/50\n",
            "14/14 [==============================] - 3s 194ms/step - loss: 0.6792 - acc: 0.9286 - mean_absolute_error: 0.4930 - categorical_accuracy: 0.9286 - val_loss: 0.7039 - val_acc: 0.1273 - val_mean_absolute_error: 0.5053 - val_categorical_accuracy: 0.1273\n",
            "Epoch 29/50\n",
            "14/14 [==============================] - 3s 197ms/step - loss: 0.6780 - acc: 1.0000 - mean_absolute_error: 0.4923 - categorical_accuracy: 1.0000 - val_loss: 0.7043 - val_acc: 0.1273 - val_mean_absolute_error: 0.5055 - val_categorical_accuracy: 0.1273\n",
            "Epoch 30/50\n",
            "14/14 [==============================] - 3s 197ms/step - loss: 0.6806 - acc: 0.9286 - mean_absolute_error: 0.4937 - categorical_accuracy: 0.9286 - val_loss: 0.7047 - val_acc: 0.1273 - val_mean_absolute_error: 0.5057 - val_categorical_accuracy: 0.1273\n",
            "Epoch 31/50\n",
            "14/14 [==============================] - 3s 197ms/step - loss: 0.6794 - acc: 1.0000 - mean_absolute_error: 0.4931 - categorical_accuracy: 1.0000 - val_loss: 0.7050 - val_acc: 0.1273 - val_mean_absolute_error: 0.5059 - val_categorical_accuracy: 0.1273\n",
            "Epoch 32/50\n",
            "14/14 [==============================] - 3s 198ms/step - loss: 0.6793 - acc: 1.0000 - mean_absolute_error: 0.4930 - categorical_accuracy: 1.0000 - val_loss: 0.7054 - val_acc: 0.1273 - val_mean_absolute_error: 0.5061 - val_categorical_accuracy: 0.1273\n",
            "Epoch 33/50\n",
            "14/14 [==============================] - 3s 194ms/step - loss: 0.6777 - acc: 1.0000 - mean_absolute_error: 0.4922 - categorical_accuracy: 1.0000 - val_loss: 0.7058 - val_acc: 0.1273 - val_mean_absolute_error: 0.5063 - val_categorical_accuracy: 0.1273\n",
            "Epoch 34/50\n",
            "14/14 [==============================] - 3s 197ms/step - loss: 0.6752 - acc: 1.0000 - mean_absolute_error: 0.4910 - categorical_accuracy: 1.0000 - val_loss: 0.7062 - val_acc: 0.1273 - val_mean_absolute_error: 0.5064 - val_categorical_accuracy: 0.1273\n",
            "Epoch 35/50\n",
            "14/14 [==============================] - 3s 197ms/step - loss: 0.6751 - acc: 0.9286 - mean_absolute_error: 0.4909 - categorical_accuracy: 0.9286 - val_loss: 0.7066 - val_acc: 0.1273 - val_mean_absolute_error: 0.5066 - val_categorical_accuracy: 0.1273\n",
            "Epoch 36/50\n",
            "14/14 [==============================] - 3s 195ms/step - loss: 0.6756 - acc: 1.0000 - mean_absolute_error: 0.4911 - categorical_accuracy: 1.0000 - val_loss: 0.7069 - val_acc: 0.1273 - val_mean_absolute_error: 0.5068 - val_categorical_accuracy: 0.1273\n",
            "Epoch 37/50\n",
            "14/14 [==============================] - 3s 193ms/step - loss: 0.6723 - acc: 1.0000 - mean_absolute_error: 0.4894 - categorical_accuracy: 1.0000 - val_loss: 0.7073 - val_acc: 0.1273 - val_mean_absolute_error: 0.5070 - val_categorical_accuracy: 0.1273\n",
            "Epoch 38/50\n",
            "14/14 [==============================] - 3s 196ms/step - loss: 0.6788 - acc: 1.0000 - mean_absolute_error: 0.4928 - categorical_accuracy: 1.0000 - val_loss: 0.7077 - val_acc: 0.1273 - val_mean_absolute_error: 0.5072 - val_categorical_accuracy: 0.1273\n",
            "Epoch 39/50\n",
            "14/14 [==============================] - 3s 195ms/step - loss: 0.6703 - acc: 1.0000 - mean_absolute_error: 0.4884 - categorical_accuracy: 1.0000 - val_loss: 0.7081 - val_acc: 0.1273 - val_mean_absolute_error: 0.5074 - val_categorical_accuracy: 0.1273\n",
            "Epoch 40/50\n",
            "14/14 [==============================] - 3s 196ms/step - loss: 0.6742 - acc: 1.0000 - mean_absolute_error: 0.4904 - categorical_accuracy: 1.0000 - val_loss: 0.7084 - val_acc: 0.1273 - val_mean_absolute_error: 0.5075 - val_categorical_accuracy: 0.1273\n",
            "Epoch 41/50\n",
            "14/14 [==============================] - 3s 197ms/step - loss: 0.6750 - acc: 1.0000 - mean_absolute_error: 0.4909 - categorical_accuracy: 1.0000 - val_loss: 0.7088 - val_acc: 0.1273 - val_mean_absolute_error: 0.5077 - val_categorical_accuracy: 0.1273\n",
            "Epoch 42/50\n",
            "14/14 [==============================] - 3s 194ms/step - loss: 0.6714 - acc: 1.0000 - mean_absolute_error: 0.4890 - categorical_accuracy: 1.0000 - val_loss: 0.7092 - val_acc: 0.1273 - val_mean_absolute_error: 0.5079 - val_categorical_accuracy: 0.1273\n",
            "Epoch 43/50\n",
            "14/14 [==============================] - 3s 195ms/step - loss: 0.6727 - acc: 1.0000 - mean_absolute_error: 0.4896 - categorical_accuracy: 1.0000 - val_loss: 0.7096 - val_acc: 0.1273 - val_mean_absolute_error: 0.5081 - val_categorical_accuracy: 0.1273\n",
            "Epoch 44/50\n",
            "14/14 [==============================] - 3s 196ms/step - loss: 0.6721 - acc: 1.0000 - mean_absolute_error: 0.4893 - categorical_accuracy: 1.0000 - val_loss: 0.7100 - val_acc: 0.1273 - val_mean_absolute_error: 0.5083 - val_categorical_accuracy: 0.1273\n",
            "Epoch 45/50\n",
            "14/14 [==============================] - 3s 194ms/step - loss: 0.6693 - acc: 1.0000 - mean_absolute_error: 0.4879 - categorical_accuracy: 1.0000 - val_loss: 0.7103 - val_acc: 0.1273 - val_mean_absolute_error: 0.5085 - val_categorical_accuracy: 0.1273\n",
            "Epoch 46/50\n",
            "14/14 [==============================] - 3s 190ms/step - loss: 0.6692 - acc: 1.0000 - mean_absolute_error: 0.4879 - categorical_accuracy: 1.0000 - val_loss: 0.7107 - val_acc: 0.1273 - val_mean_absolute_error: 0.5086 - val_categorical_accuracy: 0.1273\n",
            "Epoch 47/50\n",
            "14/14 [==============================] - 3s 196ms/step - loss: 0.6661 - acc: 1.0000 - mean_absolute_error: 0.4863 - categorical_accuracy: 1.0000 - val_loss: 0.7111 - val_acc: 0.1273 - val_mean_absolute_error: 0.5088 - val_categorical_accuracy: 0.1273\n",
            "Epoch 48/50\n",
            "14/14 [==============================] - 3s 191ms/step - loss: 0.6669 - acc: 1.0000 - mean_absolute_error: 0.4867 - categorical_accuracy: 1.0000 - val_loss: 0.7115 - val_acc: 0.1273 - val_mean_absolute_error: 0.5090 - val_categorical_accuracy: 0.1273\n",
            "Epoch 49/50\n",
            "14/14 [==============================] - 3s 197ms/step - loss: 0.6683 - acc: 1.0000 - mean_absolute_error: 0.4874 - categorical_accuracy: 1.0000 - val_loss: 0.7118 - val_acc: 0.1273 - val_mean_absolute_error: 0.5092 - val_categorical_accuracy: 0.1273\n",
            "Epoch 50/50\n",
            "14/14 [==============================] - 3s 193ms/step - loss: 0.6702 - acc: 1.0000 - mean_absolute_error: 0.4884 - categorical_accuracy: 1.0000 - val_loss: 0.7122 - val_acc: 0.1273 - val_mean_absolute_error: 0.5094 - val_categorical_accuracy: 0.1273\n",
            "Training Data selesai\n"
          ],
          "name": "stdout"
        }
      ]
    },
    {
      "cell_type": "markdown",
      "metadata": {
        "id": "mO2z_NhecvGg",
        "colab_type": "text"
      },
      "source": [
        "### Plot Data"
      ]
    },
    {
      "cell_type": "code",
      "metadata": {
        "id": "1A3_i4L3cxPG",
        "colab_type": "code",
        "outputId": "0f1cad49-0c9e-474f-9b8a-bc42d70fa1f8",
        "colab": {
          "base_uri": "https://localhost:8080/",
          "height": 1000
        }
      },
      "source": [
        "import matplotlib.pyplot as plt\n",
        "plt.plot(history.history['loss'])\n",
        "plt.title(\"Model Loss\")\n",
        "plt.legend(['loss'])\n",
        "plt.grid()\n",
        "plt.show()\n",
        "plt.plot(history.history['acc'])\n",
        "plt.title(\"Model Accuracy\")\n",
        "plt.legend(['accuracy'])\n",
        "plt.grid()\n",
        "plt.show()\n",
        "plot_hasil(model, 'rvsmtr_1', rvsmtr1_x, rvsmtr1_y)"
      ],
      "execution_count": 0,
      "outputs": [
        {
          "output_type": "display_data",
          "data": {
            "image/png": "[encoded data removed]",
            "text/plain": [
              "<Figure size 432x288 with 1 Axes>"
            ]
          },
          "metadata": {
            "tags": []
          }
        },
        {
          "output_type": "display_data",
          "data": {
            "image/png": "[encoded data removed]",
            "text/plain": [
              "<Figure size 432x288 with 1 Axes>"
            ]
          },
          "metadata": {
            "tags": []
          }
        },
        {
          "output_type": "stream",
          "text": [
            "['loss', 'acc', 'mean_absolute_error', 'categorical_accuracy']\n",
            "Memulai evaluasi data rvsmtr_1 yang benar\n",
            "14/14 [==============================] - 0s 15ms/step\n",
            "Loss : 0\n",
            "Akurasi : 100% benar\n",
            "Abs Err : 0\n",
            "Categorical Cross Entropy : 1\n",
            "Memulai evaluasi data bukan rvsmtr_1\n",
            "96/96 [==============================] - 1s 14ms/step\n",
            "Loss : 0\n",
            "Akurasi : 0% benar\n",
            "Abs Err : 0\n",
            "Categorical Cross Entropy : 0\n",
            "Mencoba menganalisis paket sedikit sedikit Paket rvsmtr_1\n",
            "5/5 [==============================] - 0s 16ms/step\n",
            "Loss : 0\n",
            "Akurasi : 100% benar\n",
            "Abs Err : 0\n",
            "Categorical Cross Entropy : 1\n",
            "Mencoba menganalisis paket sedikit sedikit Paket Lain\n",
            "4/4 [==============================] - 0s 16ms/step\n",
            "Loss : 0\n",
            "Akurasi : 0% benar\n",
            "Abs Err : 0\n",
            "Categorical Cross Entropy : 0\n",
            "Mencoba memprediksi target dari input data\n",
            "Hasil Prediksi \n",
            "[[0.48712486 0.5128752 ]\n",
            " [0.4870829  0.51291716]\n",
            " [0.4876123  0.5123877 ]\n",
            " [0.4872587  0.51274127]\n",
            " [0.48725408 0.512746  ]\n",
            " [0.48716182 0.5128382 ]\n",
            " [0.4870156  0.5129844 ]\n",
            " [0.48707455 0.5129255 ]\n",
            " [0.48768148 0.51231855]\n",
            " [0.48741588 0.51258415]\n",
            " [0.48744988 0.5125502 ]\n",
            " [0.48735902 0.512641  ]\n",
            " [0.48699087 0.5130092 ]\n",
            " [0.48747808 0.5125219 ]]\n"
          ],
          "name": "stdout"
        }
      ]
    },
    {
      "cell_type": "markdown",
      "metadata": {
        "id": "w_33ESnHYqe0",
        "colab_type": "text"
      },
      "source": [
        "## Training Payload Based Virus (Multiple input)"
      ]
    },
    {
      "cell_type": "markdown",
      "metadata": {
        "id": "T7g-xnTpZaAi",
        "colab_type": "text"
      },
      "source": [
        "### Muat Data"
      ]
    },
    {
      "cell_type": "code",
      "metadata": {
        "id": "rX3amJbiczXZ",
        "colab_type": "code",
        "outputId": "cea251bf-dc61-4ddd-8897-4022728f431c",
        "colab": {
          "base_uri": "https://localhost:8080/",
          "height": 1000
        }
      },
      "source": [
        "data_rvsmtr1 = muat_data(rvsmtr_1)\n",
        "data_rvsmtr2 = muat_data(rvsmtr_2)\n",
        "data_rvsmtr3 = muat_data(rvsmtr_3)\n",
        "data_rvsmtr4 = muat_data(rvsmtr_4)\n",
        "\n",
        "data_firefox = muat_data(firefoxpath)\n",
        "data_normal2 = muat_data(normal_2)\n",
        "\n",
        "rvsmtr1_x, rvsmtr1_y = olah_data(data_rvsmtr1,1)\n",
        "rvsmtr2_x, rvsmtr2_y = olah_data(data_rvsmtr2,1)\n",
        "rvsmtr3_x, rvsmtr3_y = olah_data(data_rvsmtr3,1)\n",
        "rvsmtr4_x, rvsmtr4_y = olah_data(data_rvsmtr4,1)\n",
        "\n",
        "firefox_x, firefox_y = olah_data(data_firefox,0)\n",
        "normal1_x, normal1_y = olah_data(data_normal1,0)"
      ],
      "execution_count": 0,
      "outputs": [
        {
          "output_type": "stream",
          "text": [
            "Data sedang di muat...\n",
            "Data sedang di muat...\n",
            "Data sedang di muat...\n",
            "Data sedang di muat...\n",
            "Data sedang di muat...\n",
            "Data sedang di muat...\n",
            "Dengan ukuran : 40720 byte\n",
            "Data selesai di Load\n",
            "Melakukan pemecahan data...\n",
            "(14, 3000)\n",
            "(14, 1)\n",
            "Data selesai dipecah\n",
            "Pecahan data : 14 \n",
            "\n",
            "\n",
            "Dengan ukuran : 28432 byte\n",
            "Data selesai di Load\n",
            "Melakukan pemecahan data...\n",
            "(10, 3000)\n",
            "(10, 1)\n",
            "Data selesai dipecah\n",
            "Pecahan data : 10 \n",
            "\n",
            "\n",
            "Dengan ukuran : 89360 byte\n",
            "Data selesai di Load\n",
            "Melakukan pemecahan data...\n",
            "(30, 3000)\n",
            "(30, 1)\n",
            "Data selesai dipecah\n",
            "Pecahan data : 30 \n",
            "\n",
            "\n",
            "Dengan ukuran : 61200 byte\n",
            "Data selesai di Load\n",
            "Melakukan pemecahan data...\n",
            "(21, 3000)\n",
            "(21, 1)\n",
            "Data selesai dipecah\n",
            "Pecahan data : 21 \n",
            "\n",
            "\n",
            "Dengan ukuran : 285376 byte\n",
            "Data selesai di Load\n",
            "Melakukan pemecahan data...\n",
            "(96, 3000)\n",
            "(96, 1)\n",
            "Data selesai dipecah\n",
            "Pecahan data : 96 \n",
            "\n",
            "\n",
            "Dengan ukuran : 40720 byte\n",
            "Data selesai di Load\n",
            "Melakukan pemecahan data...\n",
            "(14, 3000)\n",
            "(14, 1)\n",
            "Data selesai dipecah\n",
            "Pecahan data : 14 \n",
            "\n",
            "\n"
          ],
          "name": "stdout"
        }
      ]
    },
    {
      "cell_type": "markdown",
      "metadata": {
        "id": "TctkdLqQcznH",
        "colab_type": "text"
      },
      "source": [
        "### Gabung Data"
      ]
    },
    {
      "cell_type": "code",
      "metadata": {
        "id": "aHzq8654c3P_",
        "colab_type": "code",
        "outputId": "87648b4c-9b4a-4973-b071-893fd4286053",
        "colab": {
          "base_uri": "https://localhost:8080/",
          "height": 54
        }
      },
      "source": [
        "from sklearn.utils import shuffle\n",
        "# Menggabungkan input\n",
        "input_x, input_y = rvsmtr1_x, rvsmtr1_y\n",
        "input_x = np.concatenate((input_x, rvsmtr2_x))\n",
        "input_x = np.concatenate((input_x, rvsmtr3_x))\n",
        "input_x = np.concatenate((input_x, rvsmtr4_x))\n",
        "\n",
        "input_y = np.concatenate((input_y, rvsmtr2_y))\n",
        "input_y = np.concatenate((input_y, rvsmtr3_y))\n",
        "input_y = np.concatenate((input_y, rvsmtr4_y))\n",
        "\n",
        "valid_x = np.concatenate((input_x, firefox_x))\n",
        "valid_y = np.concatenate((input_y, firefox_y))\n",
        "valid_x, valid_y = shuffle(valid_x, valid_y, random_state=0)\n",
        "print(valid_x.shape)\n",
        "print(input_y.shape)"
      ],
      "execution_count": 0,
      "outputs": [
        {
          "output_type": "stream",
          "text": [
            "(171, 3000)\n",
            "(75, 1)\n"
          ],
          "name": "stdout"
        }
      ]
    },
    {
      "cell_type": "markdown",
      "metadata": {
        "id": "V4EkgX3Cc08R",
        "colab_type": "text"
      },
      "source": [
        "### Training Data"
      ]
    },
    {
      "cell_type": "code",
      "metadata": {
        "id": "nFxp462Sc3mX",
        "colab_type": "code",
        "outputId": "6988eb5a-03f1-45f5-99cc-bb2acb246b86",
        "colab": {
          "base_uri": "https://localhost:8080/",
          "height": 1000
        }
      },
      "source": [
        "history = training_data(model, wrvsmtr_n, input_x, input_y, valid_x, valid_y)\n",
        "import pickle\n",
        "with open(hrvsmtr_n, 'wb') as file_pi:\n",
        "        pickle.dump(history.history, file_pi)"
      ],
      "execution_count": 0,
      "outputs": [
        {
          "output_type": "stream",
          "text": [
            "Memulai training data...\n",
            "Train on 75 samples, validate on 171 samples\n",
            "Epoch 1/50\n",
            "75/75 [==============================] - 12s 153ms/step - loss: 0.6938 - acc: 0.4267 - mean_absolute_error: 0.5003 - categorical_accuracy: 0.4267 - val_loss: 0.6937 - val_acc: 0.4035 - val_mean_absolute_error: 0.5003 - val_categorical_accuracy: 0.4035\n",
            "Epoch 2/50\n",
            "75/75 [==============================] - 9s 115ms/step - loss: 0.6918 - acc: 0.5333 - mean_absolute_error: 0.4993 - categorical_accuracy: 0.5333 - val_loss: 0.6939 - val_acc: 0.4386 - val_mean_absolute_error: 0.5004 - val_categorical_accuracy: 0.4386\n",
            "Epoch 3/50\n",
            "75/75 [==============================] - 9s 116ms/step - loss: 0.6905 - acc: 0.6667 - mean_absolute_error: 0.4987 - categorical_accuracy: 0.6667 - val_loss: 0.6941 - val_acc: 0.4386 - val_mean_absolute_error: 0.5005 - val_categorical_accuracy: 0.4386\n",
            "Epoch 4/50\n",
            "75/75 [==============================] - 9s 116ms/step - loss: 0.6890 - acc: 0.7867 - mean_absolute_error: 0.4979 - categorical_accuracy: 0.7867 - val_loss: 0.6943 - val_acc: 0.4386 - val_mean_absolute_error: 0.5006 - val_categorical_accuracy: 0.4386\n",
            "Epoch 5/50\n",
            "75/75 [==============================] - 9s 116ms/step - loss: 0.6874 - acc: 0.7600 - mean_absolute_error: 0.4971 - categorical_accuracy: 0.7600 - val_loss: 0.6945 - val_acc: 0.4386 - val_mean_absolute_error: 0.5007 - val_categorical_accuracy: 0.4386\n",
            "Epoch 6/50\n",
            "75/75 [==============================] - 9s 116ms/step - loss: 0.6876 - acc: 0.8800 - mean_absolute_error: 0.4972 - categorical_accuracy: 0.8800 - val_loss: 0.6947 - val_acc: 0.4386 - val_mean_absolute_error: 0.5007 - val_categorical_accuracy: 0.4386\n",
            "Epoch 7/50\n",
            "75/75 [==============================] - 8s 113ms/step - loss: 0.6853 - acc: 0.9067 - mean_absolute_error: 0.4961 - categorical_accuracy: 0.9067 - val_loss: 0.6949 - val_acc: 0.4386 - val_mean_absolute_error: 0.5008 - val_categorical_accuracy: 0.4386\n",
            "Epoch 8/50\n",
            "75/75 [==============================] - 9s 115ms/step - loss: 0.6832 - acc: 0.9333 - mean_absolute_error: 0.4950 - categorical_accuracy: 0.9333 - val_loss: 0.6951 - val_acc: 0.4386 - val_mean_absolute_error: 0.5009 - val_categorical_accuracy: 0.4386\n",
            "Epoch 9/50\n",
            "75/75 [==============================] - 9s 115ms/step - loss: 0.6815 - acc: 0.9733 - mean_absolute_error: 0.4941 - categorical_accuracy: 0.9733 - val_loss: 0.6953 - val_acc: 0.4386 - val_mean_absolute_error: 0.5010 - val_categorical_accuracy: 0.4386\n",
            "Epoch 10/50\n",
            "75/75 [==============================] - 9s 115ms/step - loss: 0.6796 - acc: 1.0000 - mean_absolute_error: 0.4932 - categorical_accuracy: 1.0000 - val_loss: 0.6955 - val_acc: 0.4386 - val_mean_absolute_error: 0.5011 - val_categorical_accuracy: 0.4386\n",
            "Epoch 11/50\n",
            "75/75 [==============================] - 9s 116ms/step - loss: 0.6786 - acc: 0.9733 - mean_absolute_error: 0.4926 - categorical_accuracy: 0.9733 - val_loss: 0.6957 - val_acc: 0.4386 - val_mean_absolute_error: 0.5012 - val_categorical_accuracy: 0.4386\n",
            "Epoch 12/50\n",
            "75/75 [==============================] - 9s 115ms/step - loss: 0.6768 - acc: 0.9867 - mean_absolute_error: 0.4917 - categorical_accuracy: 0.9867 - val_loss: 0.6959 - val_acc: 0.4386 - val_mean_absolute_error: 0.5013 - val_categorical_accuracy: 0.4386\n",
            "Epoch 13/50\n",
            "75/75 [==============================] - 9s 117ms/step - loss: 0.6759 - acc: 0.9867 - mean_absolute_error: 0.4913 - categorical_accuracy: 0.9867 - val_loss: 0.6961 - val_acc: 0.4386 - val_mean_absolute_error: 0.5014 - val_categorical_accuracy: 0.4386\n",
            "Epoch 14/50\n",
            "75/75 [==============================] - 9s 115ms/step - loss: 0.6745 - acc: 1.0000 - mean_absolute_error: 0.4906 - categorical_accuracy: 1.0000 - val_loss: 0.6963 - val_acc: 0.4386 - val_mean_absolute_error: 0.5015 - val_categorical_accuracy: 0.4386\n",
            "Epoch 15/50\n",
            "75/75 [==============================] - 9s 115ms/step - loss: 0.6728 - acc: 1.0000 - mean_absolute_error: 0.4897 - categorical_accuracy: 1.0000 - val_loss: 0.6965 - val_acc: 0.4386 - val_mean_absolute_error: 0.5016 - val_categorical_accuracy: 0.4386\n",
            "Epoch 16/50\n",
            "75/75 [==============================] - 9s 116ms/step - loss: 0.6715 - acc: 1.0000 - mean_absolute_error: 0.4890 - categorical_accuracy: 1.0000 - val_loss: 0.6967 - val_acc: 0.4386 - val_mean_absolute_error: 0.5017 - val_categorical_accuracy: 0.4386\n",
            "Epoch 17/50\n",
            "75/75 [==============================] - 9s 116ms/step - loss: 0.6685 - acc: 1.0000 - mean_absolute_error: 0.4875 - categorical_accuracy: 1.0000 - val_loss: 0.6970 - val_acc: 0.4386 - val_mean_absolute_error: 0.5017 - val_categorical_accuracy: 0.4386\n",
            "Epoch 18/50\n",
            "75/75 [==============================] - 9s 115ms/step - loss: 0.6687 - acc: 1.0000 - mean_absolute_error: 0.4876 - categorical_accuracy: 1.0000 - val_loss: 0.6972 - val_acc: 0.4386 - val_mean_absolute_error: 0.5018 - val_categorical_accuracy: 0.4386\n",
            "Epoch 19/50\n",
            "75/75 [==============================] - 9s 114ms/step - loss: 0.6666 - acc: 1.0000 - mean_absolute_error: 0.4865 - categorical_accuracy: 1.0000 - val_loss: 0.6974 - val_acc: 0.4386 - val_mean_absolute_error: 0.5019 - val_categorical_accuracy: 0.4386\n",
            "Epoch 20/50\n",
            "75/75 [==============================] - 9s 114ms/step - loss: 0.6656 - acc: 1.0000 - mean_absolute_error: 0.4860 - categorical_accuracy: 1.0000 - val_loss: 0.6976 - val_acc: 0.4386 - val_mean_absolute_error: 0.5020 - val_categorical_accuracy: 0.4386\n",
            "Epoch 21/50\n",
            "75/75 [==============================] - 9s 115ms/step - loss: 0.6646 - acc: 1.0000 - mean_absolute_error: 0.4855 - categorical_accuracy: 1.0000 - val_loss: 0.6979 - val_acc: 0.4386 - val_mean_absolute_error: 0.5021 - val_categorical_accuracy: 0.4386\n",
            "Epoch 22/50\n",
            "75/75 [==============================] - 9s 113ms/step - loss: 0.6627 - acc: 1.0000 - mean_absolute_error: 0.4846 - categorical_accuracy: 1.0000 - val_loss: 0.6981 - val_acc: 0.4386 - val_mean_absolute_error: 0.5022 - val_categorical_accuracy: 0.4386\n",
            "Epoch 23/50\n",
            "75/75 [==============================] - 9s 114ms/step - loss: 0.6619 - acc: 1.0000 - mean_absolute_error: 0.4841 - categorical_accuracy: 1.0000 - val_loss: 0.6983 - val_acc: 0.4386 - val_mean_absolute_error: 0.5023 - val_categorical_accuracy: 0.4386\n",
            "Epoch 24/50\n",
            "75/75 [==============================] - 9s 114ms/step - loss: 0.6603 - acc: 1.0000 - mean_absolute_error: 0.4833 - categorical_accuracy: 1.0000 - val_loss: 0.6985 - val_acc: 0.4386 - val_mean_absolute_error: 0.5024 - val_categorical_accuracy: 0.4386\n",
            "Epoch 25/50\n",
            "75/75 [==============================] - 9s 113ms/step - loss: 0.6589 - acc: 1.0000 - mean_absolute_error: 0.4826 - categorical_accuracy: 1.0000 - val_loss: 0.6988 - val_acc: 0.4386 - val_mean_absolute_error: 0.5025 - val_categorical_accuracy: 0.4386\n",
            "Epoch 26/50\n",
            "75/75 [==============================] - 8s 113ms/step - loss: 0.6578 - acc: 1.0000 - mean_absolute_error: 0.4820 - categorical_accuracy: 1.0000 - val_loss: 0.6990 - val_acc: 0.4386 - val_mean_absolute_error: 0.5026 - val_categorical_accuracy: 0.4386\n",
            "Epoch 27/50\n",
            "75/75 [==============================] - 9s 114ms/step - loss: 0.6561 - acc: 1.0000 - mean_absolute_error: 0.4811 - categorical_accuracy: 1.0000 - val_loss: 0.6992 - val_acc: 0.4386 - val_mean_absolute_error: 0.5026 - val_categorical_accuracy: 0.4386\n",
            "Epoch 28/50\n",
            "75/75 [==============================] - 8s 113ms/step - loss: 0.6528 - acc: 1.0000 - mean_absolute_error: 0.4794 - categorical_accuracy: 1.0000 - val_loss: 0.6995 - val_acc: 0.4386 - val_mean_absolute_error: 0.5027 - val_categorical_accuracy: 0.4386\n",
            "Epoch 29/50\n",
            "75/75 [==============================] - 8s 113ms/step - loss: 0.6530 - acc: 1.0000 - mean_absolute_error: 0.4795 - categorical_accuracy: 1.0000 - val_loss: 0.6997 - val_acc: 0.4386 - val_mean_absolute_error: 0.5028 - val_categorical_accuracy: 0.4386\n",
            "Epoch 30/50\n",
            "75/75 [==============================] - 8s 112ms/step - loss: 0.6515 - acc: 1.0000 - mean_absolute_error: 0.4787 - categorical_accuracy: 1.0000 - val_loss: 0.7000 - val_acc: 0.4386 - val_mean_absolute_error: 0.5029 - val_categorical_accuracy: 0.4386\n",
            "Epoch 31/50\n",
            "75/75 [==============================] - 9s 114ms/step - loss: 0.6493 - acc: 1.0000 - mean_absolute_error: 0.4776 - categorical_accuracy: 1.0000 - val_loss: 0.7002 - val_acc: 0.4386 - val_mean_absolute_error: 0.5030 - val_categorical_accuracy: 0.4386\n",
            "Epoch 32/50\n",
            "75/75 [==============================] - 9s 114ms/step - loss: 0.6479 - acc: 1.0000 - mean_absolute_error: 0.4768 - categorical_accuracy: 1.0000 - val_loss: 0.7004 - val_acc: 0.4386 - val_mean_absolute_error: 0.5031 - val_categorical_accuracy: 0.4386\n",
            "Epoch 33/50\n",
            "75/75 [==============================] - 9s 114ms/step - loss: 0.6482 - acc: 1.0000 - mean_absolute_error: 0.4770 - categorical_accuracy: 1.0000 - val_loss: 0.7007 - val_acc: 0.4386 - val_mean_absolute_error: 0.5032 - val_categorical_accuracy: 0.4386\n",
            "Epoch 34/50\n",
            "75/75 [==============================] - 9s 114ms/step - loss: 0.6447 - acc: 1.0000 - mean_absolute_error: 0.4751 - categorical_accuracy: 1.0000 - val_loss: 0.7009 - val_acc: 0.4386 - val_mean_absolute_error: 0.5033 - val_categorical_accuracy: 0.4386\n",
            "Epoch 35/50\n",
            "75/75 [==============================] - 9s 114ms/step - loss: 0.6446 - acc: 1.0000 - mean_absolute_error: 0.4751 - categorical_accuracy: 1.0000 - val_loss: 0.7012 - val_acc: 0.4386 - val_mean_absolute_error: 0.5034 - val_categorical_accuracy: 0.4386\n",
            "Epoch 36/50\n",
            "75/75 [==============================] - 8s 112ms/step - loss: 0.6426 - acc: 1.0000 - mean_absolute_error: 0.4740 - categorical_accuracy: 1.0000 - val_loss: 0.7014 - val_acc: 0.4386 - val_mean_absolute_error: 0.5034 - val_categorical_accuracy: 0.4386\n",
            "Epoch 37/50\n",
            "75/75 [==============================] - 8s 113ms/step - loss: 0.6416 - acc: 1.0000 - mean_absolute_error: 0.4736 - categorical_accuracy: 1.0000 - val_loss: 0.7017 - val_acc: 0.4386 - val_mean_absolute_error: 0.5035 - val_categorical_accuracy: 0.4386\n",
            "Epoch 38/50\n",
            "75/75 [==============================] - 8s 112ms/step - loss: 0.6417 - acc: 1.0000 - mean_absolute_error: 0.4736 - categorical_accuracy: 1.0000 - val_loss: 0.7019 - val_acc: 0.4386 - val_mean_absolute_error: 0.5036 - val_categorical_accuracy: 0.4386\n",
            "Epoch 39/50\n",
            "75/75 [==============================] - 9s 114ms/step - loss: 0.6376 - acc: 1.0000 - mean_absolute_error: 0.4714 - categorical_accuracy: 1.0000 - val_loss: 0.7022 - val_acc: 0.4386 - val_mean_absolute_error: 0.5037 - val_categorical_accuracy: 0.4386\n",
            "Epoch 40/50\n",
            "75/75 [==============================] - 8s 113ms/step - loss: 0.6376 - acc: 1.0000 - mean_absolute_error: 0.4714 - categorical_accuracy: 1.0000 - val_loss: 0.7025 - val_acc: 0.4386 - val_mean_absolute_error: 0.5038 - val_categorical_accuracy: 0.4386\n",
            "Epoch 41/50\n",
            "75/75 [==============================] - 9s 114ms/step - loss: 0.6356 - acc: 1.0000 - mean_absolute_error: 0.4704 - categorical_accuracy: 1.0000 - val_loss: 0.7027 - val_acc: 0.4386 - val_mean_absolute_error: 0.5039 - val_categorical_accuracy: 0.4386\n",
            "Epoch 42/50\n",
            "75/75 [==============================] - 9s 114ms/step - loss: 0.6358 - acc: 1.0000 - mean_absolute_error: 0.4705 - categorical_accuracy: 1.0000 - val_loss: 0.7030 - val_acc: 0.4386 - val_mean_absolute_error: 0.5040 - val_categorical_accuracy: 0.4386\n",
            "Epoch 43/50\n",
            "75/75 [==============================] - 8s 113ms/step - loss: 0.6335 - acc: 1.0000 - mean_absolute_error: 0.4692 - categorical_accuracy: 1.0000 - val_loss: 0.7032 - val_acc: 0.4386 - val_mean_absolute_error: 0.5040 - val_categorical_accuracy: 0.4386\n",
            "Epoch 44/50\n",
            "75/75 [==============================] - 8s 113ms/step - loss: 0.6316 - acc: 1.0000 - mean_absolute_error: 0.4683 - categorical_accuracy: 1.0000 - val_loss: 0.7035 - val_acc: 0.4386 - val_mean_absolute_error: 0.5041 - val_categorical_accuracy: 0.4386\n",
            "Epoch 45/50\n",
            "75/75 [==============================] - 8s 113ms/step - loss: 0.6320 - acc: 1.0000 - mean_absolute_error: 0.4685 - categorical_accuracy: 1.0000 - val_loss: 0.7038 - val_acc: 0.4386 - val_mean_absolute_error: 0.5042 - val_categorical_accuracy: 0.4386\n",
            "Epoch 46/50\n",
            "75/75 [==============================] - 8s 113ms/step - loss: 0.6304 - acc: 1.0000 - mean_absolute_error: 0.4676 - categorical_accuracy: 1.0000 - val_loss: 0.7040 - val_acc: 0.4386 - val_mean_absolute_error: 0.5043 - val_categorical_accuracy: 0.4386\n",
            "Epoch 47/50\n",
            "75/75 [==============================] - 8s 112ms/step - loss: 0.6291 - acc: 1.0000 - mean_absolute_error: 0.4669 - categorical_accuracy: 1.0000 - val_loss: 0.7043 - val_acc: 0.4386 - val_mean_absolute_error: 0.5044 - val_categorical_accuracy: 0.4386\n",
            "Epoch 48/50\n",
            "75/75 [==============================] - 8s 112ms/step - loss: 0.6259 - acc: 1.0000 - mean_absolute_error: 0.4652 - categorical_accuracy: 1.0000 - val_loss: 0.7046 - val_acc: 0.4386 - val_mean_absolute_error: 0.5045 - val_categorical_accuracy: 0.4386\n",
            "Epoch 49/50\n",
            "75/75 [==============================] - 9s 115ms/step - loss: 0.6263 - acc: 1.0000 - mean_absolute_error: 0.4654 - categorical_accuracy: 1.0000 - val_loss: 0.7048 - val_acc: 0.4386 - val_mean_absolute_error: 0.5046 - val_categorical_accuracy: 0.4386\n",
            "Epoch 50/50\n",
            "75/75 [==============================] - 9s 116ms/step - loss: 0.6251 - acc: 1.0000 - mean_absolute_error: 0.4648 - categorical_accuracy: 1.0000 - val_loss: 0.7051 - val_acc: 0.4386 - val_mean_absolute_error: 0.5046 - val_categorical_accuracy: 0.4386\n",
            "Training Data selesai\n"
          ],
          "name": "stdout"
        }
      ]
    },
    {
      "cell_type": "markdown",
      "metadata": {
        "id": "9rPr6mQyc18n",
        "colab_type": "text"
      },
      "source": [
        "### Plot Data"
      ]
    },
    {
      "cell_type": "code",
      "metadata": {
        "id": "8Jbx3AaIc5Gi",
        "colab_type": "code",
        "outputId": "8adcb291-5181-470a-c860-fe7da50aaa5f",
        "colab": {
          "base_uri": "https://localhost:8080/",
          "height": 1000
        }
      },
      "source": [
        "import matplotlib.pyplot as plt\n",
        "plt.plot(history.history['loss'])\n",
        "plt.title(\"Model Loss\")\n",
        "plt.legend(['loss'])\n",
        "plt.grid()\n",
        "plt.show()\n",
        "plt.plot(history.history['acc'])\n",
        "plt.title(\"Model Accuracy\")\n",
        "plt.legend(['accuracy'])\n",
        "plt.grid()\n",
        "plt.show()\n",
        "plot_hasil(model, 'rvsmtr_n', input_x, input_y)"
      ],
      "execution_count": 0,
      "outputs": [
        {
          "output_type": "display_data",
          "data": {
            "image/png": "[encoded data removed]",
            "text/plain": [
              "<Figure size 432x288 with 1 Axes>"
            ]
          },
          "metadata": {
            "tags": []
          }
        },
        {
          "output_type": "display_data",
          "data": {
            "image/png": "[encoded data removed]",
            "text/plain": [
              "<Figure size 432x288 with 1 Axes>"
            ]
          },
          "metadata": {
            "tags": []
          }
        },
        {
          "output_type": "stream",
          "text": [
            "['loss', 'acc', 'mean_absolute_error', 'categorical_accuracy']\n",
            "Memulai evaluasi data rvsmtr_n yang benar\n",
            "75/75 [==============================] - 1s 13ms/step\n",
            "Loss : 0\n",
            "Akurasi : 100% benar\n",
            "Abs Err : 0\n",
            "Categorical Cross Entropy : 1\n",
            "Memulai evaluasi data bukan rvsmtr_n\n",
            "96/96 [==============================] - 1s 14ms/step\n",
            "Loss : 0\n",
            "Akurasi : 0% benar\n",
            "Abs Err : 0\n",
            "Categorical Cross Entropy : 0\n",
            "Mencoba menganalisis paket sedikit sedikit Paket rvsmtr_n\n",
            "5/5 [==============================] - 0s 16ms/step\n",
            "Loss : 0\n",
            "Akurasi : 100% benar\n",
            "Abs Err : 0\n",
            "Categorical Cross Entropy : 1\n",
            "Mencoba menganalisis paket sedikit sedikit Paket Lain\n",
            "4/4 [==============================] - 0s 17ms/step\n",
            "Loss : 0\n",
            "Akurasi : 0% benar\n",
            "Abs Err : 0\n",
            "Categorical Cross Entropy : 0\n",
            "Mencoba memprediksi target dari input data\n",
            "Hasil Prediksi \n",
            "[[0.4644237  0.53557634]\n",
            " [0.46495557 0.53504443]\n",
            " [0.46359316 0.53640693]\n",
            " [0.46421695 0.53578305]\n",
            " [0.46392974 0.5360703 ]\n",
            " [0.46375147 0.53624856]\n",
            " [0.46352848 0.53647155]\n",
            " [0.46465954 0.5353404 ]\n",
            " [0.4640527  0.5359473 ]\n",
            " [0.46411926 0.5358808 ]\n",
            " [0.46348605 0.5365139 ]\n",
            " [0.46350673 0.53649324]\n",
            " [0.46341568 0.5365843 ]\n",
            " [0.46405435 0.5359456 ]\n",
            " [0.46445894 0.535541  ]\n",
            " [0.46485698 0.535143  ]\n",
            " [0.4637333  0.53626674]\n",
            " [0.4628643  0.53713566]\n",
            " [0.46359798 0.536402  ]\n",
            " [0.46339136 0.53660864]\n",
            " [0.4636609  0.53633916]\n",
            " [0.46393183 0.53606814]\n",
            " [0.46356276 0.5364372 ]\n",
            " [0.4641064  0.53589356]\n",
            " [0.46436828 0.53563166]\n",
            " [0.46496305 0.53503686]\n",
            " [0.46363884 0.5363612 ]\n",
            " [0.46338484 0.53661513]\n",
            " [0.46325773 0.5367422 ]\n",
            " [0.4638405  0.53615946]\n",
            " [0.46340075 0.5365992 ]\n",
            " [0.46423984 0.53576016]\n",
            " [0.4640936  0.53590643]\n",
            " [0.46424398 0.53575605]\n",
            " [0.46370772 0.53629225]\n",
            " [0.46399382 0.5360062 ]\n",
            " [0.4640312  0.5359688 ]\n",
            " [0.46390933 0.5360906 ]\n",
            " [0.46375138 0.53624856]\n",
            " [0.46433893 0.53566104]\n",
            " [0.46404296 0.535957  ]\n",
            " [0.46407574 0.5359242 ]\n",
            " [0.46357232 0.5364277 ]\n",
            " [0.46370766 0.5362923 ]\n",
            " [0.46395555 0.5360445 ]\n",
            " [0.4634774  0.5365227 ]\n",
            " [0.46365336 0.5363467 ]\n",
            " [0.46386352 0.5361365 ]\n",
            " [0.46398175 0.5360183 ]\n",
            " [0.4638     0.5362    ]\n",
            " [0.46355593 0.536444  ]\n",
            " [0.4640275  0.5359725 ]\n",
            " [0.4638992  0.53610086]\n",
            " [0.463653   0.53634703]\n",
            " [0.4643891  0.5356109 ]\n",
            " [0.46467215 0.53532785]\n",
            " [0.46365848 0.53634155]\n",
            " [0.46411338 0.53588665]\n",
            " [0.46332335 0.5366767 ]\n",
            " [0.46353593 0.53646404]\n",
            " [0.4637078  0.5362922 ]\n",
            " [0.464025   0.5359751 ]\n",
            " [0.4633218  0.53667814]\n",
            " [0.4632772  0.53672284]\n",
            " [0.463218   0.5367819 ]\n",
            " [0.4635995  0.53640056]\n",
            " [0.4634848  0.53651524]\n",
            " [0.46342316 0.5365768 ]\n",
            " [0.46362874 0.5363713 ]\n",
            " [0.46312666 0.5368734 ]\n",
            " [0.46313357 0.53686637]\n",
            " [0.46404752 0.53595245]\n",
            " [0.46395347 0.53604656]\n",
            " [0.4642604  0.53573966]\n",
            " [0.46405274 0.5359472 ]]\n"
          ],
          "name": "stdout"
        }
      ]
    }
  ]
}