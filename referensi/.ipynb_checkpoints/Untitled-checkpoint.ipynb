{
 "cells": [
  {
   "cell_type": "code",
   "execution_count": null,
   "metadata": {
    "autoscroll": false,
    "collapsed": false,
    "ein.hycell": false,
    "ein.tags": "worksheet-0",
    "slideshow": {
     "slide_type": "-"
    }
   },
   "outputs": [],
   "source": [
    "import skimage.data\n",
    "import numpy\n",
    "import matplotlib.pylab as plt\n",
    "img = skimage.data.chelsea()\n",
    "img = skimage.color.rgb2gray(img)\n",
    "l1_filter = numpy.zeros((2,3,3))\n",
    "l1_filter[0, :, :] = numpy.array([[[-1, 0, 1],[-1, 0, 1],[-1, 0, 1]]])\n",
    "l1_filter[1, :, :] = numpy.array([[[1, 1, 1],[0, 0, 0],[-1, -1, -1]]])\n",
    "\n",
    "def conv(img, conv_filter):\n",
    "    if len(img.shape) > 2 or len(conv_filter.shape) > 3:\n",
    "        if img.shape[-1] != conv_filter.shape[-1]:\n",
    "            print(\"Error: Number of channels in both image and filter must match.\")\n",
    "            sys.exit()\n",
    "            \n",
    "    if conv_filter.shape[1] != conv_filter.shape[2]:\n",
    "        print('Error: Filter must be a square matrix. I. e. number of rows and columns must match.')\n",
    "        sys.exit()\n",
    "\n",
    "    if conv_filter.shape[1]%2==0: # Check if filter dimensions are odd\n",
    "        print('Error: Filter must have an odd size. I. e. number of rows and columns must be odd.')\n",
    "        sys.exit()\n",
    "\n",
    "    feature_maps = numpy.zeros((img.shape[0]-conv_filter.shape[1]+1,\n",
    "                                img.shape[1]-conv_filter.shape[1]+1,\n",
    "                                conv_filter.shape[0]))\n",
    "    for filter_num in range(conv_filter.shape[0]):\n",
    "        print(\"Filter \", filter_num + 1)\n",
    "        curr_filter = conv_filter[filter_num, :]\n",
    "\n",
    "        if len(curr_filter.shape) > 2:\n",
    "            conv_map = conv_(img[:, :, 0], curr_fitler[:, :, 0])\n",
    "            for ch_num in range(1, curr_filter.shape[-1]):\n",
    "\n",
    "# Kelanjutannya cek https://www.kdnuggets.com/2018/04/building-convolutional-neural-network-numpy-scratch.html\n",
    "        \n",
    "l1_feature_map = conv(img, l1_filter)\n",
    "         "
   ]
  }
 ],
 "metadata": {
  "kernelspec": {
   "display_name": "Python 3",
   "name": "python3"
  },
  "name": "Untitled.ipynb"
 },
 "nbformat": 4,
 "nbformat_minor": 2
}
